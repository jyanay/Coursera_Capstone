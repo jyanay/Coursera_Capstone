{
 "cells": [
  {
   "cell_type": "markdown",
   "metadata": {
    "pycharm": {
     "name": "#%% md\n"
    }
   },
   "source": [
    "## This notebook is for Segmenting and Clustering Neighborhoods in Toronto Assignment\n",
    "\n",
    "\n",
    "\n"
   ]
  },
  {
   "cell_type": "markdown",
   "source": [
    "# Part 1"
   ],
   "metadata": {
    "collapsed": false,
    "pycharm": {
     "name": "#%% md\n"
    }
   }
  },
  {
   "cell_type": "code",
   "execution_count": 2,
   "metadata": {
    "pycharm": {
     "is_executing": false,
     "name": "#%%\n"
    }
   },
   "outputs": [],
   "source": [
    "#Import Pandas and Numpy\n",
    "import pandas as pd\n",
    "import numpy as np"
   ]
  },
  {
   "cell_type": "markdown",
   "metadata": {
    "pycharm": {
     "name": "#%% md\n"
    }
   },
   "source": [
    "Use pandas 'read_html' to read table from URL\n",
    "\n"
   ]
  },
  {
   "cell_type": "code",
   "execution_count": 3,
   "metadata": {
    "pycharm": {
     "is_executing": false,
     "name": "#%%\n"
    }
   },
   "outputs": [],
   "source": [
    "#Read in data from HTML\n",
    "url = 'https://en.wikipedia.org/wiki/List_of_postal_codes_of_Canada:_M'\n",
    "\n",
    "dfs = pd.read_html(url)"
   ]
  },
  {
   "cell_type": "markdown",
   "metadata": {
    "pycharm": {
     "name": "#%% md\n"
    }
   },
   "source": [
    "The above produced a list, looking at the list showed that the information I need was at index 0\n",
    "\n",
    "\n"
   ]
  },
  {
   "cell_type": "code",
   "execution_count": 4,
   "metadata": {
    "pycharm": {
     "is_executing": false,
     "name": "#%%\n"
    }
   },
   "outputs": [],
   "source": [
    "#I reset the dfs variable so it contains only the information I need, which is at index 0\n",
    "dfs = dfs[0]"
   ]
  },
  {
   "cell_type": "markdown",
   "metadata": {
    "pycharm": {
     "name": "#%% md\n"
    }
   },
   "source": [
    "Checking that our data is right\n",
    "\n"
   ]
  },
  {
   "cell_type": "code",
   "execution_count": 5,
   "metadata": {
    "pycharm": {
     "name": "#%%\n",
     "is_executing": false
    }
   },
   "outputs": [
    {
     "data": {
      "text/plain": "    Postal Code           Borough  \\\n0           M1A      Not assigned   \n1           M2A      Not assigned   \n2           M3A        North York   \n3           M4A        North York   \n4           M5A  Downtown Toronto   \n..          ...               ...   \n175         M5Z      Not assigned   \n176         M6Z      Not assigned   \n177         M7Z      Not assigned   \n178         M8Z         Etobicoke   \n179         M9Z      Not assigned   \n\n                                          Neighborhood  \n0                                                  NaN  \n1                                                  NaN  \n2                                            Parkwoods  \n3                                     Victoria Village  \n4                            Regent Park, Harbourfront  \n..                                                 ...  \n175                                                NaN  \n176                                                NaN  \n177                                                NaN  \n178  Mimico NW, The Queensway West, South of Bloor,...  \n179                                                NaN  \n\n[180 rows x 3 columns]",
      "text/html": "<div>\n<style scoped>\n    .dataframe tbody tr th:only-of-type {\n        vertical-align: middle;\n    }\n\n    .dataframe tbody tr th {\n        vertical-align: top;\n    }\n\n    .dataframe thead th {\n        text-align: right;\n    }\n</style>\n<table border=\"1\" class=\"dataframe\">\n  <thead>\n    <tr style=\"text-align: right;\">\n      <th></th>\n      <th>Postal Code</th>\n      <th>Borough</th>\n      <th>Neighborhood</th>\n    </tr>\n  </thead>\n  <tbody>\n    <tr>\n      <th>0</th>\n      <td>M1A</td>\n      <td>Not assigned</td>\n      <td>NaN</td>\n    </tr>\n    <tr>\n      <th>1</th>\n      <td>M2A</td>\n      <td>Not assigned</td>\n      <td>NaN</td>\n    </tr>\n    <tr>\n      <th>2</th>\n      <td>M3A</td>\n      <td>North York</td>\n      <td>Parkwoods</td>\n    </tr>\n    <tr>\n      <th>3</th>\n      <td>M4A</td>\n      <td>North York</td>\n      <td>Victoria Village</td>\n    </tr>\n    <tr>\n      <th>4</th>\n      <td>M5A</td>\n      <td>Downtown Toronto</td>\n      <td>Regent Park, Harbourfront</td>\n    </tr>\n    <tr>\n      <th>...</th>\n      <td>...</td>\n      <td>...</td>\n      <td>...</td>\n    </tr>\n    <tr>\n      <th>175</th>\n      <td>M5Z</td>\n      <td>Not assigned</td>\n      <td>NaN</td>\n    </tr>\n    <tr>\n      <th>176</th>\n      <td>M6Z</td>\n      <td>Not assigned</td>\n      <td>NaN</td>\n    </tr>\n    <tr>\n      <th>177</th>\n      <td>M7Z</td>\n      <td>Not assigned</td>\n      <td>NaN</td>\n    </tr>\n    <tr>\n      <th>178</th>\n      <td>M8Z</td>\n      <td>Etobicoke</td>\n      <td>Mimico NW, The Queensway West, South of Bloor,...</td>\n    </tr>\n    <tr>\n      <th>179</th>\n      <td>M9Z</td>\n      <td>Not assigned</td>\n      <td>NaN</td>\n    </tr>\n  </tbody>\n</table>\n<p>180 rows × 3 columns</p>\n</div>"
     },
     "metadata": {},
     "output_type": "execute_result",
     "execution_count": 5
    }
   ],
   "source": [
    "dfs"
   ]
  },
  {
   "cell_type": "markdown",
   "metadata": {
    "pycharm": {
     "name": "#%% md\n"
    }
   },
   "source": [
    "I'm dropping all rows that have 'Not assigned' as a Borough"
   ]
  },
  {
   "cell_type": "code",
   "execution_count": 6,
   "metadata": {
    "pycharm": {
     "is_executing": false
    }
   },
   "outputs": [
    {
     "data": {
      "text/plain": "    Postal Code           Borough  \\\n2           M3A        North York   \n3           M4A        North York   \n4           M5A  Downtown Toronto   \n5           M6A        North York   \n6           M7A  Downtown Toronto   \n..          ...               ...   \n160         M8X         Etobicoke   \n165         M4Y  Downtown Toronto   \n168         M7Y      East Toronto   \n169         M8Y         Etobicoke   \n178         M8Z         Etobicoke   \n\n                                          Neighborhood  \n2                                            Parkwoods  \n3                                     Victoria Village  \n4                            Regent Park, Harbourfront  \n5                     Lawrence Manor, Lawrence Heights  \n6          Queen's Park, Ontario Provincial Government  \n..                                                 ...  \n160      The Kingsway, Montgomery Road, Old Mill North  \n165                               Church and Wellesley  \n168              Business reply mail Processing Centre  \n169  Old Mill South, King's Mill Park, Sunnylea, Hu...  \n178  Mimico NW, The Queensway West, South of Bloor,...  \n\n[103 rows x 3 columns]",
      "text/html": "<div>\n<style scoped>\n    .dataframe tbody tr th:only-of-type {\n        vertical-align: middle;\n    }\n\n    .dataframe tbody tr th {\n        vertical-align: top;\n    }\n\n    .dataframe thead th {\n        text-align: right;\n    }\n</style>\n<table border=\"1\" class=\"dataframe\">\n  <thead>\n    <tr style=\"text-align: right;\">\n      <th></th>\n      <th>Postal Code</th>\n      <th>Borough</th>\n      <th>Neighborhood</th>\n    </tr>\n  </thead>\n  <tbody>\n    <tr>\n      <th>2</th>\n      <td>M3A</td>\n      <td>North York</td>\n      <td>Parkwoods</td>\n    </tr>\n    <tr>\n      <th>3</th>\n      <td>M4A</td>\n      <td>North York</td>\n      <td>Victoria Village</td>\n    </tr>\n    <tr>\n      <th>4</th>\n      <td>M5A</td>\n      <td>Downtown Toronto</td>\n      <td>Regent Park, Harbourfront</td>\n    </tr>\n    <tr>\n      <th>5</th>\n      <td>M6A</td>\n      <td>North York</td>\n      <td>Lawrence Manor, Lawrence Heights</td>\n    </tr>\n    <tr>\n      <th>6</th>\n      <td>M7A</td>\n      <td>Downtown Toronto</td>\n      <td>Queen's Park, Ontario Provincial Government</td>\n    </tr>\n    <tr>\n      <th>...</th>\n      <td>...</td>\n      <td>...</td>\n      <td>...</td>\n    </tr>\n    <tr>\n      <th>160</th>\n      <td>M8X</td>\n      <td>Etobicoke</td>\n      <td>The Kingsway, Montgomery Road, Old Mill North</td>\n    </tr>\n    <tr>\n      <th>165</th>\n      <td>M4Y</td>\n      <td>Downtown Toronto</td>\n      <td>Church and Wellesley</td>\n    </tr>\n    <tr>\n      <th>168</th>\n      <td>M7Y</td>\n      <td>East Toronto</td>\n      <td>Business reply mail Processing Centre</td>\n    </tr>\n    <tr>\n      <th>169</th>\n      <td>M8Y</td>\n      <td>Etobicoke</td>\n      <td>Old Mill South, King's Mill Park, Sunnylea, Hu...</td>\n    </tr>\n    <tr>\n      <th>178</th>\n      <td>M8Z</td>\n      <td>Etobicoke</td>\n      <td>Mimico NW, The Queensway West, South of Bloor,...</td>\n    </tr>\n  </tbody>\n</table>\n<p>103 rows × 3 columns</p>\n</div>"
     },
     "metadata": {},
     "output_type": "execute_result",
     "execution_count": 6
    }
   ],
   "source": [
    "#Drop unwanted rows\n",
    "df = dfs[~dfs['Borough'].isin(['Not assigned'])]\n",
    "\n",
    "#check our df\n",
    "df"
   ]
  },
  {
   "cell_type": "markdown",
   "metadata": {
    "pycharm": {
     "name": "#%% md\n"
    }
   },
   "source": [
    "Let's print how many rows we have in our dataframe.\n"
   ]
  },
  {
   "cell_type": "code",
   "execution_count": 7,
   "metadata": {
    "pycharm": {
     "is_executing": false
    }
   },
   "outputs": [
    {
     "name": "stdout",
     "text": [
      "We have 103 rows in our dataframe\n"
     ],
     "output_type": "stream"
    }
   ],
   "source": [
    "#print rows in dataframe using shape\n",
    "print('We have {} rows in our dataframe'.format(df.shape[0]))"
   ]
  },
  {
   "cell_type": "markdown",
   "metadata": {
    "pycharm": {
     "name": "#%% md\n"
    }
   },
   "source": [
    "# Part 2"
   ]
  },
  {
   "cell_type": "markdown",
   "metadata": {
    "pycharm": {
     "name": "#%% md\n"
    }
   },
   "source": [
    "We'll use geocoder package to get latitude and longitude coordinates for each neighborhood and insert that into our dataframe."
   ]
  },
  {
   "cell_type": "code",
   "execution_count": 8,
   "outputs": [
    {
     "name": "stdout",
     "text": [
      "Geocoder imported\n"
     ],
     "output_type": "stream"
    }
   ],
   "source": [
    "# Import geocoder\n",
    "import geocoder\n",
    "print('Geocoder imported')"
   ],
   "metadata": {
    "collapsed": false,
    "pycharm": {
     "name": "#%%\n",
     "is_executing": false
    }
   }
  },
  {
   "cell_type": "markdown",
   "source": [
    "Below I'll use a for loop to fill my dataframe with latlng for neighborhoods from geocoder"
   ],
   "metadata": {
    "collapsed": false,
    "pycharm": {
     "name": "#%% md\n",
     "is_executing": false
    }
   }
  },
  {
   "cell_type": "code",
   "execution_count": 9,
   "outputs": [
    {
     "name": "stderr",
     "text": [
      "C:\\Users\\jyana\\Documents\\Coursera\\Coursera_Capstone\\venv\\lib\\site-packages\\pandas\\core\\indexing.py:845: SettingWithCopyWarning: \n",
      "A value is trying to be set on a copy of a slice from a DataFrame.\n",
      "Try using .loc[row_indexer,col_indexer] = value instead\n",
      "\n",
      "See the caveats in the documentation: https://pandas.pydata.org/pandas-docs/stable/user_guide/indexing.html#returning-a-view-versus-a-copy\n",
      "  self.obj[key] = _infer_fill_value(value)\n",
      "C:\\Users\\jyana\\Documents\\Coursera\\Coursera_Capstone\\venv\\lib\\site-packages\\pandas\\core\\indexing.py:966: SettingWithCopyWarning: \n",
      "A value is trying to be set on a copy of a slice from a DataFrame.\n",
      "Try using .loc[row_indexer,col_indexer] = value instead\n",
      "\n",
      "See the caveats in the documentation: https://pandas.pydata.org/pandas-docs/stable/user_guide/indexing.html#returning-a-view-versus-a-copy\n",
      "  self.obj[item] = s\n"
     ],
     "output_type": "stream"
    }
   ],
   "source": [
    "\n",
    "\n",
    "for postal_code in df['Postal Code']:\n",
    "    lat_lng_coords = None\n",
    "    \n",
    "    while lat_lng_coords is None:\n",
    "        g = geocoder.google('{}, Toronto, Ontario'.format(postal_code), key='**REMOVED**')\n",
    "        lat_lng_coords = g.latlng\n",
    "        df.loc[df['Postal Code'] == postal_code, 'latitude'] = lat_lng_coords[0]\n",
    "        df.loc[df['Postal Code'] == postal_code, 'longitude'] = lat_lng_coords[1]\n",
    "    \n"
   ],
   "metadata": {
    "collapsed": false,
    "pycharm": {
     "name": "#%%\n",
     "is_executing": false
    }
   }
  },
  {
   "cell_type": "markdown",
   "source": [
    "Now I'll take a look at my new data:\n"
   ],
   "metadata": {
    "collapsed": false,
    "pycharm": {
     "name": "#%% md\n"
    }
   }
  },
  {
   "cell_type": "code",
   "source": [
    "df\n"
   ],
   "metadata": {
    "collapsed": false,
    "pycharm": {
     "name": "#%%\n",
     "is_executing": false
    }
   },
   "execution_count": 10,
   "outputs": [
    {
     "data": {
      "text/plain": "    Postal Code           Borough  \\\n2           M3A        North York   \n3           M4A        North York   \n4           M5A  Downtown Toronto   \n5           M6A        North York   \n6           M7A  Downtown Toronto   \n..          ...               ...   \n160         M8X         Etobicoke   \n165         M4Y  Downtown Toronto   \n168         M7Y      East Toronto   \n169         M8Y         Etobicoke   \n178         M8Z         Etobicoke   \n\n                                          Neighborhood   latitude  longitude  \n2                                            Parkwoods  43.753259 -79.329656  \n3                                     Victoria Village  43.725882 -79.315572  \n4                            Regent Park, Harbourfront  43.654260 -79.360636  \n5                     Lawrence Manor, Lawrence Heights  43.718518 -79.464763  \n6          Queen's Park, Ontario Provincial Government  43.662301 -79.389494  \n..                                                 ...        ...        ...  \n160      The Kingsway, Montgomery Road, Old Mill North  43.653654 -79.506944  \n165                               Church and Wellesley  43.665860 -79.383160  \n168              Business reply mail Processing Centre  43.662744 -79.321558  \n169  Old Mill South, King's Mill Park, Sunnylea, Hu...  43.636258 -79.498509  \n178  Mimico NW, The Queensway West, South of Bloor,...  43.628841 -79.520999  \n\n[103 rows x 5 columns]",
      "text/html": "<div>\n<style scoped>\n    .dataframe tbody tr th:only-of-type {\n        vertical-align: middle;\n    }\n\n    .dataframe tbody tr th {\n        vertical-align: top;\n    }\n\n    .dataframe thead th {\n        text-align: right;\n    }\n</style>\n<table border=\"1\" class=\"dataframe\">\n  <thead>\n    <tr style=\"text-align: right;\">\n      <th></th>\n      <th>Postal Code</th>\n      <th>Borough</th>\n      <th>Neighborhood</th>\n      <th>latitude</th>\n      <th>longitude</th>\n    </tr>\n  </thead>\n  <tbody>\n    <tr>\n      <th>2</th>\n      <td>M3A</td>\n      <td>North York</td>\n      <td>Parkwoods</td>\n      <td>43.753259</td>\n      <td>-79.329656</td>\n    </tr>\n    <tr>\n      <th>3</th>\n      <td>M4A</td>\n      <td>North York</td>\n      <td>Victoria Village</td>\n      <td>43.725882</td>\n      <td>-79.315572</td>\n    </tr>\n    <tr>\n      <th>4</th>\n      <td>M5A</td>\n      <td>Downtown Toronto</td>\n      <td>Regent Park, Harbourfront</td>\n      <td>43.654260</td>\n      <td>-79.360636</td>\n    </tr>\n    <tr>\n      <th>5</th>\n      <td>M6A</td>\n      <td>North York</td>\n      <td>Lawrence Manor, Lawrence Heights</td>\n      <td>43.718518</td>\n      <td>-79.464763</td>\n    </tr>\n    <tr>\n      <th>6</th>\n      <td>M7A</td>\n      <td>Downtown Toronto</td>\n      <td>Queen's Park, Ontario Provincial Government</td>\n      <td>43.662301</td>\n      <td>-79.389494</td>\n    </tr>\n    <tr>\n      <th>...</th>\n      <td>...</td>\n      <td>...</td>\n      <td>...</td>\n      <td>...</td>\n      <td>...</td>\n    </tr>\n    <tr>\n      <th>160</th>\n      <td>M8X</td>\n      <td>Etobicoke</td>\n      <td>The Kingsway, Montgomery Road, Old Mill North</td>\n      <td>43.653654</td>\n      <td>-79.506944</td>\n    </tr>\n    <tr>\n      <th>165</th>\n      <td>M4Y</td>\n      <td>Downtown Toronto</td>\n      <td>Church and Wellesley</td>\n      <td>43.665860</td>\n      <td>-79.383160</td>\n    </tr>\n    <tr>\n      <th>168</th>\n      <td>M7Y</td>\n      <td>East Toronto</td>\n      <td>Business reply mail Processing Centre</td>\n      <td>43.662744</td>\n      <td>-79.321558</td>\n    </tr>\n    <tr>\n      <th>169</th>\n      <td>M8Y</td>\n      <td>Etobicoke</td>\n      <td>Old Mill South, King's Mill Park, Sunnylea, Hu...</td>\n      <td>43.636258</td>\n      <td>-79.498509</td>\n    </tr>\n    <tr>\n      <th>178</th>\n      <td>M8Z</td>\n      <td>Etobicoke</td>\n      <td>Mimico NW, The Queensway West, South of Bloor,...</td>\n      <td>43.628841</td>\n      <td>-79.520999</td>\n    </tr>\n  </tbody>\n</table>\n<p>103 rows × 5 columns</p>\n</div>"
     },
     "metadata": {},
     "output_type": "execute_result",
     "execution_count": 10
    }
   ]
  },
  {
   "cell_type": "markdown",
   "source": [
    "# Part 3"
   ],
   "metadata": {
    "collapsed": false
   }
  },
  {
   "cell_type": "markdown",
   "source": [
    "Get toronto neighborhoods from data in part 2"
   ],
   "metadata": {
    "collapsed": false
   }
  },
  {
   "cell_type": "code",
   "execution_count": 11,
   "outputs": [
    {
     "data": {
      "text/plain": "   Postal Code           Borough                                 Neighborhood  \\\n4          M5A  Downtown Toronto                    Regent Park, Harbourfront   \n6          M7A  Downtown Toronto  Queen's Park, Ontario Provincial Government   \n13         M5B  Downtown Toronto                     Garden District, Ryerson   \n22         M5C  Downtown Toronto                               St. James Town   \n30         M4E      East Toronto                                  The Beaches   \n\n     latitude  longitude  \n4   43.654260 -79.360636  \n6   43.662301 -79.389494  \n13  43.657162 -79.378937  \n22  43.651494 -79.375418  \n30  43.676357 -79.293031  ",
      "text/html": "<div>\n<style scoped>\n    .dataframe tbody tr th:only-of-type {\n        vertical-align: middle;\n    }\n\n    .dataframe tbody tr th {\n        vertical-align: top;\n    }\n\n    .dataframe thead th {\n        text-align: right;\n    }\n</style>\n<table border=\"1\" class=\"dataframe\">\n  <thead>\n    <tr style=\"text-align: right;\">\n      <th></th>\n      <th>Postal Code</th>\n      <th>Borough</th>\n      <th>Neighborhood</th>\n      <th>latitude</th>\n      <th>longitude</th>\n    </tr>\n  </thead>\n  <tbody>\n    <tr>\n      <th>4</th>\n      <td>M5A</td>\n      <td>Downtown Toronto</td>\n      <td>Regent Park, Harbourfront</td>\n      <td>43.654260</td>\n      <td>-79.360636</td>\n    </tr>\n    <tr>\n      <th>6</th>\n      <td>M7A</td>\n      <td>Downtown Toronto</td>\n      <td>Queen's Park, Ontario Provincial Government</td>\n      <td>43.662301</td>\n      <td>-79.389494</td>\n    </tr>\n    <tr>\n      <th>13</th>\n      <td>M5B</td>\n      <td>Downtown Toronto</td>\n      <td>Garden District, Ryerson</td>\n      <td>43.657162</td>\n      <td>-79.378937</td>\n    </tr>\n    <tr>\n      <th>22</th>\n      <td>M5C</td>\n      <td>Downtown Toronto</td>\n      <td>St. James Town</td>\n      <td>43.651494</td>\n      <td>-79.375418</td>\n    </tr>\n    <tr>\n      <th>30</th>\n      <td>M4E</td>\n      <td>East Toronto</td>\n      <td>The Beaches</td>\n      <td>43.676357</td>\n      <td>-79.293031</td>\n    </tr>\n  </tbody>\n</table>\n</div>"
     },
     "metadata": {},
     "output_type": "execute_result",
     "execution_count": 11
    }
   ],
   "source": [
    "toronto_df = df[df['Borough'].str.contains('Toronto')]\n",
    "toronto_df.head()"
   ],
   "metadata": {
    "collapsed": false,
    "pycharm": {
     "name": "#%%\n",
     "is_executing": false
    }
   }
  },
  {
   "cell_type": "markdown",
   "source": [
    "Use geopy to get lat/long values for Toronto"
   ],
   "metadata": {
    "collapsed": false
   }
  },
  {
   "cell_type": "code",
   "execution_count": 12,
   "outputs": [
    {
     "name": "stdout",
     "text": [
      "The coordinates of Toronto are 43.6534817, -79.3839347\n"
     ],
     "output_type": "stream"
    }
   ],
   "source": [
    "import geopy\n",
    "from geopy.geocoders import Nominatim\n",
    "\n",
    "geolocator = Nominatim(user_agent='cap_project')\n",
    "location = geolocator.geocode('Toronto')\n",
    "latitude = location.latitude\n",
    "longitude = location.longitude\n",
    "print('The coordinates of Toronto are {}, {}'.format(latitude, longitude))\n"
   ],
   "metadata": {
    "collapsed": false,
    "pycharm": {
     "name": "#%%\n",
     "is_executing": false
    }
   }
  },
  {
   "cell_type": "markdown",
   "source": [
    "Create a map of Toronto\n"
   ],
   "metadata": {
    "collapsed": false
   }
  },
  {
   "cell_type": "code",
   "execution_count": 13,
   "outputs": [],
   "source": [
    "# Import relevant Libraries\n",
    "import folium\n",
    "import matplotlib.cm as cm\n",
    "import matplotlib.colors as colors\n",
    "from sklearn.cluster import KMeans\n"
   ],
   "metadata": {
    "collapsed": false,
    "pycharm": {
     "name": "#%%\n",
     "is_executing": false
    }
   }
  },
  {
   "cell_type": "code",
   "execution_count": 14,
   "outputs": [
    {
     "data": {
      "text/plain": "<folium.folium.Map at 0x1bd517e2550>",
      "text/html": "<div style=\"width:100%;\"><div style=\"position:relative;width:100%;height:0;padding-bottom:60%;\"><span style=\"color:#565656\">Make this Notebook Trusted to load map: File -> Trust Notebook</span><iframe src=\"about:blank\" style=\"position:absolute;width:100%;height:100%;left:0;top:0;border:none !important;\" data-html=PCFET0NUWVBFIGh0bWw+CjxoZWFkPiAgICAKICAgIDxtZXRhIGh0dHAtZXF1aXY9ImNvbnRlbnQtdHlwZSIgY29udGVudD0idGV4dC9odG1sOyBjaGFyc2V0PVVURi04IiAvPgogICAgCiAgICAgICAgPHNjcmlwdD4KICAgICAgICAgICAgTF9OT19UT1VDSCA9IGZhbHNlOwogICAgICAgICAgICBMX0RJU0FCTEVfM0QgPSBmYWxzZTsKICAgICAgICA8L3NjcmlwdD4KICAgIAogICAgPHNjcmlwdCBzcmM9Imh0dHBzOi8vY2RuLmpzZGVsaXZyLm5ldC9ucG0vbGVhZmxldEAxLjYuMC9kaXN0L2xlYWZsZXQuanMiPjwvc2NyaXB0PgogICAgPHNjcmlwdCBzcmM9Imh0dHBzOi8vY29kZS5qcXVlcnkuY29tL2pxdWVyeS0xLjEyLjQubWluLmpzIj48L3NjcmlwdD4KICAgIDxzY3JpcHQgc3JjPSJodHRwczovL21heGNkbi5ib290c3RyYXBjZG4uY29tL2Jvb3RzdHJhcC8zLjIuMC9qcy9ib290c3RyYXAubWluLmpzIj48L3NjcmlwdD4KICAgIDxzY3JpcHQgc3JjPSJodHRwczovL2NkbmpzLmNsb3VkZmxhcmUuY29tL2FqYXgvbGlicy9MZWFmbGV0LmF3ZXNvbWUtbWFya2Vycy8yLjAuMi9sZWFmbGV0LmF3ZXNvbWUtbWFya2Vycy5qcyI+PC9zY3JpcHQ+CiAgICA8bGluayByZWw9InN0eWxlc2hlZXQiIGhyZWY9Imh0dHBzOi8vY2RuLmpzZGVsaXZyLm5ldC9ucG0vbGVhZmxldEAxLjYuMC9kaXN0L2xlYWZsZXQuY3NzIi8+CiAgICA8bGluayByZWw9InN0eWxlc2hlZXQiIGhyZWY9Imh0dHBzOi8vbWF4Y2RuLmJvb3RzdHJhcGNkbi5jb20vYm9vdHN0cmFwLzMuMi4wL2Nzcy9ib290c3RyYXAubWluLmNzcyIvPgogICAgPGxpbmsgcmVsPSJzdHlsZXNoZWV0IiBocmVmPSJodHRwczovL21heGNkbi5ib290c3RyYXBjZG4uY29tL2Jvb3RzdHJhcC8zLjIuMC9jc3MvYm9vdHN0cmFwLXRoZW1lLm1pbi5jc3MiLz4KICAgIDxsaW5rIHJlbD0ic3R5bGVzaGVldCIgaHJlZj0iaHR0cHM6Ly9tYXhjZG4uYm9vdHN0cmFwY2RuLmNvbS9mb250LWF3ZXNvbWUvNC42LjMvY3NzL2ZvbnQtYXdlc29tZS5taW4uY3NzIi8+CiAgICA8bGluayByZWw9InN0eWxlc2hlZXQiIGhyZWY9Imh0dHBzOi8vY2RuanMuY2xvdWRmbGFyZS5jb20vYWpheC9saWJzL0xlYWZsZXQuYXdlc29tZS1tYXJrZXJzLzIuMC4yL2xlYWZsZXQuYXdlc29tZS1tYXJrZXJzLmNzcyIvPgogICAgPGxpbmsgcmVsPSJzdHlsZXNoZWV0IiBocmVmPSJodHRwczovL3Jhd2Nkbi5naXRoYWNrLmNvbS9weXRob24tdmlzdWFsaXphdGlvbi9mb2xpdW0vbWFzdGVyL2ZvbGl1bS90ZW1wbGF0ZXMvbGVhZmxldC5hd2Vzb21lLnJvdGF0ZS5jc3MiLz4KICAgIDxzdHlsZT5odG1sLCBib2R5IHt3aWR0aDogMTAwJTtoZWlnaHQ6IDEwMCU7bWFyZ2luOiAwO3BhZGRpbmc6IDA7fTwvc3R5bGU+CiAgICA8c3R5bGU+I21hcCB7cG9zaXRpb246YWJzb2x1dGU7dG9wOjA7Ym90dG9tOjA7cmlnaHQ6MDtsZWZ0OjA7fTwvc3R5bGU+CiAgICAKICAgICAgICAgICAgPG1ldGEgbmFtZT0idmlld3BvcnQiIGNvbnRlbnQ9IndpZHRoPWRldmljZS13aWR0aCwKICAgICAgICAgICAgICAgIGluaXRpYWwtc2NhbGU9MS4wLCBtYXhpbXVtLXNjYWxlPTEuMCwgdXNlci1zY2FsYWJsZT1ubyIgLz4KICAgICAgICAgICAgPHN0eWxlPgogICAgICAgICAgICAgICAgI21hcF83OTMzMGQxMWNhMWQ0MmQwYTRlYzY1ZGZkYzVhNThiZiB7CiAgICAgICAgICAgICAgICAgICAgcG9zaXRpb246IHJlbGF0aXZlOwogICAgICAgICAgICAgICAgICAgIHdpZHRoOiAxMDAuMCU7CiAgICAgICAgICAgICAgICAgICAgaGVpZ2h0OiAxMDAuMCU7CiAgICAgICAgICAgICAgICAgICAgbGVmdDogMC4wJTsKICAgICAgICAgICAgICAgICAgICB0b3A6IDAuMCU7CiAgICAgICAgICAgICAgICB9CiAgICAgICAgICAgIDwvc3R5bGU+CiAgICAgICAgCjwvaGVhZD4KPGJvZHk+ICAgIAogICAgCiAgICAgICAgICAgIDxkaXYgY2xhc3M9ImZvbGl1bS1tYXAiIGlkPSJtYXBfNzkzMzBkMTFjYTFkNDJkMGE0ZWM2NWRmZGM1YTU4YmYiID48L2Rpdj4KICAgICAgICAKPC9ib2R5Pgo8c2NyaXB0PiAgICAKICAgIAogICAgICAgICAgICB2YXIgbWFwXzc5MzMwZDExY2ExZDQyZDBhNGVjNjVkZmRjNWE1OGJmID0gTC5tYXAoCiAgICAgICAgICAgICAgICAibWFwXzc5MzMwZDExY2ExZDQyZDBhNGVjNjVkZmRjNWE1OGJmIiwKICAgICAgICAgICAgICAgIHsKICAgICAgICAgICAgICAgICAgICBjZW50ZXI6IFs0My42NTM0ODE3LCAtNzkuMzgzOTM0N10sCiAgICAgICAgICAgICAgICAgICAgY3JzOiBMLkNSUy5FUFNHMzg1NywKICAgICAgICAgICAgICAgICAgICB6b29tOiAxMSwKICAgICAgICAgICAgICAgICAgICB6b29tQ29udHJvbDogdHJ1ZSwKICAgICAgICAgICAgICAgICAgICBwcmVmZXJDYW52YXM6IGZhbHNlLAogICAgICAgICAgICAgICAgfQogICAgICAgICAgICApOwoKICAgICAgICAgICAgCgogICAgICAgIAogICAgCiAgICAgICAgICAgIHZhciB0aWxlX2xheWVyX2JiY2IxOGE1Y2YzYzQ1Mjc5MTBmYmUwYjc1M2Y1M2QyID0gTC50aWxlTGF5ZXIoCiAgICAgICAgICAgICAgICAiaHR0cHM6Ly97c30udGlsZS5vcGVuc3RyZWV0bWFwLm9yZy97en0ve3h9L3t5fS5wbmciLAogICAgICAgICAgICAgICAgeyJhdHRyaWJ1dGlvbiI6ICJEYXRhIGJ5IFx1MDAyNmNvcHk7IFx1MDAzY2EgaHJlZj1cImh0dHA6Ly9vcGVuc3RyZWV0bWFwLm9yZ1wiXHUwMDNlT3BlblN0cmVldE1hcFx1MDAzYy9hXHUwMDNlLCB1bmRlciBcdTAwM2NhIGhyZWY9XCJodHRwOi8vd3d3Lm9wZW5zdHJlZXRtYXAub3JnL2NvcHlyaWdodFwiXHUwMDNlT0RiTFx1MDAzYy9hXHUwMDNlLiIsICJkZXRlY3RSZXRpbmEiOiBmYWxzZSwgIm1heE5hdGl2ZVpvb20iOiAxOCwgIm1heFpvb20iOiAxOCwgIm1pblpvb20iOiAwLCAibm9XcmFwIjogZmFsc2UsICJvcGFjaXR5IjogMSwgInN1YmRvbWFpbnMiOiAiYWJjIiwgInRtcyI6IGZhbHNlfQogICAgICAgICAgICApLmFkZFRvKG1hcF83OTMzMGQxMWNhMWQ0MmQwYTRlYzY1ZGZkYzVhNThiZik7CiAgICAgICAgCiAgICAKICAgICAgICAgICAgdmFyIGNpcmNsZV9tYXJrZXJfZDcyN2JlNGZlMGZiNDk4ZGI3YzJlZjMwMDZiYWE5ODQgPSBMLmNpcmNsZU1hcmtlcigKICAgICAgICAgICAgICAgIFs0My42NTQyNTk5LCAtNzkuMzYwNjM1ODk5OTk5OTldLAogICAgICAgICAgICAgICAgeyJidWJibGluZ01vdXNlRXZlbnRzIjogdHJ1ZSwgImNvbG9yIjogImJsdWUiLCAiZGFzaEFycmF5IjogbnVsbCwgImRhc2hPZmZzZXQiOiBudWxsLCAiZmlsbCI6IHRydWUsICJmaWxsQ29sb3IiOiAiIzMxODZjYyIsICJmaWxsT3BhY2l0eSI6IDAuNywgImZpbGxSdWxlIjogImV2ZW5vZGQiLCAibGluZUNhcCI6ICJyb3VuZCIsICJsaW5lSm9pbiI6ICJyb3VuZCIsICJvcGFjaXR5IjogMS4wLCAicmFkaXVzIjogNSwgInN0cm9rZSI6IHRydWUsICJ3ZWlnaHQiOiAzfQogICAgICAgICAgICApLmFkZFRvKG1hcF83OTMzMGQxMWNhMWQ0MmQwYTRlYzY1ZGZkYzVhNThiZik7CiAgICAgICAgCiAgICAKICAgICAgICB2YXIgcG9wdXBfNjg2MGYyN2YzZDcyNGQzMWEyYTMwYzdhNDE3M2ExZTggPSBMLnBvcHVwKHsibWF4V2lkdGgiOiAiMTAwJSJ9KTsKCiAgICAgICAgCiAgICAgICAgICAgIHZhciBodG1sXzJkNjQ0ZTlmNTA5ZjQzZjc5ZGZlYmE4ODVkYWFjZGEyID0gJChgPGRpdiBpZD0iaHRtbF8yZDY0NGU5ZjUwOWY0M2Y3OWRmZWJhODg1ZGFhY2RhMiIgc3R5bGU9IndpZHRoOiAxMDAuMCU7IGhlaWdodDogMTAwLjAlOyI+UmVnZW50IFBhcmssIEhhcmJvdXJmcm9udDwvZGl2PmApWzBdOwogICAgICAgICAgICBwb3B1cF82ODYwZjI3ZjNkNzI0ZDMxYTJhMzBjN2E0MTczYTFlOC5zZXRDb250ZW50KGh0bWxfMmQ2NDRlOWY1MDlmNDNmNzlkZmViYTg4NWRhYWNkYTIpOwogICAgICAgIAoKICAgICAgICBjaXJjbGVfbWFya2VyX2Q3MjdiZTRmZTBmYjQ5OGRiN2MyZWYzMDA2YmFhOTg0LmJpbmRQb3B1cChwb3B1cF82ODYwZjI3ZjNkNzI0ZDMxYTJhMzBjN2E0MTczYTFlOCkKICAgICAgICA7CgogICAgICAgIAogICAgCiAgICAKICAgICAgICAgICAgdmFyIGNpcmNsZV9tYXJrZXJfN2ZhMmNhY2RmZjJhNGVjZmIwYjZlYjBjZDczYTY0MWMgPSBMLmNpcmNsZU1hcmtlcigKICAgICAgICAgICAgICAgIFs0My42NjIzMDE1LCAtNzkuMzg5NDkzOF0sCiAgICAgICAgICAgICAgICB7ImJ1YmJsaW5nTW91c2VFdmVudHMiOiB0cnVlLCAiY29sb3IiOiAiYmx1ZSIsICJkYXNoQXJyYXkiOiBudWxsLCAiZGFzaE9mZnNldCI6IG51bGwsICJmaWxsIjogdHJ1ZSwgImZpbGxDb2xvciI6ICIjMzE4NmNjIiwgImZpbGxPcGFjaXR5IjogMC43LCAiZmlsbFJ1bGUiOiAiZXZlbm9kZCIsICJsaW5lQ2FwIjogInJvdW5kIiwgImxpbmVKb2luIjogInJvdW5kIiwgIm9wYWNpdHkiOiAxLjAsICJyYWRpdXMiOiA1LCAic3Ryb2tlIjogdHJ1ZSwgIndlaWdodCI6IDN9CiAgICAgICAgICAgICkuYWRkVG8obWFwXzc5MzMwZDExY2ExZDQyZDBhNGVjNjVkZmRjNWE1OGJmKTsKICAgICAgICAKICAgIAogICAgICAgIHZhciBwb3B1cF81ZDJjOGU5YmMxODM0Y2I0YWVlOWZlZDNkY2U3NzBkNyA9IEwucG9wdXAoeyJtYXhXaWR0aCI6ICIxMDAlIn0pOwoKICAgICAgICAKICAgICAgICAgICAgdmFyIGh0bWxfYWZiNjhmMjVjNzlmNGI5NGJmZjhjZGZjMzRlY2I0YTYgPSAkKGA8ZGl2IGlkPSJodG1sX2FmYjY4ZjI1Yzc5ZjRiOTRiZmY4Y2RmYzM0ZWNiNGE2IiBzdHlsZT0id2lkdGg6IDEwMC4wJTsgaGVpZ2h0OiAxMDAuMCU7Ij5RdWVlbiYjMzk7cyBQYXJrLCBPbnRhcmlvIFByb3ZpbmNpYWwgR292ZXJubWVudDwvZGl2PmApWzBdOwogICAgICAgICAgICBwb3B1cF81ZDJjOGU5YmMxODM0Y2I0YWVlOWZlZDNkY2U3NzBkNy5zZXRDb250ZW50KGh0bWxfYWZiNjhmMjVjNzlmNGI5NGJmZjhjZGZjMzRlY2I0YTYpOwogICAgICAgIAoKICAgICAgICBjaXJjbGVfbWFya2VyXzdmYTJjYWNkZmYyYTRlY2ZiMGI2ZWIwY2Q3M2E2NDFjLmJpbmRQb3B1cChwb3B1cF81ZDJjOGU5YmMxODM0Y2I0YWVlOWZlZDNkY2U3NzBkNykKICAgICAgICA7CgogICAgICAgIAogICAgCiAgICAKICAgICAgICAgICAgdmFyIGNpcmNsZV9tYXJrZXJfYjg3MGRhNzg0NDkwNDFhZDg1ZDFhODczZTUxODUyMWYgPSBMLmNpcmNsZU1hcmtlcigKICAgICAgICAgICAgICAgIFs0My42NTcxNjE4LCAtNzkuMzc4OTM3MV0sCiAgICAgICAgICAgICAgICB7ImJ1YmJsaW5nTW91c2VFdmVudHMiOiB0cnVlLCAiY29sb3IiOiAiYmx1ZSIsICJkYXNoQXJyYXkiOiBudWxsLCAiZGFzaE9mZnNldCI6IG51bGwsICJmaWxsIjogdHJ1ZSwgImZpbGxDb2xvciI6ICIjMzE4NmNjIiwgImZpbGxPcGFjaXR5IjogMC43LCAiZmlsbFJ1bGUiOiAiZXZlbm9kZCIsICJsaW5lQ2FwIjogInJvdW5kIiwgImxpbmVKb2luIjogInJvdW5kIiwgIm9wYWNpdHkiOiAxLjAsICJyYWRpdXMiOiA1LCAic3Ryb2tlIjogdHJ1ZSwgIndlaWdodCI6IDN9CiAgICAgICAgICAgICkuYWRkVG8obWFwXzc5MzMwZDExY2ExZDQyZDBhNGVjNjVkZmRjNWE1OGJmKTsKICAgICAgICAKICAgIAogICAgICAgIHZhciBwb3B1cF81MmYyMzc3MjljYzg0ZTRkYWY5MzYyYTYyNmZiZTcyMiA9IEwucG9wdXAoeyJtYXhXaWR0aCI6ICIxMDAlIn0pOwoKICAgICAgICAKICAgICAgICAgICAgdmFyIGh0bWxfYmUyYzhlOTI3YThiNGM2ZDlkNjQ5NjE5YjY0NmNlNGUgPSAkKGA8ZGl2IGlkPSJodG1sX2JlMmM4ZTkyN2E4YjRjNmQ5ZDY0OTYxOWI2NDZjZTRlIiBzdHlsZT0id2lkdGg6IDEwMC4wJTsgaGVpZ2h0OiAxMDAuMCU7Ij5HYXJkZW4gRGlzdHJpY3QsIFJ5ZXJzb248L2Rpdj5gKVswXTsKICAgICAgICAgICAgcG9wdXBfNTJmMjM3NzI5Y2M4NGU0ZGFmOTM2MmE2MjZmYmU3MjIuc2V0Q29udGVudChodG1sX2JlMmM4ZTkyN2E4YjRjNmQ5ZDY0OTYxOWI2NDZjZTRlKTsKICAgICAgICAKCiAgICAgICAgY2lyY2xlX21hcmtlcl9iODcwZGE3ODQ0OTA0MWFkODVkMWE4NzNlNTE4NTIxZi5iaW5kUG9wdXAocG9wdXBfNTJmMjM3NzI5Y2M4NGU0ZGFmOTM2MmE2MjZmYmU3MjIpCiAgICAgICAgOwoKICAgICAgICAKICAgIAogICAgCiAgICAgICAgICAgIHZhciBjaXJjbGVfbWFya2VyX2JmMTk5MThmZTU1NTRkMDNhNzUyZTdlODhlZTM4YTg5ID0gTC5jaXJjbGVNYXJrZXIoCiAgICAgICAgICAgICAgICBbNDMuNjUxNDkzOSwgLTc5LjM3NTQxNzldLAogICAgICAgICAgICAgICAgeyJidWJibGluZ01vdXNlRXZlbnRzIjogdHJ1ZSwgImNvbG9yIjogImJsdWUiLCAiZGFzaEFycmF5IjogbnVsbCwgImRhc2hPZmZzZXQiOiBudWxsLCAiZmlsbCI6IHRydWUsICJmaWxsQ29sb3IiOiAiIzMxODZjYyIsICJmaWxsT3BhY2l0eSI6IDAuNywgImZpbGxSdWxlIjogImV2ZW5vZGQiLCAibGluZUNhcCI6ICJyb3VuZCIsICJsaW5lSm9pbiI6ICJyb3VuZCIsICJvcGFjaXR5IjogMS4wLCAicmFkaXVzIjogNSwgInN0cm9rZSI6IHRydWUsICJ3ZWlnaHQiOiAzfQogICAgICAgICAgICApLmFkZFRvKG1hcF83OTMzMGQxMWNhMWQ0MmQwYTRlYzY1ZGZkYzVhNThiZik7CiAgICAgICAgCiAgICAKICAgICAgICB2YXIgcG9wdXBfOGNjMmE2OGMxNjc4NDQ4YmE2MTBhMDc2MWQ0NGJjNTcgPSBMLnBvcHVwKHsibWF4V2lkdGgiOiAiMTAwJSJ9KTsKCiAgICAgICAgCiAgICAgICAgICAgIHZhciBodG1sXzQyZWFkYmYxZjU5ODRmMTFhZWEzYmFmNjMyNzE5NzMyID0gJChgPGRpdiBpZD0iaHRtbF80MmVhZGJmMWY1OTg0ZjExYWVhM2JhZjYzMjcxOTczMiIgc3R5bGU9IndpZHRoOiAxMDAuMCU7IGhlaWdodDogMTAwLjAlOyI+U3QuIEphbWVzIFRvd248L2Rpdj5gKVswXTsKICAgICAgICAgICAgcG9wdXBfOGNjMmE2OGMxNjc4NDQ4YmE2MTBhMDc2MWQ0NGJjNTcuc2V0Q29udGVudChodG1sXzQyZWFkYmYxZjU5ODRmMTFhZWEzYmFmNjMyNzE5NzMyKTsKICAgICAgICAKCiAgICAgICAgY2lyY2xlX21hcmtlcl9iZjE5OTE4ZmU1NTU0ZDAzYTc1MmU3ZTg4ZWUzOGE4OS5iaW5kUG9wdXAocG9wdXBfOGNjMmE2OGMxNjc4NDQ4YmE2MTBhMDc2MWQ0NGJjNTcpCiAgICAgICAgOwoKICAgICAgICAKICAgIAogICAgCiAgICAgICAgICAgIHZhciBjaXJjbGVfbWFya2VyX2QzNDMzYjNmZTRhNDRiYTY4ZjYwZmZjZGFjNWQ1MzBkID0gTC5jaXJjbGVNYXJrZXIoCiAgICAgICAgICAgICAgICBbNDMuNjc2MzU3NCwgLTc5LjI5MzAzMTJdLAogICAgICAgICAgICAgICAgeyJidWJibGluZ01vdXNlRXZlbnRzIjogdHJ1ZSwgImNvbG9yIjogImJsdWUiLCAiZGFzaEFycmF5IjogbnVsbCwgImRhc2hPZmZzZXQiOiBudWxsLCAiZmlsbCI6IHRydWUsICJmaWxsQ29sb3IiOiAiIzMxODZjYyIsICJmaWxsT3BhY2l0eSI6IDAuNywgImZpbGxSdWxlIjogImV2ZW5vZGQiLCAibGluZUNhcCI6ICJyb3VuZCIsICJsaW5lSm9pbiI6ICJyb3VuZCIsICJvcGFjaXR5IjogMS4wLCAicmFkaXVzIjogNSwgInN0cm9rZSI6IHRydWUsICJ3ZWlnaHQiOiAzfQogICAgICAgICAgICApLmFkZFRvKG1hcF83OTMzMGQxMWNhMWQ0MmQwYTRlYzY1ZGZkYzVhNThiZik7CiAgICAgICAgCiAgICAKICAgICAgICB2YXIgcG9wdXBfMGMxNmZmZjczZjZmNGJhMDk4MDU4ZWU1ZjI2MjFmZDQgPSBMLnBvcHVwKHsibWF4V2lkdGgiOiAiMTAwJSJ9KTsKCiAgICAgICAgCiAgICAgICAgICAgIHZhciBodG1sX2M5YjA2N2I5OGMwMjQwOWQ4YWE4YmVmYmY1Mjc4M2Q3ID0gJChgPGRpdiBpZD0iaHRtbF9jOWIwNjdiOThjMDI0MDlkOGFhOGJlZmJmNTI3ODNkNyIgc3R5bGU9IndpZHRoOiAxMDAuMCU7IGhlaWdodDogMTAwLjAlOyI+VGhlIEJlYWNoZXM8L2Rpdj5gKVswXTsKICAgICAgICAgICAgcG9wdXBfMGMxNmZmZjczZjZmNGJhMDk4MDU4ZWU1ZjI2MjFmZDQuc2V0Q29udGVudChodG1sX2M5YjA2N2I5OGMwMjQwOWQ4YWE4YmVmYmY1Mjc4M2Q3KTsKICAgICAgICAKCiAgICAgICAgY2lyY2xlX21hcmtlcl9kMzQzM2IzZmU0YTQ0YmE2OGY2MGZmY2RhYzVkNTMwZC5iaW5kUG9wdXAocG9wdXBfMGMxNmZmZjczZjZmNGJhMDk4MDU4ZWU1ZjI2MjFmZDQpCiAgICAgICAgOwoKICAgICAgICAKICAgIAogICAgCiAgICAgICAgICAgIHZhciBjaXJjbGVfbWFya2VyXzE4YTVjNDI5Yjg5YjQ0NTdiMzgyYzFkYTA2YmEwNDE5ID0gTC5jaXJjbGVNYXJrZXIoCiAgICAgICAgICAgICAgICBbNDMuNjQ0NzcwOCwgLTc5LjM3MzMwNjM5OTk5OTk5XSwKICAgICAgICAgICAgICAgIHsiYnViYmxpbmdNb3VzZUV2ZW50cyI6IHRydWUsICJjb2xvciI6ICJibHVlIiwgImRhc2hBcnJheSI6IG51bGwsICJkYXNoT2Zmc2V0IjogbnVsbCwgImZpbGwiOiB0cnVlLCAiZmlsbENvbG9yIjogIiMzMTg2Y2MiLCAiZmlsbE9wYWNpdHkiOiAwLjcsICJmaWxsUnVsZSI6ICJldmVub2RkIiwgImxpbmVDYXAiOiAicm91bmQiLCAibGluZUpvaW4iOiAicm91bmQiLCAib3BhY2l0eSI6IDEuMCwgInJhZGl1cyI6IDUsICJzdHJva2UiOiB0cnVlLCAid2VpZ2h0IjogM30KICAgICAgICAgICAgKS5hZGRUbyhtYXBfNzkzMzBkMTFjYTFkNDJkMGE0ZWM2NWRmZGM1YTU4YmYpOwogICAgICAgIAogICAgCiAgICAgICAgdmFyIHBvcHVwX2VmOTBhMTIzY2U2MDQzODM4NDZjNzA1OGY1YjUwNTNiID0gTC5wb3B1cCh7Im1heFdpZHRoIjogIjEwMCUifSk7CgogICAgICAgIAogICAgICAgICAgICB2YXIgaHRtbF8yYjFlNWNlMmZjNTk0ZDQ0ODIxODU2MDNiNmUwYmNkZCA9ICQoYDxkaXYgaWQ9Imh0bWxfMmIxZTVjZTJmYzU5NGQ0NDgyMTg1NjAzYjZlMGJjZGQiIHN0eWxlPSJ3aWR0aDogMTAwLjAlOyBoZWlnaHQ6IDEwMC4wJTsiPkJlcmN6eSBQYXJrPC9kaXY+YClbMF07CiAgICAgICAgICAgIHBvcHVwX2VmOTBhMTIzY2U2MDQzODM4NDZjNzA1OGY1YjUwNTNiLnNldENvbnRlbnQoaHRtbF8yYjFlNWNlMmZjNTk0ZDQ0ODIxODU2MDNiNmUwYmNkZCk7CiAgICAgICAgCgogICAgICAgIGNpcmNsZV9tYXJrZXJfMThhNWM0MjliODliNDQ1N2IzODJjMWRhMDZiYTA0MTkuYmluZFBvcHVwKHBvcHVwX2VmOTBhMTIzY2U2MDQzODM4NDZjNzA1OGY1YjUwNTNiKQogICAgICAgIDsKCiAgICAgICAgCiAgICAKICAgIAogICAgICAgICAgICB2YXIgY2lyY2xlX21hcmtlcl8xNTlkMzgyNDk3Y2Y0Mzg4YWM0NzBhYzFhZjM4MWFhZCA9IEwuY2lyY2xlTWFya2VyKAogICAgICAgICAgICAgICAgWzQzLjY1Nzk1MjQsIC03OS4zODczODI2XSwKICAgICAgICAgICAgICAgIHsiYnViYmxpbmdNb3VzZUV2ZW50cyI6IHRydWUsICJjb2xvciI6ICJibHVlIiwgImRhc2hBcnJheSI6IG51bGwsICJkYXNoT2Zmc2V0IjogbnVsbCwgImZpbGwiOiB0cnVlLCAiZmlsbENvbG9yIjogIiMzMTg2Y2MiLCAiZmlsbE9wYWNpdHkiOiAwLjcsICJmaWxsUnVsZSI6ICJldmVub2RkIiwgImxpbmVDYXAiOiAicm91bmQiLCAibGluZUpvaW4iOiAicm91bmQiLCAib3BhY2l0eSI6IDEuMCwgInJhZGl1cyI6IDUsICJzdHJva2UiOiB0cnVlLCAid2VpZ2h0IjogM30KICAgICAgICAgICAgKS5hZGRUbyhtYXBfNzkzMzBkMTFjYTFkNDJkMGE0ZWM2NWRmZGM1YTU4YmYpOwogICAgICAgIAogICAgCiAgICAgICAgdmFyIHBvcHVwXzQ0ZjJlMDllZTRjMjQxNGI4OGZhMWVhMzFhZmIwOWM5ID0gTC5wb3B1cCh7Im1heFdpZHRoIjogIjEwMCUifSk7CgogICAgICAgIAogICAgICAgICAgICB2YXIgaHRtbF8yYjljNzQ4NjM2MGY0ZWM2YmYxNjg0YTM3ZDgyMWViNiA9ICQoYDxkaXYgaWQ9Imh0bWxfMmI5Yzc0ODYzNjBmNGVjNmJmMTY4NGEzN2Q4MjFlYjYiIHN0eWxlPSJ3aWR0aDogMTAwLjAlOyBoZWlnaHQ6IDEwMC4wJTsiPkNlbnRyYWwgQmF5IFN0cmVldDwvZGl2PmApWzBdOwogICAgICAgICAgICBwb3B1cF80NGYyZTA5ZWU0YzI0MTRiODhmYTFlYTMxYWZiMDljOS5zZXRDb250ZW50KGh0bWxfMmI5Yzc0ODYzNjBmNGVjNmJmMTY4NGEzN2Q4MjFlYjYpOwogICAgICAgIAoKICAgICAgICBjaXJjbGVfbWFya2VyXzE1OWQzODI0OTdjZjQzODhhYzQ3MGFjMWFmMzgxYWFkLmJpbmRQb3B1cChwb3B1cF80NGYyZTA5ZWU0YzI0MTRiODhmYTFlYTMxYWZiMDljOSkKICAgICAgICA7CgogICAgICAgIAogICAgCiAgICAKICAgICAgICAgICAgdmFyIGNpcmNsZV9tYXJrZXJfYTNhNmI0NWJlNjk5NDYyZGEwOWQ4ZGI5NmRmOTM2NmYgPSBMLmNpcmNsZU1hcmtlcigKICAgICAgICAgICAgICAgIFs0My42Njk1NDIsIC03OS40MjI1NjM3XSwKICAgICAgICAgICAgICAgIHsiYnViYmxpbmdNb3VzZUV2ZW50cyI6IHRydWUsICJjb2xvciI6ICJibHVlIiwgImRhc2hBcnJheSI6IG51bGwsICJkYXNoT2Zmc2V0IjogbnVsbCwgImZpbGwiOiB0cnVlLCAiZmlsbENvbG9yIjogIiMzMTg2Y2MiLCAiZmlsbE9wYWNpdHkiOiAwLjcsICJmaWxsUnVsZSI6ICJldmVub2RkIiwgImxpbmVDYXAiOiAicm91bmQiLCAibGluZUpvaW4iOiAicm91bmQiLCAib3BhY2l0eSI6IDEuMCwgInJhZGl1cyI6IDUsICJzdHJva2UiOiB0cnVlLCAid2VpZ2h0IjogM30KICAgICAgICAgICAgKS5hZGRUbyhtYXBfNzkzMzBkMTFjYTFkNDJkMGE0ZWM2NWRmZGM1YTU4YmYpOwogICAgICAgIAogICAgCiAgICAgICAgdmFyIHBvcHVwX2NmM2I4NzdkZjE4NDQxMDI4NzdmZDQ5NzYwODQyZmJjID0gTC5wb3B1cCh7Im1heFdpZHRoIjogIjEwMCUifSk7CgogICAgICAgIAogICAgICAgICAgICB2YXIgaHRtbF85MGRiZTRlODA2Nzc0MTE2YWQxNGY3ZmNkMmRmOGU5YiA9ICQoYDxkaXYgaWQ9Imh0bWxfOTBkYmU0ZTgwNjc3NDExNmFkMTRmN2ZjZDJkZjhlOWIiIHN0eWxlPSJ3aWR0aDogMTAwLjAlOyBoZWlnaHQ6IDEwMC4wJTsiPkNocmlzdGllPC9kaXY+YClbMF07CiAgICAgICAgICAgIHBvcHVwX2NmM2I4NzdkZjE4NDQxMDI4NzdmZDQ5NzYwODQyZmJjLnNldENvbnRlbnQoaHRtbF85MGRiZTRlODA2Nzc0MTE2YWQxNGY3ZmNkMmRmOGU5Yik7CiAgICAgICAgCgogICAgICAgIGNpcmNsZV9tYXJrZXJfYTNhNmI0NWJlNjk5NDYyZGEwOWQ4ZGI5NmRmOTM2NmYuYmluZFBvcHVwKHBvcHVwX2NmM2I4NzdkZjE4NDQxMDI4NzdmZDQ5NzYwODQyZmJjKQogICAgICAgIDsKCiAgICAgICAgCiAgICAKICAgIAogICAgICAgICAgICB2YXIgY2lyY2xlX21hcmtlcl9iM2Q1NTc4OGI0ODI0MzA4OTU0MzQzMTM1MWMzNjZiNiA9IEwuY2lyY2xlTWFya2VyKAogICAgICAgICAgICAgICAgWzQzLjY1MDU3MTE5OTk5OTk5LCAtNzkuMzg0NTY3NV0sCiAgICAgICAgICAgICAgICB7ImJ1YmJsaW5nTW91c2VFdmVudHMiOiB0cnVlLCAiY29sb3IiOiAiYmx1ZSIsICJkYXNoQXJyYXkiOiBudWxsLCAiZGFzaE9mZnNldCI6IG51bGwsICJmaWxsIjogdHJ1ZSwgImZpbGxDb2xvciI6ICIjMzE4NmNjIiwgImZpbGxPcGFjaXR5IjogMC43LCAiZmlsbFJ1bGUiOiAiZXZlbm9kZCIsICJsaW5lQ2FwIjogInJvdW5kIiwgImxpbmVKb2luIjogInJvdW5kIiwgIm9wYWNpdHkiOiAxLjAsICJyYWRpdXMiOiA1LCAic3Ryb2tlIjogdHJ1ZSwgIndlaWdodCI6IDN9CiAgICAgICAgICAgICkuYWRkVG8obWFwXzc5MzMwZDExY2ExZDQyZDBhNGVjNjVkZmRjNWE1OGJmKTsKICAgICAgICAKICAgIAogICAgICAgIHZhciBwb3B1cF8wYTBkNmNmNjY4M2Q0YmE3YWE0MjQ4MjI2YTQ4MzE3NCA9IEwucG9wdXAoeyJtYXhXaWR0aCI6ICIxMDAlIn0pOwoKICAgICAgICAKICAgICAgICAgICAgdmFyIGh0bWxfYmFmYzJhZjg5OWNmNGUyZTg3OWNlOTMxOTQyZDdjOWIgPSAkKGA8ZGl2IGlkPSJodG1sX2JhZmMyYWY4OTljZjRlMmU4NzljZTkzMTk0MmQ3YzliIiBzdHlsZT0id2lkdGg6IDEwMC4wJTsgaGVpZ2h0OiAxMDAuMCU7Ij5SaWNobW9uZCwgQWRlbGFpZGUsIEtpbmc8L2Rpdj5gKVswXTsKICAgICAgICAgICAgcG9wdXBfMGEwZDZjZjY2ODNkNGJhN2FhNDI0ODIyNmE0ODMxNzQuc2V0Q29udGVudChodG1sX2JhZmMyYWY4OTljZjRlMmU4NzljZTkzMTk0MmQ3YzliKTsKICAgICAgICAKCiAgICAgICAgY2lyY2xlX21hcmtlcl9iM2Q1NTc4OGI0ODI0MzA4OTU0MzQzMTM1MWMzNjZiNi5iaW5kUG9wdXAocG9wdXBfMGEwZDZjZjY2ODNkNGJhN2FhNDI0ODIyNmE0ODMxNzQpCiAgICAgICAgOwoKICAgICAgICAKICAgIAogICAgCiAgICAgICAgICAgIHZhciBjaXJjbGVfbWFya2VyXzBkZmRkZGVjNzNjYzQyYTY5YWI0MGE3MzJkNDc3NmE1ID0gTC5jaXJjbGVNYXJrZXIoCiAgICAgICAgICAgICAgICBbNDMuNjY5MDA1MSwgLTc5LjQ0MjI1OTNdLAogICAgICAgICAgICAgICAgeyJidWJibGluZ01vdXNlRXZlbnRzIjogdHJ1ZSwgImNvbG9yIjogImJsdWUiLCAiZGFzaEFycmF5IjogbnVsbCwgImRhc2hPZmZzZXQiOiBudWxsLCAiZmlsbCI6IHRydWUsICJmaWxsQ29sb3IiOiAiIzMxODZjYyIsICJmaWxsT3BhY2l0eSI6IDAuNywgImZpbGxSdWxlIjogImV2ZW5vZGQiLCAibGluZUNhcCI6ICJyb3VuZCIsICJsaW5lSm9pbiI6ICJyb3VuZCIsICJvcGFjaXR5IjogMS4wLCAicmFkaXVzIjogNSwgInN0cm9rZSI6IHRydWUsICJ3ZWlnaHQiOiAzfQogICAgICAgICAgICApLmFkZFRvKG1hcF83OTMzMGQxMWNhMWQ0MmQwYTRlYzY1ZGZkYzVhNThiZik7CiAgICAgICAgCiAgICAKICAgICAgICB2YXIgcG9wdXBfODZiY2MzNTFkY2JlNGQzMmIxMzYzODU3ODQwMjkwYzMgPSBMLnBvcHVwKHsibWF4V2lkdGgiOiAiMTAwJSJ9KTsKCiAgICAgICAgCiAgICAgICAgICAgIHZhciBodG1sXzk5ODRiNDY3OWJmMzQ3MWFiNjEyNmIzOWI1YmM0YjkzID0gJChgPGRpdiBpZD0iaHRtbF85OTg0YjQ2NzliZjM0NzFhYjYxMjZiMzliNWJjNGI5MyIgc3R5bGU9IndpZHRoOiAxMDAuMCU7IGhlaWdodDogMTAwLjAlOyI+RHVmZmVyaW4sIERvdmVyY291cnQgVmlsbGFnZTwvZGl2PmApWzBdOwogICAgICAgICAgICBwb3B1cF84NmJjYzM1MWRjYmU0ZDMyYjEzNjM4NTc4NDAyOTBjMy5zZXRDb250ZW50KGh0bWxfOTk4NGI0Njc5YmYzNDcxYWI2MTI2YjM5YjViYzRiOTMpOwogICAgICAgIAoKICAgICAgICBjaXJjbGVfbWFya2VyXzBkZmRkZGVjNzNjYzQyYTY5YWI0MGE3MzJkNDc3NmE1LmJpbmRQb3B1cChwb3B1cF84NmJjYzM1MWRjYmU0ZDMyYjEzNjM4NTc4NDAyOTBjMykKICAgICAgICA7CgogICAgICAgIAogICAgCiAgICAKICAgICAgICAgICAgdmFyIGNpcmNsZV9tYXJrZXJfZGZhOTg3ZGFjMTkzNGViY2FiMjc1OTIyMDIwYTAyYTQgPSBMLmNpcmNsZU1hcmtlcigKICAgICAgICAgICAgICAgIFs0My42NDA4MTU3LCAtNzkuMzgxNzUyM10sCiAgICAgICAgICAgICAgICB7ImJ1YmJsaW5nTW91c2VFdmVudHMiOiB0cnVlLCAiY29sb3IiOiAiYmx1ZSIsICJkYXNoQXJyYXkiOiBudWxsLCAiZGFzaE9mZnNldCI6IG51bGwsICJmaWxsIjogdHJ1ZSwgImZpbGxDb2xvciI6ICIjMzE4NmNjIiwgImZpbGxPcGFjaXR5IjogMC43LCAiZmlsbFJ1bGUiOiAiZXZlbm9kZCIsICJsaW5lQ2FwIjogInJvdW5kIiwgImxpbmVKb2luIjogInJvdW5kIiwgIm9wYWNpdHkiOiAxLjAsICJyYWRpdXMiOiA1LCAic3Ryb2tlIjogdHJ1ZSwgIndlaWdodCI6IDN9CiAgICAgICAgICAgICkuYWRkVG8obWFwXzc5MzMwZDExY2ExZDQyZDBhNGVjNjVkZmRjNWE1OGJmKTsKICAgICAgICAKICAgIAogICAgICAgIHZhciBwb3B1cF9iNGQ1ZDM2OTM3NWE0NzBjOTZjODdhYjMwMzE2ZTc1ZSA9IEwucG9wdXAoeyJtYXhXaWR0aCI6ICIxMDAlIn0pOwoKICAgICAgICAKICAgICAgICAgICAgdmFyIGh0bWxfNTZhMGYxZDEwZDNmNDRhNjhiZTlmMDJmMWNhNmQ5MjcgPSAkKGA8ZGl2IGlkPSJodG1sXzU2YTBmMWQxMGQzZjQ0YTY4YmU5ZjAyZjFjYTZkOTI3IiBzdHlsZT0id2lkdGg6IDEwMC4wJTsgaGVpZ2h0OiAxMDAuMCU7Ij5IYXJib3VyZnJvbnQgRWFzdCwgVW5pb24gU3RhdGlvbiwgVG9yb250byBJc2xhbmRzPC9kaXY+YClbMF07CiAgICAgICAgICAgIHBvcHVwX2I0ZDVkMzY5Mzc1YTQ3MGM5NmM4N2FiMzAzMTZlNzVlLnNldENvbnRlbnQoaHRtbF81NmEwZjFkMTBkM2Y0NGE2OGJlOWYwMmYxY2E2ZDkyNyk7CiAgICAgICAgCgogICAgICAgIGNpcmNsZV9tYXJrZXJfZGZhOTg3ZGFjMTkzNGViY2FiMjc1OTIyMDIwYTAyYTQuYmluZFBvcHVwKHBvcHVwX2I0ZDVkMzY5Mzc1YTQ3MGM5NmM4N2FiMzAzMTZlNzVlKQogICAgICAgIDsKCiAgICAgICAgCiAgICAKICAgIAogICAgICAgICAgICB2YXIgY2lyY2xlX21hcmtlcl9jNmY2MWQ3MDM4NTY0NTQ1ODc4ODcyNjEwZTJiZDQyZSA9IEwuY2lyY2xlTWFya2VyKAogICAgICAgICAgICAgICAgWzQzLjY0NzkyNjcsIC03OS40MTk3NDk3XSwKICAgICAgICAgICAgICAgIHsiYnViYmxpbmdNb3VzZUV2ZW50cyI6IHRydWUsICJjb2xvciI6ICJibHVlIiwgImRhc2hBcnJheSI6IG51bGwsICJkYXNoT2Zmc2V0IjogbnVsbCwgImZpbGwiOiB0cnVlLCAiZmlsbENvbG9yIjogIiMzMTg2Y2MiLCAiZmlsbE9wYWNpdHkiOiAwLjcsICJmaWxsUnVsZSI6ICJldmVub2RkIiwgImxpbmVDYXAiOiAicm91bmQiLCAibGluZUpvaW4iOiAicm91bmQiLCAib3BhY2l0eSI6IDEuMCwgInJhZGl1cyI6IDUsICJzdHJva2UiOiB0cnVlLCAid2VpZ2h0IjogM30KICAgICAgICAgICAgKS5hZGRUbyhtYXBfNzkzMzBkMTFjYTFkNDJkMGE0ZWM2NWRmZGM1YTU4YmYpOwogICAgICAgIAogICAgCiAgICAgICAgdmFyIHBvcHVwX2VhZjExODZlYzJjYTQ1OTE5Y2FjMTEzNDE4ZTBjMjU1ID0gTC5wb3B1cCh7Im1heFdpZHRoIjogIjEwMCUifSk7CgogICAgICAgIAogICAgICAgICAgICB2YXIgaHRtbF83YjdhYzE4NGMzZjg0MjJmOWUzNzE0MWYzMmY0MjFjNyA9ICQoYDxkaXYgaWQ9Imh0bWxfN2I3YWMxODRjM2Y4NDIyZjllMzcxNDFmMzJmNDIxYzciIHN0eWxlPSJ3aWR0aDogMTAwLjAlOyBoZWlnaHQ6IDEwMC4wJTsiPkxpdHRsZSBQb3J0dWdhbCwgVHJpbml0eTwvZGl2PmApWzBdOwogICAgICAgICAgICBwb3B1cF9lYWYxMTg2ZWMyY2E0NTkxOWNhYzExMzQxOGUwYzI1NS5zZXRDb250ZW50KGh0bWxfN2I3YWMxODRjM2Y4NDIyZjllMzcxNDFmMzJmNDIxYzcpOwogICAgICAgIAoKICAgICAgICBjaXJjbGVfbWFya2VyX2M2ZjYxZDcwMzg1NjQ1NDU4Nzg4NzI2MTBlMmJkNDJlLmJpbmRQb3B1cChwb3B1cF9lYWYxMTg2ZWMyY2E0NTkxOWNhYzExMzQxOGUwYzI1NSkKICAgICAgICA7CgogICAgICAgIAogICAgCiAgICAKICAgICAgICAgICAgdmFyIGNpcmNsZV9tYXJrZXJfYmFmYjhlNmJhNDY4NDRjNGE1OTcyMmYyZmNiOWZmMmYgPSBMLmNpcmNsZU1hcmtlcigKICAgICAgICAgICAgICAgIFs0My42Nzk1NTcxLCAtNzkuMzUyMTg4XSwKICAgICAgICAgICAgICAgIHsiYnViYmxpbmdNb3VzZUV2ZW50cyI6IHRydWUsICJjb2xvciI6ICJibHVlIiwgImRhc2hBcnJheSI6IG51bGwsICJkYXNoT2Zmc2V0IjogbnVsbCwgImZpbGwiOiB0cnVlLCAiZmlsbENvbG9yIjogIiMzMTg2Y2MiLCAiZmlsbE9wYWNpdHkiOiAwLjcsICJmaWxsUnVsZSI6ICJldmVub2RkIiwgImxpbmVDYXAiOiAicm91bmQiLCAibGluZUpvaW4iOiAicm91bmQiLCAib3BhY2l0eSI6IDEuMCwgInJhZGl1cyI6IDUsICJzdHJva2UiOiB0cnVlLCAid2VpZ2h0IjogM30KICAgICAgICAgICAgKS5hZGRUbyhtYXBfNzkzMzBkMTFjYTFkNDJkMGE0ZWM2NWRmZGM1YTU4YmYpOwogICAgICAgIAogICAgCiAgICAgICAgdmFyIHBvcHVwX2I1NjlkYTZkMDAyNjQ3ZjQ4ODcxY2ZiNzc0M2YxNjM1ID0gTC5wb3B1cCh7Im1heFdpZHRoIjogIjEwMCUifSk7CgogICAgICAgIAogICAgICAgICAgICB2YXIgaHRtbF8wNzllNDY5MGE5NTc0NGU5OGM5OGE2M2NmZjI1MmVmZiA9ICQoYDxkaXYgaWQ9Imh0bWxfMDc5ZTQ2OTBhOTU3NDRlOThjOThhNjNjZmYyNTJlZmYiIHN0eWxlPSJ3aWR0aDogMTAwLjAlOyBoZWlnaHQ6IDEwMC4wJTsiPlRoZSBEYW5mb3J0aCBXZXN0LCBSaXZlcmRhbGU8L2Rpdj5gKVswXTsKICAgICAgICAgICAgcG9wdXBfYjU2OWRhNmQwMDI2NDdmNDg4NzFjZmI3NzQzZjE2MzUuc2V0Q29udGVudChodG1sXzA3OWU0NjkwYTk1NzQ0ZTk4Yzk4YTYzY2ZmMjUyZWZmKTsKICAgICAgICAKCiAgICAgICAgY2lyY2xlX21hcmtlcl9iYWZiOGU2YmE0Njg0NGM0YTU5NzIyZjJmY2I5ZmYyZi5iaW5kUG9wdXAocG9wdXBfYjU2OWRhNmQwMDI2NDdmNDg4NzFjZmI3NzQzZjE2MzUpCiAgICAgICAgOwoKICAgICAgICAKICAgIAogICAgCiAgICAgICAgICAgIHZhciBjaXJjbGVfbWFya2VyX2QyNjVlMTc5NDk5YTQwNDJhOGI1NGE1ODUwY2M0NDIwID0gTC5jaXJjbGVNYXJrZXIoCiAgICAgICAgICAgICAgICBbNDMuNjQ3MTc2OCwgLTc5LjM4MTU3NjRdLAogICAgICAgICAgICAgICAgeyJidWJibGluZ01vdXNlRXZlbnRzIjogdHJ1ZSwgImNvbG9yIjogImJsdWUiLCAiZGFzaEFycmF5IjogbnVsbCwgImRhc2hPZmZzZXQiOiBudWxsLCAiZmlsbCI6IHRydWUsICJmaWxsQ29sb3IiOiAiIzMxODZjYyIsICJmaWxsT3BhY2l0eSI6IDAuNywgImZpbGxSdWxlIjogImV2ZW5vZGQiLCAibGluZUNhcCI6ICJyb3VuZCIsICJsaW5lSm9pbiI6ICJyb3VuZCIsICJvcGFjaXR5IjogMS4wLCAicmFkaXVzIjogNSwgInN0cm9rZSI6IHRydWUsICJ3ZWlnaHQiOiAzfQogICAgICAgICAgICApLmFkZFRvKG1hcF83OTMzMGQxMWNhMWQ0MmQwYTRlYzY1ZGZkYzVhNThiZik7CiAgICAgICAgCiAgICAKICAgICAgICB2YXIgcG9wdXBfM2I0NWY4YmM1YzkwNDFkNTgxOWViYzM5N2VlM2I5MmIgPSBMLnBvcHVwKHsibWF4V2lkdGgiOiAiMTAwJSJ9KTsKCiAgICAgICAgCiAgICAgICAgICAgIHZhciBodG1sXzgzMzY3MzY1NTc1YjQ4ZjQ4YTI4OTFlN2JjOGFhNzNlID0gJChgPGRpdiBpZD0iaHRtbF84MzM2NzM2NTU3NWI0OGY0OGEyODkxZTdiYzhhYTczZSIgc3R5bGU9IndpZHRoOiAxMDAuMCU7IGhlaWdodDogMTAwLjAlOyI+VG9yb250byBEb21pbmlvbiBDZW50cmUsIERlc2lnbiBFeGNoYW5nZTwvZGl2PmApWzBdOwogICAgICAgICAgICBwb3B1cF8zYjQ1ZjhiYzVjOTA0MWQ1ODE5ZWJjMzk3ZWUzYjkyYi5zZXRDb250ZW50KGh0bWxfODMzNjczNjU1NzViNDhmNDhhMjg5MWU3YmM4YWE3M2UpOwogICAgICAgIAoKICAgICAgICBjaXJjbGVfbWFya2VyX2QyNjVlMTc5NDk5YTQwNDJhOGI1NGE1ODUwY2M0NDIwLmJpbmRQb3B1cChwb3B1cF8zYjQ1ZjhiYzVjOTA0MWQ1ODE5ZWJjMzk3ZWUzYjkyYikKICAgICAgICA7CgogICAgICAgIAogICAgCiAgICAKICAgICAgICAgICAgdmFyIGNpcmNsZV9tYXJrZXJfZWZlMzdhNzE0ODRkNDRkMTkwYzY0Zjk5OGY3ZGI2OWQgPSBMLmNpcmNsZU1hcmtlcigKICAgICAgICAgICAgICAgIFs0My42MzY4NDcyLCAtNzkuNDI4MTkxNF0sCiAgICAgICAgICAgICAgICB7ImJ1YmJsaW5nTW91c2VFdmVudHMiOiB0cnVlLCAiY29sb3IiOiAiYmx1ZSIsICJkYXNoQXJyYXkiOiBudWxsLCAiZGFzaE9mZnNldCI6IG51bGwsICJmaWxsIjogdHJ1ZSwgImZpbGxDb2xvciI6ICIjMzE4NmNjIiwgImZpbGxPcGFjaXR5IjogMC43LCAiZmlsbFJ1bGUiOiAiZXZlbm9kZCIsICJsaW5lQ2FwIjogInJvdW5kIiwgImxpbmVKb2luIjogInJvdW5kIiwgIm9wYWNpdHkiOiAxLjAsICJyYWRpdXMiOiA1LCAic3Ryb2tlIjogdHJ1ZSwgIndlaWdodCI6IDN9CiAgICAgICAgICAgICkuYWRkVG8obWFwXzc5MzMwZDExY2ExZDQyZDBhNGVjNjVkZmRjNWE1OGJmKTsKICAgICAgICAKICAgIAogICAgICAgIHZhciBwb3B1cF8yMTllZTE2OTdmNDU0Y2JlYTMyNWEwODI5ODMwNTE4NSA9IEwucG9wdXAoeyJtYXhXaWR0aCI6ICIxMDAlIn0pOwoKICAgICAgICAKICAgICAgICAgICAgdmFyIGh0bWxfOGNlYWU0ZTc5ZDYzNDcyYTg0YjIwNTU2NWJhOWY2Y2UgPSAkKGA8ZGl2IGlkPSJodG1sXzhjZWFlNGU3OWQ2MzQ3MmE4NGIyMDU1NjViYTlmNmNlIiBzdHlsZT0id2lkdGg6IDEwMC4wJTsgaGVpZ2h0OiAxMDAuMCU7Ij5Ccm9ja3RvbiwgUGFya2RhbGUgVmlsbGFnZSwgRXhoaWJpdGlvbiBQbGFjZTwvZGl2PmApWzBdOwogICAgICAgICAgICBwb3B1cF8yMTllZTE2OTdmNDU0Y2JlYTMyNWEwODI5ODMwNTE4NS5zZXRDb250ZW50KGh0bWxfOGNlYWU0ZTc5ZDYzNDcyYTg0YjIwNTU2NWJhOWY2Y2UpOwogICAgICAgIAoKICAgICAgICBjaXJjbGVfbWFya2VyX2VmZTM3YTcxNDg0ZDQ0ZDE5MGM2NGY5OThmN2RiNjlkLmJpbmRQb3B1cChwb3B1cF8yMTllZTE2OTdmNDU0Y2JlYTMyNWEwODI5ODMwNTE4NSkKICAgICAgICA7CgogICAgICAgIAogICAgCiAgICAKICAgICAgICAgICAgdmFyIGNpcmNsZV9tYXJrZXJfNWJhM2NkZjc5OTY1NDhmZGI3MDAwZGYxMmM1MzZhZTcgPSBMLmNpcmNsZU1hcmtlcigKICAgICAgICAgICAgICAgIFs0My42Njg5OTg1LCAtNzkuMzE1NTcxNl0sCiAgICAgICAgICAgICAgICB7ImJ1YmJsaW5nTW91c2VFdmVudHMiOiB0cnVlLCAiY29sb3IiOiAiYmx1ZSIsICJkYXNoQXJyYXkiOiBudWxsLCAiZGFzaE9mZnNldCI6IG51bGwsICJmaWxsIjogdHJ1ZSwgImZpbGxDb2xvciI6ICIjMzE4NmNjIiwgImZpbGxPcGFjaXR5IjogMC43LCAiZmlsbFJ1bGUiOiAiZXZlbm9kZCIsICJsaW5lQ2FwIjogInJvdW5kIiwgImxpbmVKb2luIjogInJvdW5kIiwgIm9wYWNpdHkiOiAxLjAsICJyYWRpdXMiOiA1LCAic3Ryb2tlIjogdHJ1ZSwgIndlaWdodCI6IDN9CiAgICAgICAgICAgICkuYWRkVG8obWFwXzc5MzMwZDExY2ExZDQyZDBhNGVjNjVkZmRjNWE1OGJmKTsKICAgICAgICAKICAgIAogICAgICAgIHZhciBwb3B1cF8wOGE0OGViNGY3NWQ0NWU0YmFlZGJlYTI1Y2I3NTZmZiA9IEwucG9wdXAoeyJtYXhXaWR0aCI6ICIxMDAlIn0pOwoKICAgICAgICAKICAgICAgICAgICAgdmFyIGh0bWxfZWRkOWFmOTVmMDAyNDgzM2IwYzQwMWFjZjY0NjcwNGIgPSAkKGA8ZGl2IGlkPSJodG1sX2VkZDlhZjk1ZjAwMjQ4MzNiMGM0MDFhY2Y2NDY3MDRiIiBzdHlsZT0id2lkdGg6IDEwMC4wJTsgaGVpZ2h0OiAxMDAuMCU7Ij5JbmRpYSBCYXphYXIsIFRoZSBCZWFjaGVzIFdlc3Q8L2Rpdj5gKVswXTsKICAgICAgICAgICAgcG9wdXBfMDhhNDhlYjRmNzVkNDVlNGJhZWRiZWEyNWNiNzU2ZmYuc2V0Q29udGVudChodG1sX2VkZDlhZjk1ZjAwMjQ4MzNiMGM0MDFhY2Y2NDY3MDRiKTsKICAgICAgICAKCiAgICAgICAgY2lyY2xlX21hcmtlcl81YmEzY2RmNzk5NjU0OGZkYjcwMDBkZjEyYzUzNmFlNy5iaW5kUG9wdXAocG9wdXBfMDhhNDhlYjRmNzVkNDVlNGJhZWRiZWEyNWNiNzU2ZmYpCiAgICAgICAgOwoKICAgICAgICAKICAgIAogICAgCiAgICAgICAgICAgIHZhciBjaXJjbGVfbWFya2VyX2Y4MjA1MzBiZWI2ZDQwODlhM2ZmYTE1ODJjYWJlNGY0ID0gTC5jaXJjbGVNYXJrZXIoCiAgICAgICAgICAgICAgICBbNDMuNjQ4MTk4NSwgLTc5LjM3OTgxNjldLAogICAgICAgICAgICAgICAgeyJidWJibGluZ01vdXNlRXZlbnRzIjogdHJ1ZSwgImNvbG9yIjogImJsdWUiLCAiZGFzaEFycmF5IjogbnVsbCwgImRhc2hPZmZzZXQiOiBudWxsLCAiZmlsbCI6IHRydWUsICJmaWxsQ29sb3IiOiAiIzMxODZjYyIsICJmaWxsT3BhY2l0eSI6IDAuNywgImZpbGxSdWxlIjogImV2ZW5vZGQiLCAibGluZUNhcCI6ICJyb3VuZCIsICJsaW5lSm9pbiI6ICJyb3VuZCIsICJvcGFjaXR5IjogMS4wLCAicmFkaXVzIjogNSwgInN0cm9rZSI6IHRydWUsICJ3ZWlnaHQiOiAzfQogICAgICAgICAgICApLmFkZFRvKG1hcF83OTMzMGQxMWNhMWQ0MmQwYTRlYzY1ZGZkYzVhNThiZik7CiAgICAgICAgCiAgICAKICAgICAgICB2YXIgcG9wdXBfNWQ1M2ZjYjU5YTliNGIyMWJlMTFmOTJkYTYyY2ZmOWIgPSBMLnBvcHVwKHsibWF4V2lkdGgiOiAiMTAwJSJ9KTsKCiAgICAgICAgCiAgICAgICAgICAgIHZhciBodG1sXzM1YTZhYTNlNTVmZTQzNzJhY2MyNTk1YzY1NzgwNDk3ID0gJChgPGRpdiBpZD0iaHRtbF8zNWE2YWEzZTU1ZmU0MzcyYWNjMjU5NWM2NTc4MDQ5NyIgc3R5bGU9IndpZHRoOiAxMDAuMCU7IGhlaWdodDogMTAwLjAlOyI+Q29tbWVyY2UgQ291cnQsIFZpY3RvcmlhIEhvdGVsPC9kaXY+YClbMF07CiAgICAgICAgICAgIHBvcHVwXzVkNTNmY2I1OWE5YjRiMjFiZTExZjkyZGE2MmNmZjliLnNldENvbnRlbnQoaHRtbF8zNWE2YWEzZTU1ZmU0MzcyYWNjMjU5NWM2NTc4MDQ5Nyk7CiAgICAgICAgCgogICAgICAgIGNpcmNsZV9tYXJrZXJfZjgyMDUzMGJlYjZkNDA4OWEzZmZhMTU4MmNhYmU0ZjQuYmluZFBvcHVwKHBvcHVwXzVkNTNmY2I1OWE5YjRiMjFiZTExZjkyZGE2MmNmZjliKQogICAgICAgIDsKCiAgICAgICAgCiAgICAKICAgIAogICAgICAgICAgICB2YXIgY2lyY2xlX21hcmtlcl83NDgwMTdlMmQ1NzE0NmYyYWI5MWUzZWU3YjY3Y2Q4YSA9IEwuY2lyY2xlTWFya2VyKAogICAgICAgICAgICAgICAgWzQzLjY1OTUyNTUsIC03OS4zNDA5MjI5OTk5OTk5OV0sCiAgICAgICAgICAgICAgICB7ImJ1YmJsaW5nTW91c2VFdmVudHMiOiB0cnVlLCAiY29sb3IiOiAiYmx1ZSIsICJkYXNoQXJyYXkiOiBudWxsLCAiZGFzaE9mZnNldCI6IG51bGwsICJmaWxsIjogdHJ1ZSwgImZpbGxDb2xvciI6ICIjMzE4NmNjIiwgImZpbGxPcGFjaXR5IjogMC43LCAiZmlsbFJ1bGUiOiAiZXZlbm9kZCIsICJsaW5lQ2FwIjogInJvdW5kIiwgImxpbmVKb2luIjogInJvdW5kIiwgIm9wYWNpdHkiOiAxLjAsICJyYWRpdXMiOiA1LCAic3Ryb2tlIjogdHJ1ZSwgIndlaWdodCI6IDN9CiAgICAgICAgICAgICkuYWRkVG8obWFwXzc5MzMwZDExY2ExZDQyZDBhNGVjNjVkZmRjNWE1OGJmKTsKICAgICAgICAKICAgIAogICAgICAgIHZhciBwb3B1cF9kMzE2NTA0ODBmYjk0N2MwOTAzZjIxNzkzMmIwZmVkYSA9IEwucG9wdXAoeyJtYXhXaWR0aCI6ICIxMDAlIn0pOwoKICAgICAgICAKICAgICAgICAgICAgdmFyIGh0bWxfMzZmN2MxZTU0ZWZhNDcxZTk5ODBiZTMxNjc4NmVjOWMgPSAkKGA8ZGl2IGlkPSJodG1sXzM2ZjdjMWU1NGVmYTQ3MWU5OTgwYmUzMTY3ODZlYzljIiBzdHlsZT0id2lkdGg6IDEwMC4wJTsgaGVpZ2h0OiAxMDAuMCU7Ij5TdHVkaW8gRGlzdHJpY3Q8L2Rpdj5gKVswXTsKICAgICAgICAgICAgcG9wdXBfZDMxNjUwNDgwZmI5NDdjMDkwM2YyMTc5MzJiMGZlZGEuc2V0Q29udGVudChodG1sXzM2ZjdjMWU1NGVmYTQ3MWU5OTgwYmUzMTY3ODZlYzljKTsKICAgICAgICAKCiAgICAgICAgY2lyY2xlX21hcmtlcl83NDgwMTdlMmQ1NzE0NmYyYWI5MWUzZWU3YjY3Y2Q4YS5iaW5kUG9wdXAocG9wdXBfZDMxNjUwNDgwZmI5NDdjMDkwM2YyMTc5MzJiMGZlZGEpCiAgICAgICAgOwoKICAgICAgICAKICAgIAogICAgCiAgICAgICAgICAgIHZhciBjaXJjbGVfbWFya2VyXzcxNzRlNzRjNTA2MTRjOGI4Njg2Yzk4NTFjZjQ0Mzg3ID0gTC5jaXJjbGVNYXJrZXIoCiAgICAgICAgICAgICAgICBbNDMuNzI4MDIwNSwgLTc5LjM4ODc5MDFdLAogICAgICAgICAgICAgICAgeyJidWJibGluZ01vdXNlRXZlbnRzIjogdHJ1ZSwgImNvbG9yIjogImJsdWUiLCAiZGFzaEFycmF5IjogbnVsbCwgImRhc2hPZmZzZXQiOiBudWxsLCAiZmlsbCI6IHRydWUsICJmaWxsQ29sb3IiOiAiIzMxODZjYyIsICJmaWxsT3BhY2l0eSI6IDAuNywgImZpbGxSdWxlIjogImV2ZW5vZGQiLCAibGluZUNhcCI6ICJyb3VuZCIsICJsaW5lSm9pbiI6ICJyb3VuZCIsICJvcGFjaXR5IjogMS4wLCAicmFkaXVzIjogNSwgInN0cm9rZSI6IHRydWUsICJ3ZWlnaHQiOiAzfQogICAgICAgICAgICApLmFkZFRvKG1hcF83OTMzMGQxMWNhMWQ0MmQwYTRlYzY1ZGZkYzVhNThiZik7CiAgICAgICAgCiAgICAKICAgICAgICB2YXIgcG9wdXBfZDQ4NmM2N2RhZDE1NGQwY2I3NDVjNDRmYjcyNjFjODYgPSBMLnBvcHVwKHsibWF4V2lkdGgiOiAiMTAwJSJ9KTsKCiAgICAgICAgCiAgICAgICAgICAgIHZhciBodG1sXzY4NTRjYjYzMTMyNDRkMDc5OWNhODVkYzAzYWYzYjZlID0gJChgPGRpdiBpZD0iaHRtbF82ODU0Y2I2MzEzMjQ0ZDA3OTljYTg1ZGMwM2FmM2I2ZSIgc3R5bGU9IndpZHRoOiAxMDAuMCU7IGhlaWdodDogMTAwLjAlOyI+TGF3cmVuY2UgUGFyazwvZGl2PmApWzBdOwogICAgICAgICAgICBwb3B1cF9kNDg2YzY3ZGFkMTU0ZDBjYjc0NWM0NGZiNzI2MWM4Ni5zZXRDb250ZW50KGh0bWxfNjg1NGNiNjMxMzI0NGQwNzk5Y2E4NWRjMDNhZjNiNmUpOwogICAgICAgIAoKICAgICAgICBjaXJjbGVfbWFya2VyXzcxNzRlNzRjNTA2MTRjOGI4Njg2Yzk4NTFjZjQ0Mzg3LmJpbmRQb3B1cChwb3B1cF9kNDg2YzY3ZGFkMTU0ZDBjYjc0NWM0NGZiNzI2MWM4NikKICAgICAgICA7CgogICAgICAgIAogICAgCiAgICAKICAgICAgICAgICAgdmFyIGNpcmNsZV9tYXJrZXJfYzIzOTZkYzc1NmZhNDc0Yzk4MWI0ZGE1NmQ2N2MyOGYgPSBMLmNpcmNsZU1hcmtlcigKICAgICAgICAgICAgICAgIFs0My43MTE2OTQ4LCAtNzkuNDE2OTM1Nl0sCiAgICAgICAgICAgICAgICB7ImJ1YmJsaW5nTW91c2VFdmVudHMiOiB0cnVlLCAiY29sb3IiOiAiYmx1ZSIsICJkYXNoQXJyYXkiOiBudWxsLCAiZGFzaE9mZnNldCI6IG51bGwsICJmaWxsIjogdHJ1ZSwgImZpbGxDb2xvciI6ICIjMzE4NmNjIiwgImZpbGxPcGFjaXR5IjogMC43LCAiZmlsbFJ1bGUiOiAiZXZlbm9kZCIsICJsaW5lQ2FwIjogInJvdW5kIiwgImxpbmVKb2luIjogInJvdW5kIiwgIm9wYWNpdHkiOiAxLjAsICJyYWRpdXMiOiA1LCAic3Ryb2tlIjogdHJ1ZSwgIndlaWdodCI6IDN9CiAgICAgICAgICAgICkuYWRkVG8obWFwXzc5MzMwZDExY2ExZDQyZDBhNGVjNjVkZmRjNWE1OGJmKTsKICAgICAgICAKICAgIAogICAgICAgIHZhciBwb3B1cF84OTkzZDk0MWY5MTQ0M2I3ODUyYTQ1N2NkZjE3MjhkOSA9IEwucG9wdXAoeyJtYXhXaWR0aCI6ICIxMDAlIn0pOwoKICAgICAgICAKICAgICAgICAgICAgdmFyIGh0bWxfY2RjOWJmMGExMDE3NDU3OWJlYWI4Y2ZkMTk3ZTRmOTcgPSAkKGA8ZGl2IGlkPSJodG1sX2NkYzliZjBhMTAxNzQ1NzliZWFiOGNmZDE5N2U0Zjk3IiBzdHlsZT0id2lkdGg6IDEwMC4wJTsgaGVpZ2h0OiAxMDAuMCU7Ij5Sb3NlbGF3bjwvZGl2PmApWzBdOwogICAgICAgICAgICBwb3B1cF84OTkzZDk0MWY5MTQ0M2I3ODUyYTQ1N2NkZjE3MjhkOS5zZXRDb250ZW50KGh0bWxfY2RjOWJmMGExMDE3NDU3OWJlYWI4Y2ZkMTk3ZTRmOTcpOwogICAgICAgIAoKICAgICAgICBjaXJjbGVfbWFya2VyX2MyMzk2ZGM3NTZmYTQ3NGM5ODFiNGRhNTZkNjdjMjhmLmJpbmRQb3B1cChwb3B1cF84OTkzZDk0MWY5MTQ0M2I3ODUyYTQ1N2NkZjE3MjhkOSkKICAgICAgICA7CgogICAgICAgIAogICAgCiAgICAKICAgICAgICAgICAgdmFyIGNpcmNsZV9tYXJrZXJfYTUzNmUwM2M2MTk1NGI2OWI3MWUxOGE0ZGQ0ZDQ4MzMgPSBMLmNpcmNsZU1hcmtlcigKICAgICAgICAgICAgICAgIFs0My43MTI3NTExLCAtNzkuMzkwMTk3NV0sCiAgICAgICAgICAgICAgICB7ImJ1YmJsaW5nTW91c2VFdmVudHMiOiB0cnVlLCAiY29sb3IiOiAiYmx1ZSIsICJkYXNoQXJyYXkiOiBudWxsLCAiZGFzaE9mZnNldCI6IG51bGwsICJmaWxsIjogdHJ1ZSwgImZpbGxDb2xvciI6ICIjMzE4NmNjIiwgImZpbGxPcGFjaXR5IjogMC43LCAiZmlsbFJ1bGUiOiAiZXZlbm9kZCIsICJsaW5lQ2FwIjogInJvdW5kIiwgImxpbmVKb2luIjogInJvdW5kIiwgIm9wYWNpdHkiOiAxLjAsICJyYWRpdXMiOiA1LCAic3Ryb2tlIjogdHJ1ZSwgIndlaWdodCI6IDN9CiAgICAgICAgICAgICkuYWRkVG8obWFwXzc5MzMwZDExY2ExZDQyZDBhNGVjNjVkZmRjNWE1OGJmKTsKICAgICAgICAKICAgIAogICAgICAgIHZhciBwb3B1cF8zZDg5OGMyOTI4NGQ0Y2ZiYmI2NDgwMWMzZmEyNmIwNiA9IEwucG9wdXAoeyJtYXhXaWR0aCI6ICIxMDAlIn0pOwoKICAgICAgICAKICAgICAgICAgICAgdmFyIGh0bWxfYzY1NGJhNWIwMGYwNDdkMTlhMTZiYjBhNTNiYzEzODcgPSAkKGA8ZGl2IGlkPSJodG1sX2M2NTRiYTViMDBmMDQ3ZDE5YTE2YmIwYTUzYmMxMzg3IiBzdHlsZT0id2lkdGg6IDEwMC4wJTsgaGVpZ2h0OiAxMDAuMCU7Ij5EYXZpc3ZpbGxlIE5vcnRoPC9kaXY+YClbMF07CiAgICAgICAgICAgIHBvcHVwXzNkODk4YzI5Mjg0ZDRjZmJiYjY0ODAxYzNmYTI2YjA2LnNldENvbnRlbnQoaHRtbF9jNjU0YmE1YjAwZjA0N2QxOWExNmJiMGE1M2JjMTM4Nyk7CiAgICAgICAgCgogICAgICAgIGNpcmNsZV9tYXJrZXJfYTUzNmUwM2M2MTk1NGI2OWI3MWUxOGE0ZGQ0ZDQ4MzMuYmluZFBvcHVwKHBvcHVwXzNkODk4YzI5Mjg0ZDRjZmJiYjY0ODAxYzNmYTI2YjA2KQogICAgICAgIDsKCiAgICAgICAgCiAgICAKICAgIAogICAgICAgICAgICB2YXIgY2lyY2xlX21hcmtlcl8yMGMxMjJmNTgzMTM0OWI0YmI1NmQzOWVlMDk0OTZmYSA9IEwuY2lyY2xlTWFya2VyKAogICAgICAgICAgICAgICAgWzQzLjY5Njk0NzYsIC03OS40MTEzMDcyXSwKICAgICAgICAgICAgICAgIHsiYnViYmxpbmdNb3VzZUV2ZW50cyI6IHRydWUsICJjb2xvciI6ICJibHVlIiwgImRhc2hBcnJheSI6IG51bGwsICJkYXNoT2Zmc2V0IjogbnVsbCwgImZpbGwiOiB0cnVlLCAiZmlsbENvbG9yIjogIiMzMTg2Y2MiLCAiZmlsbE9wYWNpdHkiOiAwLjcsICJmaWxsUnVsZSI6ICJldmVub2RkIiwgImxpbmVDYXAiOiAicm91bmQiLCAibGluZUpvaW4iOiAicm91bmQiLCAib3BhY2l0eSI6IDEuMCwgInJhZGl1cyI6IDUsICJzdHJva2UiOiB0cnVlLCAid2VpZ2h0IjogM30KICAgICAgICAgICAgKS5hZGRUbyhtYXBfNzkzMzBkMTFjYTFkNDJkMGE0ZWM2NWRmZGM1YTU4YmYpOwogICAgICAgIAogICAgCiAgICAgICAgdmFyIHBvcHVwX2VmMzhiM2UzOTM3NTRkNWQ4OWFkYjZhMzI1OGMwYWE2ID0gTC5wb3B1cCh7Im1heFdpZHRoIjogIjEwMCUifSk7CgogICAgICAgIAogICAgICAgICAgICB2YXIgaHRtbF8xZTMyNGQ1Njk4Yzc0ZWY0OTEwMWY4OTY0Zjg2NmQ1NyA9ICQoYDxkaXYgaWQ9Imh0bWxfMWUzMjRkNTY5OGM3NGVmNDkxMDFmODk2NGY4NjZkNTciIHN0eWxlPSJ3aWR0aDogMTAwLjAlOyBoZWlnaHQ6IDEwMC4wJTsiPkZvcmVzdCBIaWxsIE5vcnRoICZhbXA7IFdlc3Q8L2Rpdj5gKVswXTsKICAgICAgICAgICAgcG9wdXBfZWYzOGIzZTM5Mzc1NGQ1ZDg5YWRiNmEzMjU4YzBhYTYuc2V0Q29udGVudChodG1sXzFlMzI0ZDU2OThjNzRlZjQ5MTAxZjg5NjRmODY2ZDU3KTsKICAgICAgICAKCiAgICAgICAgY2lyY2xlX21hcmtlcl8yMGMxMjJmNTgzMTM0OWI0YmI1NmQzOWVlMDk0OTZmYS5iaW5kUG9wdXAocG9wdXBfZWYzOGIzZTM5Mzc1NGQ1ZDg5YWRiNmEzMjU4YzBhYTYpCiAgICAgICAgOwoKICAgICAgICAKICAgIAogICAgCiAgICAgICAgICAgIHZhciBjaXJjbGVfbWFya2VyXzBjYTZlM2M3MzUxYjQ5OTY5YTQ4ZjI2NTIyZWFmNzU2ID0gTC5jaXJjbGVNYXJrZXIoCiAgICAgICAgICAgICAgICBbNDMuNjYxNjA4MywgLTc5LjQ2NDc2MzNdLAogICAgICAgICAgICAgICAgeyJidWJibGluZ01vdXNlRXZlbnRzIjogdHJ1ZSwgImNvbG9yIjogImJsdWUiLCAiZGFzaEFycmF5IjogbnVsbCwgImRhc2hPZmZzZXQiOiBudWxsLCAiZmlsbCI6IHRydWUsICJmaWxsQ29sb3IiOiAiIzMxODZjYyIsICJmaWxsT3BhY2l0eSI6IDAuNywgImZpbGxSdWxlIjogImV2ZW5vZGQiLCAibGluZUNhcCI6ICJyb3VuZCIsICJsaW5lSm9pbiI6ICJyb3VuZCIsICJvcGFjaXR5IjogMS4wLCAicmFkaXVzIjogNSwgInN0cm9rZSI6IHRydWUsICJ3ZWlnaHQiOiAzfQogICAgICAgICAgICApLmFkZFRvKG1hcF83OTMzMGQxMWNhMWQ0MmQwYTRlYzY1ZGZkYzVhNThiZik7CiAgICAgICAgCiAgICAKICAgICAgICB2YXIgcG9wdXBfYjFiYTA2MGYxOTNkNGY1ZDg5NTU2ODE5ZjllMDQ1MDMgPSBMLnBvcHVwKHsibWF4V2lkdGgiOiAiMTAwJSJ9KTsKCiAgICAgICAgCiAgICAgICAgICAgIHZhciBodG1sX2QxYzk5YTZjZDUwOTQzMWFhOWM1MzJjOWRmZDcyNGZiID0gJChgPGRpdiBpZD0iaHRtbF9kMWM5OWE2Y2Q1MDk0MzFhYTljNTMyYzlkZmQ3MjRmYiIgc3R5bGU9IndpZHRoOiAxMDAuMCU7IGhlaWdodDogMTAwLjAlOyI+SGlnaCBQYXJrLCBUaGUgSnVuY3Rpb24gU291dGg8L2Rpdj5gKVswXTsKICAgICAgICAgICAgcG9wdXBfYjFiYTA2MGYxOTNkNGY1ZDg5NTU2ODE5ZjllMDQ1MDMuc2V0Q29udGVudChodG1sX2QxYzk5YTZjZDUwOTQzMWFhOWM1MzJjOWRmZDcyNGZiKTsKICAgICAgICAKCiAgICAgICAgY2lyY2xlX21hcmtlcl8wY2E2ZTNjNzM1MWI0OTk2OWE0OGYyNjUyMmVhZjc1Ni5iaW5kUG9wdXAocG9wdXBfYjFiYTA2MGYxOTNkNGY1ZDg5NTU2ODE5ZjllMDQ1MDMpCiAgICAgICAgOwoKICAgICAgICAKICAgIAogICAgCiAgICAgICAgICAgIHZhciBjaXJjbGVfbWFya2VyX2E3OWYyMjEzMDE0NzQwZjZiNzZjYWUzYjE5MDlhNzBjID0gTC5jaXJjbGVNYXJrZXIoCiAgICAgICAgICAgICAgICBbNDMuNzE1MzgzNCwgLTc5LjQwNTY3ODRdLAogICAgICAgICAgICAgICAgeyJidWJibGluZ01vdXNlRXZlbnRzIjogdHJ1ZSwgImNvbG9yIjogImJsdWUiLCAiZGFzaEFycmF5IjogbnVsbCwgImRhc2hPZmZzZXQiOiBudWxsLCAiZmlsbCI6IHRydWUsICJmaWxsQ29sb3IiOiAiIzMxODZjYyIsICJmaWxsT3BhY2l0eSI6IDAuNywgImZpbGxSdWxlIjogImV2ZW5vZGQiLCAibGluZUNhcCI6ICJyb3VuZCIsICJsaW5lSm9pbiI6ICJyb3VuZCIsICJvcGFjaXR5IjogMS4wLCAicmFkaXVzIjogNSwgInN0cm9rZSI6IHRydWUsICJ3ZWlnaHQiOiAzfQogICAgICAgICAgICApLmFkZFRvKG1hcF83OTMzMGQxMWNhMWQ0MmQwYTRlYzY1ZGZkYzVhNThiZik7CiAgICAgICAgCiAgICAKICAgICAgICB2YXIgcG9wdXBfNzM0MTgwMmY4NWYzNDJiM2JhNTllMmRlOWIwNmQ2MTYgPSBMLnBvcHVwKHsibWF4V2lkdGgiOiAiMTAwJSJ9KTsKCiAgICAgICAgCiAgICAgICAgICAgIHZhciBodG1sX2Y2MTM5ZTkzZjk5ZDQ5NDE4NjMwODAxYTE5N2FlY2EyID0gJChgPGRpdiBpZD0iaHRtbF9mNjEzOWU5M2Y5OWQ0OTQxODYzMDgwMWExOTdhZWNhMiIgc3R5bGU9IndpZHRoOiAxMDAuMCU7IGhlaWdodDogMTAwLjAlOyI+Tm9ydGggVG9yb250byBXZXN0PC9kaXY+YClbMF07CiAgICAgICAgICAgIHBvcHVwXzczNDE4MDJmODVmMzQyYjNiYTU5ZTJkZTliMDZkNjE2LnNldENvbnRlbnQoaHRtbF9mNjEzOWU5M2Y5OWQ0OTQxODYzMDgwMWExOTdhZWNhMik7CiAgICAgICAgCgogICAgICAgIGNpcmNsZV9tYXJrZXJfYTc5ZjIyMTMwMTQ3NDBmNmI3NmNhZTNiMTkwOWE3MGMuYmluZFBvcHVwKHBvcHVwXzczNDE4MDJmODVmMzQyYjNiYTU5ZTJkZTliMDZkNjE2KQogICAgICAgIDsKCiAgICAgICAgCiAgICAKICAgIAogICAgICAgICAgICB2YXIgY2lyY2xlX21hcmtlcl8zYjEzYTRiOWEwNWE0MDIxYTRiYWIxMWY1NjAxNDc0ZiA9IEwuY2lyY2xlTWFya2VyKAogICAgICAgICAgICAgICAgWzQzLjY3MjcwOTcsIC03OS40MDU2Nzg0XSwKICAgICAgICAgICAgICAgIHsiYnViYmxpbmdNb3VzZUV2ZW50cyI6IHRydWUsICJjb2xvciI6ICJibHVlIiwgImRhc2hBcnJheSI6IG51bGwsICJkYXNoT2Zmc2V0IjogbnVsbCwgImZpbGwiOiB0cnVlLCAiZmlsbENvbG9yIjogIiMzMTg2Y2MiLCAiZmlsbE9wYWNpdHkiOiAwLjcsICJmaWxsUnVsZSI6ICJldmVub2RkIiwgImxpbmVDYXAiOiAicm91bmQiLCAibGluZUpvaW4iOiAicm91bmQiLCAib3BhY2l0eSI6IDEuMCwgInJhZGl1cyI6IDUsICJzdHJva2UiOiB0cnVlLCAid2VpZ2h0IjogM30KICAgICAgICAgICAgKS5hZGRUbyhtYXBfNzkzMzBkMTFjYTFkNDJkMGE0ZWM2NWRmZGM1YTU4YmYpOwogICAgICAgIAogICAgCiAgICAgICAgdmFyIHBvcHVwXzNlNmU4OTBmOTMyMzQ3ZDc4ZjdkNmI1YTU4NjFiYzI5ID0gTC5wb3B1cCh7Im1heFdpZHRoIjogIjEwMCUifSk7CgogICAgICAgIAogICAgICAgICAgICB2YXIgaHRtbF9jMjJiM2QzNGJkYzM0ZjRkOWEzYWNlOGE5NTUxZmE1NyA9ICQoYDxkaXYgaWQ9Imh0bWxfYzIyYjNkMzRiZGMzNGY0ZDlhM2FjZThhOTU1MWZhNTciIHN0eWxlPSJ3aWR0aDogMTAwLjAlOyBoZWlnaHQ6IDEwMC4wJTsiPlRoZSBBbm5leCwgTm9ydGggTWlkdG93biwgWW9ya3ZpbGxlPC9kaXY+YClbMF07CiAgICAgICAgICAgIHBvcHVwXzNlNmU4OTBmOTMyMzQ3ZDc4ZjdkNmI1YTU4NjFiYzI5LnNldENvbnRlbnQoaHRtbF9jMjJiM2QzNGJkYzM0ZjRkOWEzYWNlOGE5NTUxZmE1Nyk7CiAgICAgICAgCgogICAgICAgIGNpcmNsZV9tYXJrZXJfM2IxM2E0YjlhMDVhNDAyMWE0YmFiMTFmNTYwMTQ3NGYuYmluZFBvcHVwKHBvcHVwXzNlNmU4OTBmOTMyMzQ3ZDc4ZjdkNmI1YTU4NjFiYzI5KQogICAgICAgIDsKCiAgICAgICAgCiAgICAKICAgIAogICAgICAgICAgICB2YXIgY2lyY2xlX21hcmtlcl8zYzhlNWE2OWQwOWI0NjQ0YTdlYWVjMzA0ZDZhMzkzZSA9IEwuY2lyY2xlTWFya2VyKAogICAgICAgICAgICAgICAgWzQzLjY0ODk1OTcsIC03OS40NTYzMjQ5OTk5OTk5OV0sCiAgICAgICAgICAgICAgICB7ImJ1YmJsaW5nTW91c2VFdmVudHMiOiB0cnVlLCAiY29sb3IiOiAiYmx1ZSIsICJkYXNoQXJyYXkiOiBudWxsLCAiZGFzaE9mZnNldCI6IG51bGwsICJmaWxsIjogdHJ1ZSwgImZpbGxDb2xvciI6ICIjMzE4NmNjIiwgImZpbGxPcGFjaXR5IjogMC43LCAiZmlsbFJ1bGUiOiAiZXZlbm9kZCIsICJsaW5lQ2FwIjogInJvdW5kIiwgImxpbmVKb2luIjogInJvdW5kIiwgIm9wYWNpdHkiOiAxLjAsICJyYWRpdXMiOiA1LCAic3Ryb2tlIjogdHJ1ZSwgIndlaWdodCI6IDN9CiAgICAgICAgICAgICkuYWRkVG8obWFwXzc5MzMwZDExY2ExZDQyZDBhNGVjNjVkZmRjNWE1OGJmKTsKICAgICAgICAKICAgIAogICAgICAgIHZhciBwb3B1cF9mZGI1YzY0YTljYzA0NGUyYjllYmE2YTQwZjM2YTU1ZiA9IEwucG9wdXAoeyJtYXhXaWR0aCI6ICIxMDAlIn0pOwoKICAgICAgICAKICAgICAgICAgICAgdmFyIGh0bWxfOTQzMTk3ZjBhYjQxNDBhODk3NzYzNmUzMzk0MjkxMTUgPSAkKGA8ZGl2IGlkPSJodG1sXzk0MzE5N2YwYWI0MTQwYTg5Nzc2MzZlMzM5NDI5MTE1IiBzdHlsZT0id2lkdGg6IDEwMC4wJTsgaGVpZ2h0OiAxMDAuMCU7Ij5QYXJrZGFsZSwgUm9uY2VzdmFsbGVzPC9kaXY+YClbMF07CiAgICAgICAgICAgIHBvcHVwX2ZkYjVjNjRhOWNjMDQ0ZTJiOWViYTZhNDBmMzZhNTVmLnNldENvbnRlbnQoaHRtbF85NDMxOTdmMGFiNDE0MGE4OTc3NjM2ZTMzOTQyOTExNSk7CiAgICAgICAgCgogICAgICAgIGNpcmNsZV9tYXJrZXJfM2M4ZTVhNjlkMDliNDY0NGE3ZWFlYzMwNGQ2YTM5M2UuYmluZFBvcHVwKHBvcHVwX2ZkYjVjNjRhOWNjMDQ0ZTJiOWViYTZhNDBmMzZhNTVmKQogICAgICAgIDsKCiAgICAgICAgCiAgICAKICAgIAogICAgICAgICAgICB2YXIgY2lyY2xlX21hcmtlcl9hODhjZjBlM2FhZmY0ZDdjYTE1Mjg5OThkNmY4NTY1MCA9IEwuY2lyY2xlTWFya2VyKAogICAgICAgICAgICAgICAgWzQzLjcwNDMyNDQsIC03OS4zODg3OTAxXSwKICAgICAgICAgICAgICAgIHsiYnViYmxpbmdNb3VzZUV2ZW50cyI6IHRydWUsICJjb2xvciI6ICJibHVlIiwgImRhc2hBcnJheSI6IG51bGwsICJkYXNoT2Zmc2V0IjogbnVsbCwgImZpbGwiOiB0cnVlLCAiZmlsbENvbG9yIjogIiMzMTg2Y2MiLCAiZmlsbE9wYWNpdHkiOiAwLjcsICJmaWxsUnVsZSI6ICJldmVub2RkIiwgImxpbmVDYXAiOiAicm91bmQiLCAibGluZUpvaW4iOiAicm91bmQiLCAib3BhY2l0eSI6IDEuMCwgInJhZGl1cyI6IDUsICJzdHJva2UiOiB0cnVlLCAid2VpZ2h0IjogM30KICAgICAgICAgICAgKS5hZGRUbyhtYXBfNzkzMzBkMTFjYTFkNDJkMGE0ZWM2NWRmZGM1YTU4YmYpOwogICAgICAgIAogICAgCiAgICAgICAgdmFyIHBvcHVwXzY3YTE5MmUyZmIyMjQ4YTNhOTcyN2QxMGE5YThjZWEzID0gTC5wb3B1cCh7Im1heFdpZHRoIjogIjEwMCUifSk7CgogICAgICAgIAogICAgICAgICAgICB2YXIgaHRtbF85MjQyYjQ0NmIwZmU0NmU3OThiMGFjNWZiZGU2MGEyOCA9ICQoYDxkaXYgaWQ9Imh0bWxfOTI0MmI0NDZiMGZlNDZlNzk4YjBhYzVmYmRlNjBhMjgiIHN0eWxlPSJ3aWR0aDogMTAwLjAlOyBoZWlnaHQ6IDEwMC4wJTsiPkRhdmlzdmlsbGU8L2Rpdj5gKVswXTsKICAgICAgICAgICAgcG9wdXBfNjdhMTkyZTJmYjIyNDhhM2E5NzI3ZDEwYTlhOGNlYTMuc2V0Q29udGVudChodG1sXzkyNDJiNDQ2YjBmZTQ2ZTc5OGIwYWM1ZmJkZTYwYTI4KTsKICAgICAgICAKCiAgICAgICAgY2lyY2xlX21hcmtlcl9hODhjZjBlM2FhZmY0ZDdjYTE1Mjg5OThkNmY4NTY1MC5iaW5kUG9wdXAocG9wdXBfNjdhMTkyZTJmYjIyNDhhM2E5NzI3ZDEwYTlhOGNlYTMpCiAgICAgICAgOwoKICAgICAgICAKICAgIAogICAgCiAgICAgICAgICAgIHZhciBjaXJjbGVfbWFya2VyXzkxNDViMGVhNTM0YjRiMTU4NWUzOGYxMTZiODE1ZmZkID0gTC5jaXJjbGVNYXJrZXIoCiAgICAgICAgICAgICAgICBbNDMuNjYyNjk1NiwgLTc5LjQwMDA0OTI5OTk5OTk5XSwKICAgICAgICAgICAgICAgIHsiYnViYmxpbmdNb3VzZUV2ZW50cyI6IHRydWUsICJjb2xvciI6ICJibHVlIiwgImRhc2hBcnJheSI6IG51bGwsICJkYXNoT2Zmc2V0IjogbnVsbCwgImZpbGwiOiB0cnVlLCAiZmlsbENvbG9yIjogIiMzMTg2Y2MiLCAiZmlsbE9wYWNpdHkiOiAwLjcsICJmaWxsUnVsZSI6ICJldmVub2RkIiwgImxpbmVDYXAiOiAicm91bmQiLCAibGluZUpvaW4iOiAicm91bmQiLCAib3BhY2l0eSI6IDEuMCwgInJhZGl1cyI6IDUsICJzdHJva2UiOiB0cnVlLCAid2VpZ2h0IjogM30KICAgICAgICAgICAgKS5hZGRUbyhtYXBfNzkzMzBkMTFjYTFkNDJkMGE0ZWM2NWRmZGM1YTU4YmYpOwogICAgICAgIAogICAgCiAgICAgICAgdmFyIHBvcHVwX2U1ZjkyZTMzZGMxMjRmOTU4OWExYTE3ZTM0YjFlYjM0ID0gTC5wb3B1cCh7Im1heFdpZHRoIjogIjEwMCUifSk7CgogICAgICAgIAogICAgICAgICAgICB2YXIgaHRtbF81M2YzYmFhOTA5M2U0YTBmOTVlMmNjMjI1OTNlOGEwNyA9ICQoYDxkaXYgaWQ9Imh0bWxfNTNmM2JhYTkwOTNlNGEwZjk1ZTJjYzIyNTkzZThhMDciIHN0eWxlPSJ3aWR0aDogMTAwLjAlOyBoZWlnaHQ6IDEwMC4wJTsiPlVuaXZlcnNpdHkgb2YgVG9yb250bywgSGFyYm9yZDwvZGl2PmApWzBdOwogICAgICAgICAgICBwb3B1cF9lNWY5MmUzM2RjMTI0Zjk1ODlhMWExN2UzNGIxZWIzNC5zZXRDb250ZW50KGh0bWxfNTNmM2JhYTkwOTNlNGEwZjk1ZTJjYzIyNTkzZThhMDcpOwogICAgICAgIAoKICAgICAgICBjaXJjbGVfbWFya2VyXzkxNDViMGVhNTM0YjRiMTU4NWUzOGYxMTZiODE1ZmZkLmJpbmRQb3B1cChwb3B1cF9lNWY5MmUzM2RjMTI0Zjk1ODlhMWExN2UzNGIxZWIzNCkKICAgICAgICA7CgogICAgICAgIAogICAgCiAgICAKICAgICAgICAgICAgdmFyIGNpcmNsZV9tYXJrZXJfMGNmNjk5MmQ0MWI1NDdhOWE3ZWQ3ZmY0MDUxODA0MmIgPSBMLmNpcmNsZU1hcmtlcigKICAgICAgICAgICAgICAgIFs0My42NTE1NzA2LCAtNzkuNDg0NDQ5OV0sCiAgICAgICAgICAgICAgICB7ImJ1YmJsaW5nTW91c2VFdmVudHMiOiB0cnVlLCAiY29sb3IiOiAiYmx1ZSIsICJkYXNoQXJyYXkiOiBudWxsLCAiZGFzaE9mZnNldCI6IG51bGwsICJmaWxsIjogdHJ1ZSwgImZpbGxDb2xvciI6ICIjMzE4NmNjIiwgImZpbGxPcGFjaXR5IjogMC43LCAiZmlsbFJ1bGUiOiAiZXZlbm9kZCIsICJsaW5lQ2FwIjogInJvdW5kIiwgImxpbmVKb2luIjogInJvdW5kIiwgIm9wYWNpdHkiOiAxLjAsICJyYWRpdXMiOiA1LCAic3Ryb2tlIjogdHJ1ZSwgIndlaWdodCI6IDN9CiAgICAgICAgICAgICkuYWRkVG8obWFwXzc5MzMwZDExY2ExZDQyZDBhNGVjNjVkZmRjNWE1OGJmKTsKICAgICAgICAKICAgIAogICAgICAgIHZhciBwb3B1cF9kYzVhZDNkNjcwNDE0YmFhOTEyODdhNDBiYmZkOTA0OCA9IEwucG9wdXAoeyJtYXhXaWR0aCI6ICIxMDAlIn0pOwoKICAgICAgICAKICAgICAgICAgICAgdmFyIGh0bWxfNTJhNWJkYWFiNzcxNGE0NGFiNDBmMjlmYmJmODIwZjUgPSAkKGA8ZGl2IGlkPSJodG1sXzUyYTViZGFhYjc3MTRhNDRhYjQwZjI5ZmJiZjgyMGY1IiBzdHlsZT0id2lkdGg6IDEwMC4wJTsgaGVpZ2h0OiAxMDAuMCU7Ij5SdW5ueW1lZGUsIFN3YW5zZWE8L2Rpdj5gKVswXTsKICAgICAgICAgICAgcG9wdXBfZGM1YWQzZDY3MDQxNGJhYTkxMjg3YTQwYmJmZDkwNDguc2V0Q29udGVudChodG1sXzUyYTViZGFhYjc3MTRhNDRhYjQwZjI5ZmJiZjgyMGY1KTsKICAgICAgICAKCiAgICAgICAgY2lyY2xlX21hcmtlcl8wY2Y2OTkyZDQxYjU0N2E5YTdlZDdmZjQwNTE4MDQyYi5iaW5kUG9wdXAocG9wdXBfZGM1YWQzZDY3MDQxNGJhYTkxMjg3YTQwYmJmZDkwNDgpCiAgICAgICAgOwoKICAgICAgICAKICAgIAogICAgCiAgICAgICAgICAgIHZhciBjaXJjbGVfbWFya2VyX2ZmZWU3ZmUxOWMyMTQ5NzM5ZDQ3ODZmYjkwZTI1MDQzID0gTC5jaXJjbGVNYXJrZXIoCiAgICAgICAgICAgICAgICBbNDMuNjg5NTc0MywgLTc5LjM4MzE1OTldLAogICAgICAgICAgICAgICAgeyJidWJibGluZ01vdXNlRXZlbnRzIjogdHJ1ZSwgImNvbG9yIjogImJsdWUiLCAiZGFzaEFycmF5IjogbnVsbCwgImRhc2hPZmZzZXQiOiBudWxsLCAiZmlsbCI6IHRydWUsICJmaWxsQ29sb3IiOiAiIzMxODZjYyIsICJmaWxsT3BhY2l0eSI6IDAuNywgImZpbGxSdWxlIjogImV2ZW5vZGQiLCAibGluZUNhcCI6ICJyb3VuZCIsICJsaW5lSm9pbiI6ICJyb3VuZCIsICJvcGFjaXR5IjogMS4wLCAicmFkaXVzIjogNSwgInN0cm9rZSI6IHRydWUsICJ3ZWlnaHQiOiAzfQogICAgICAgICAgICApLmFkZFRvKG1hcF83OTMzMGQxMWNhMWQ0MmQwYTRlYzY1ZGZkYzVhNThiZik7CiAgICAgICAgCiAgICAKICAgICAgICB2YXIgcG9wdXBfZDk3NGJhNzgwODI0NDZjODk0MzRiODlhNmI2YzEyMjIgPSBMLnBvcHVwKHsibWF4V2lkdGgiOiAiMTAwJSJ9KTsKCiAgICAgICAgCiAgICAgICAgICAgIHZhciBodG1sX2EyMjM5MDQ2OWI5NzRhODk5ZDUxZWQ2YzA3NTcyYWVmID0gJChgPGRpdiBpZD0iaHRtbF9hMjIzOTA0NjliOTc0YTg5OWQ1MWVkNmMwNzU3MmFlZiIgc3R5bGU9IndpZHRoOiAxMDAuMCU7IGhlaWdodDogMTAwLjAlOyI+TW9vcmUgUGFyaywgU3VtbWVyaGlsbCBFYXN0PC9kaXY+YClbMF07CiAgICAgICAgICAgIHBvcHVwX2Q5NzRiYTc4MDgyNDQ2Yzg5NDM0Yjg5YTZiNmMxMjIyLnNldENvbnRlbnQoaHRtbF9hMjIzOTA0NjliOTc0YTg5OWQ1MWVkNmMwNzU3MmFlZik7CiAgICAgICAgCgogICAgICAgIGNpcmNsZV9tYXJrZXJfZmZlZTdmZTE5YzIxNDk3MzlkNDc4NmZiOTBlMjUwNDMuYmluZFBvcHVwKHBvcHVwX2Q5NzRiYTc4MDgyNDQ2Yzg5NDM0Yjg5YTZiNmMxMjIyKQogICAgICAgIDsKCiAgICAgICAgCiAgICAKICAgIAogICAgICAgICAgICB2YXIgY2lyY2xlX21hcmtlcl9mOTAyNjc0MzlkZWM0MzIwODc1ZmE2NTNjYTI2NjFmYSA9IEwuY2lyY2xlTWFya2VyKAogICAgICAgICAgICAgICAgWzQzLjY1MzIwNTcsIC03OS40MDAwNDkyOTk5OTk5OV0sCiAgICAgICAgICAgICAgICB7ImJ1YmJsaW5nTW91c2VFdmVudHMiOiB0cnVlLCAiY29sb3IiOiAiYmx1ZSIsICJkYXNoQXJyYXkiOiBudWxsLCAiZGFzaE9mZnNldCI6IG51bGwsICJmaWxsIjogdHJ1ZSwgImZpbGxDb2xvciI6ICIjMzE4NmNjIiwgImZpbGxPcGFjaXR5IjogMC43LCAiZmlsbFJ1bGUiOiAiZXZlbm9kZCIsICJsaW5lQ2FwIjogInJvdW5kIiwgImxpbmVKb2luIjogInJvdW5kIiwgIm9wYWNpdHkiOiAxLjAsICJyYWRpdXMiOiA1LCAic3Ryb2tlIjogdHJ1ZSwgIndlaWdodCI6IDN9CiAgICAgICAgICAgICkuYWRkVG8obWFwXzc5MzMwZDExY2ExZDQyZDBhNGVjNjVkZmRjNWE1OGJmKTsKICAgICAgICAKICAgIAogICAgICAgIHZhciBwb3B1cF8wOTNkOGJmY2Q2NTY0OTFmOWMzZjJhNTE4N2MzMjBlMyA9IEwucG9wdXAoeyJtYXhXaWR0aCI6ICIxMDAlIn0pOwoKICAgICAgICAKICAgICAgICAgICAgdmFyIGh0bWxfNDkwNDFiMTcyZTZlNDM0MGFjZDA0YzY0ZTczNTg5ZDYgPSAkKGA8ZGl2IGlkPSJodG1sXzQ5MDQxYjE3MmU2ZTQzNDBhY2QwNGM2NGU3MzU4OWQ2IiBzdHlsZT0id2lkdGg6IDEwMC4wJTsgaGVpZ2h0OiAxMDAuMCU7Ij5LZW5zaW5ndG9uIE1hcmtldCwgQ2hpbmF0b3duLCBHcmFuZ2UgUGFyazwvZGl2PmApWzBdOwogICAgICAgICAgICBwb3B1cF8wOTNkOGJmY2Q2NTY0OTFmOWMzZjJhNTE4N2MzMjBlMy5zZXRDb250ZW50KGh0bWxfNDkwNDFiMTcyZTZlNDM0MGFjZDA0YzY0ZTczNTg5ZDYpOwogICAgICAgIAoKICAgICAgICBjaXJjbGVfbWFya2VyX2Y5MDI2NzQzOWRlYzQzMjA4NzVmYTY1M2NhMjY2MWZhLmJpbmRQb3B1cChwb3B1cF8wOTNkOGJmY2Q2NTY0OTFmOWMzZjJhNTE4N2MzMjBlMykKICAgICAgICA7CgogICAgICAgIAogICAgCiAgICAKICAgICAgICAgICAgdmFyIGNpcmNsZV9tYXJrZXJfNDZlODQxZTliNzAyNGRlNWIzNjhkN2QxNzA0Mzc4ZTYgPSBMLmNpcmNsZU1hcmtlcigKICAgICAgICAgICAgICAgIFs0My42ODY0MTIzLCAtNzkuNDAwMDQ5Mjk5OTk5OTldLAogICAgICAgICAgICAgICAgeyJidWJibGluZ01vdXNlRXZlbnRzIjogdHJ1ZSwgImNvbG9yIjogImJsdWUiLCAiZGFzaEFycmF5IjogbnVsbCwgImRhc2hPZmZzZXQiOiBudWxsLCAiZmlsbCI6IHRydWUsICJmaWxsQ29sb3IiOiAiIzMxODZjYyIsICJmaWxsT3BhY2l0eSI6IDAuNywgImZpbGxSdWxlIjogImV2ZW5vZGQiLCAibGluZUNhcCI6ICJyb3VuZCIsICJsaW5lSm9pbiI6ICJyb3VuZCIsICJvcGFjaXR5IjogMS4wLCAicmFkaXVzIjogNSwgInN0cm9rZSI6IHRydWUsICJ3ZWlnaHQiOiAzfQogICAgICAgICAgICApLmFkZFRvKG1hcF83OTMzMGQxMWNhMWQ0MmQwYTRlYzY1ZGZkYzVhNThiZik7CiAgICAgICAgCiAgICAKICAgICAgICB2YXIgcG9wdXBfMGVhYjUzYjM5ZmY5NDM2ZDhjNWM5YzI1OWNiMWQ3MzUgPSBMLnBvcHVwKHsibWF4V2lkdGgiOiAiMTAwJSJ9KTsKCiAgICAgICAgCiAgICAgICAgICAgIHZhciBodG1sX2EyMzg5YWRkZjc0MzQwMzdiNmI2ZjBmM2M1NWFhMmJiID0gJChgPGRpdiBpZD0iaHRtbF9hMjM4OWFkZGY3NDM0MDM3YjZiNmYwZjNjNTVhYTJiYiIgc3R5bGU9IndpZHRoOiAxMDAuMCU7IGhlaWdodDogMTAwLjAlOyI+U3VtbWVyaGlsbCBXZXN0LCBSYXRobmVsbHksIFNvdXRoIEhpbGwsIEZvcmVzdCBIaWxsIFNFLCBEZWVyIFBhcms8L2Rpdj5gKVswXTsKICAgICAgICAgICAgcG9wdXBfMGVhYjUzYjM5ZmY5NDM2ZDhjNWM5YzI1OWNiMWQ3MzUuc2V0Q29udGVudChodG1sX2EyMzg5YWRkZjc0MzQwMzdiNmI2ZjBmM2M1NWFhMmJiKTsKICAgICAgICAKCiAgICAgICAgY2lyY2xlX21hcmtlcl80NmU4NDFlOWI3MDI0ZGU1YjM2OGQ3ZDE3MDQzNzhlNi5iaW5kUG9wdXAocG9wdXBfMGVhYjUzYjM5ZmY5NDM2ZDhjNWM5YzI1OWNiMWQ3MzUpCiAgICAgICAgOwoKICAgICAgICAKICAgIAogICAgCiAgICAgICAgICAgIHZhciBjaXJjbGVfbWFya2VyXzA2NDQyNGMwOGRjNDRiZmE5MmQ1Y2E0ZTg1YjU1YzhlID0gTC5jaXJjbGVNYXJrZXIoCiAgICAgICAgICAgICAgICBbNDMuNjI4OTQ2NywgLTc5LjM5NDQxOTldLAogICAgICAgICAgICAgICAgeyJidWJibGluZ01vdXNlRXZlbnRzIjogdHJ1ZSwgImNvbG9yIjogImJsdWUiLCAiZGFzaEFycmF5IjogbnVsbCwgImRhc2hPZmZzZXQiOiBudWxsLCAiZmlsbCI6IHRydWUsICJmaWxsQ29sb3IiOiAiIzMxODZjYyIsICJmaWxsT3BhY2l0eSI6IDAuNywgImZpbGxSdWxlIjogImV2ZW5vZGQiLCAibGluZUNhcCI6ICJyb3VuZCIsICJsaW5lSm9pbiI6ICJyb3VuZCIsICJvcGFjaXR5IjogMS4wLCAicmFkaXVzIjogNSwgInN0cm9rZSI6IHRydWUsICJ3ZWlnaHQiOiAzfQogICAgICAgICAgICApLmFkZFRvKG1hcF83OTMzMGQxMWNhMWQ0MmQwYTRlYzY1ZGZkYzVhNThiZik7CiAgICAgICAgCiAgICAKICAgICAgICB2YXIgcG9wdXBfNWUyYzE2OGRhZDdlNDE0MWE3Njk4NTVjZmZiNGY0YjcgPSBMLnBvcHVwKHsibWF4V2lkdGgiOiAiMTAwJSJ9KTsKCiAgICAgICAgCiAgICAgICAgICAgIHZhciBodG1sX2JhZWIxYTVhNzdmZTQ4ZTA5MzcyNDJkMTFhYTc0NjAzID0gJChgPGRpdiBpZD0iaHRtbF9iYWViMWE1YTc3ZmU0OGUwOTM3MjQyZDExYWE3NDYwMyIgc3R5bGU9IndpZHRoOiAxMDAuMCU7IGhlaWdodDogMTAwLjAlOyI+Q04gVG93ZXIsIEtpbmcgYW5kIFNwYWRpbmEsIFJhaWx3YXkgTGFuZHMsIEhhcmJvdXJmcm9udCBXZXN0LCBCYXRodXJzdCBRdWF5LCBTb3V0aCBOaWFnYXJhLCBJc2xhbmQgYWlycG9ydDwvZGl2PmApWzBdOwogICAgICAgICAgICBwb3B1cF81ZTJjMTY4ZGFkN2U0MTQxYTc2OTg1NWNmZmI0ZjRiNy5zZXRDb250ZW50KGh0bWxfYmFlYjFhNWE3N2ZlNDhlMDkzNzI0MmQxMWFhNzQ2MDMpOwogICAgICAgIAoKICAgICAgICBjaXJjbGVfbWFya2VyXzA2NDQyNGMwOGRjNDRiZmE5MmQ1Y2E0ZTg1YjU1YzhlLmJpbmRQb3B1cChwb3B1cF81ZTJjMTY4ZGFkN2U0MTQxYTc2OTg1NWNmZmI0ZjRiNykKICAgICAgICA7CgogICAgICAgIAogICAgCiAgICAKICAgICAgICAgICAgdmFyIGNpcmNsZV9tYXJrZXJfMzNkNTRjMmU2MGM4NDEyODgzNjc3OGE0NmVhZTBjY2UgPSBMLmNpcmNsZU1hcmtlcigKICAgICAgICAgICAgICAgIFs0My42Nzk1NjI2LCAtNzkuMzc3NTI5NF0sCiAgICAgICAgICAgICAgICB7ImJ1YmJsaW5nTW91c2VFdmVudHMiOiB0cnVlLCAiY29sb3IiOiAiYmx1ZSIsICJkYXNoQXJyYXkiOiBudWxsLCAiZGFzaE9mZnNldCI6IG51bGwsICJmaWxsIjogdHJ1ZSwgImZpbGxDb2xvciI6ICIjMzE4NmNjIiwgImZpbGxPcGFjaXR5IjogMC43LCAiZmlsbFJ1bGUiOiAiZXZlbm9kZCIsICJsaW5lQ2FwIjogInJvdW5kIiwgImxpbmVKb2luIjogInJvdW5kIiwgIm9wYWNpdHkiOiAxLjAsICJyYWRpdXMiOiA1LCAic3Ryb2tlIjogdHJ1ZSwgIndlaWdodCI6IDN9CiAgICAgICAgICAgICkuYWRkVG8obWFwXzc5MzMwZDExY2ExZDQyZDBhNGVjNjVkZmRjNWE1OGJmKTsKICAgICAgICAKICAgIAogICAgICAgIHZhciBwb3B1cF9iMWM1ZmVlNGJjMzM0ZmY2YjY1Yjk3ZTc1N2U2NDg4MCA9IEwucG9wdXAoeyJtYXhXaWR0aCI6ICIxMDAlIn0pOwoKICAgICAgICAKICAgICAgICAgICAgdmFyIGh0bWxfN2YzOTQzYjBhZjY4NDQwODlhOGRlOWY3NzNkMWNmNDEgPSAkKGA8ZGl2IGlkPSJodG1sXzdmMzk0M2IwYWY2ODQ0MDg5YThkZTlmNzczZDFjZjQxIiBzdHlsZT0id2lkdGg6IDEwMC4wJTsgaGVpZ2h0OiAxMDAuMCU7Ij5Sb3NlZGFsZTwvZGl2PmApWzBdOwogICAgICAgICAgICBwb3B1cF9iMWM1ZmVlNGJjMzM0ZmY2YjY1Yjk3ZTc1N2U2NDg4MC5zZXRDb250ZW50KGh0bWxfN2YzOTQzYjBhZjY4NDQwODlhOGRlOWY3NzNkMWNmNDEpOwogICAgICAgIAoKICAgICAgICBjaXJjbGVfbWFya2VyXzMzZDU0YzJlNjBjODQxMjg4MzY3NzhhNDZlYWUwY2NlLmJpbmRQb3B1cChwb3B1cF9iMWM1ZmVlNGJjMzM0ZmY2YjY1Yjk3ZTc1N2U2NDg4MCkKICAgICAgICA7CgogICAgICAgIAogICAgCiAgICAKICAgICAgICAgICAgdmFyIGNpcmNsZV9tYXJrZXJfNDFlNjVkYzY3MWQ3NGU0NGJiNjM2N2I2MDNlYzhhODMgPSBMLmNpcmNsZU1hcmtlcigKICAgICAgICAgICAgICAgIFs0My42NDY0MzUyLCAtNzkuMzc0ODQ1OTk5OTk5OTldLAogICAgICAgICAgICAgICAgeyJidWJibGluZ01vdXNlRXZlbnRzIjogdHJ1ZSwgImNvbG9yIjogImJsdWUiLCAiZGFzaEFycmF5IjogbnVsbCwgImRhc2hPZmZzZXQiOiBudWxsLCAiZmlsbCI6IHRydWUsICJmaWxsQ29sb3IiOiAiIzMxODZjYyIsICJmaWxsT3BhY2l0eSI6IDAuNywgImZpbGxSdWxlIjogImV2ZW5vZGQiLCAibGluZUNhcCI6ICJyb3VuZCIsICJsaW5lSm9pbiI6ICJyb3VuZCIsICJvcGFjaXR5IjogMS4wLCAicmFkaXVzIjogNSwgInN0cm9rZSI6IHRydWUsICJ3ZWlnaHQiOiAzfQogICAgICAgICAgICApLmFkZFRvKG1hcF83OTMzMGQxMWNhMWQ0MmQwYTRlYzY1ZGZkYzVhNThiZik7CiAgICAgICAgCiAgICAKICAgICAgICB2YXIgcG9wdXBfZjBkY2Q2Yzk4M2IyNGNjZWI3ZWE1OGFiNmM4ZDYxYjEgPSBMLnBvcHVwKHsibWF4V2lkdGgiOiAiMTAwJSJ9KTsKCiAgICAgICAgCiAgICAgICAgICAgIHZhciBodG1sX2U5ZTk1ZWNhMmFiZDRjM2I5YTgxM2NiNzhlOWQxMWZkID0gJChgPGRpdiBpZD0iaHRtbF9lOWU5NWVjYTJhYmQ0YzNiOWE4MTNjYjc4ZTlkMTFmZCIgc3R5bGU9IndpZHRoOiAxMDAuMCU7IGhlaWdodDogMTAwLjAlOyI+U3RuIEEgUE8gQm94ZXM8L2Rpdj5gKVswXTsKICAgICAgICAgICAgcG9wdXBfZjBkY2Q2Yzk4M2IyNGNjZWI3ZWE1OGFiNmM4ZDYxYjEuc2V0Q29udGVudChodG1sX2U5ZTk1ZWNhMmFiZDRjM2I5YTgxM2NiNzhlOWQxMWZkKTsKICAgICAgICAKCiAgICAgICAgY2lyY2xlX21hcmtlcl80MWU2NWRjNjcxZDc0ZTQ0YmI2MzY3YjYwM2VjOGE4My5iaW5kUG9wdXAocG9wdXBfZjBkY2Q2Yzk4M2IyNGNjZWI3ZWE1OGFiNmM4ZDYxYjEpCiAgICAgICAgOwoKICAgICAgICAKICAgIAogICAgCiAgICAgICAgICAgIHZhciBjaXJjbGVfbWFya2VyX2Y3ZjdjNzM3OWI4MTQ3Nzc4MzRmOGQyMGYzM2E3ZDYzID0gTC5jaXJjbGVNYXJrZXIoCiAgICAgICAgICAgICAgICBbNDMuNjY3OTY3LCAtNzkuMzY3Njc1M10sCiAgICAgICAgICAgICAgICB7ImJ1YmJsaW5nTW91c2VFdmVudHMiOiB0cnVlLCAiY29sb3IiOiAiYmx1ZSIsICJkYXNoQXJyYXkiOiBudWxsLCAiZGFzaE9mZnNldCI6IG51bGwsICJmaWxsIjogdHJ1ZSwgImZpbGxDb2xvciI6ICIjMzE4NmNjIiwgImZpbGxPcGFjaXR5IjogMC43LCAiZmlsbFJ1bGUiOiAiZXZlbm9kZCIsICJsaW5lQ2FwIjogInJvdW5kIiwgImxpbmVKb2luIjogInJvdW5kIiwgIm9wYWNpdHkiOiAxLjAsICJyYWRpdXMiOiA1LCAic3Ryb2tlIjogdHJ1ZSwgIndlaWdodCI6IDN9CiAgICAgICAgICAgICkuYWRkVG8obWFwXzc5MzMwZDExY2ExZDQyZDBhNGVjNjVkZmRjNWE1OGJmKTsKICAgICAgICAKICAgIAogICAgICAgIHZhciBwb3B1cF82NjQwMGU3ZTIxZGI0OGM1OTVmZDI5Y2UwZTVjMjk2MiA9IEwucG9wdXAoeyJtYXhXaWR0aCI6ICIxMDAlIn0pOwoKICAgICAgICAKICAgICAgICAgICAgdmFyIGh0bWxfNTc5ZmY4NzU4MTBkNGUzMTk1ZTcwMTBjMzdjN2M0OTcgPSAkKGA8ZGl2IGlkPSJodG1sXzU3OWZmODc1ODEwZDRlMzE5NWU3MDEwYzM3YzdjNDk3IiBzdHlsZT0id2lkdGg6IDEwMC4wJTsgaGVpZ2h0OiAxMDAuMCU7Ij5TdC4gSmFtZXMgVG93biwgQ2FiYmFnZXRvd248L2Rpdj5gKVswXTsKICAgICAgICAgICAgcG9wdXBfNjY0MDBlN2UyMWRiNDhjNTk1ZmQyOWNlMGU1YzI5NjIuc2V0Q29udGVudChodG1sXzU3OWZmODc1ODEwZDRlMzE5NWU3MDEwYzM3YzdjNDk3KTsKICAgICAgICAKCiAgICAgICAgY2lyY2xlX21hcmtlcl9mN2Y3YzczNzliODE0Nzc3ODM0ZjhkMjBmMzNhN2Q2My5iaW5kUG9wdXAocG9wdXBfNjY0MDBlN2UyMWRiNDhjNTk1ZmQyOWNlMGU1YzI5NjIpCiAgICAgICAgOwoKICAgICAgICAKICAgIAogICAgCiAgICAgICAgICAgIHZhciBjaXJjbGVfbWFya2VyXzdmYTE1MTdiNWI0NzQ2YTNhNDVlMzdjZjQ2ODEyYjZmID0gTC5jaXJjbGVNYXJrZXIoCiAgICAgICAgICAgICAgICBbNDMuNjQ4NDI5MiwgLTc5LjM4MjI4MDJdLAogICAgICAgICAgICAgICAgeyJidWJibGluZ01vdXNlRXZlbnRzIjogdHJ1ZSwgImNvbG9yIjogImJsdWUiLCAiZGFzaEFycmF5IjogbnVsbCwgImRhc2hPZmZzZXQiOiBudWxsLCAiZmlsbCI6IHRydWUsICJmaWxsQ29sb3IiOiAiIzMxODZjYyIsICJmaWxsT3BhY2l0eSI6IDAuNywgImZpbGxSdWxlIjogImV2ZW5vZGQiLCAibGluZUNhcCI6ICJyb3VuZCIsICJsaW5lSm9pbiI6ICJyb3VuZCIsICJvcGFjaXR5IjogMS4wLCAicmFkaXVzIjogNSwgInN0cm9rZSI6IHRydWUsICJ3ZWlnaHQiOiAzfQogICAgICAgICAgICApLmFkZFRvKG1hcF83OTMzMGQxMWNhMWQ0MmQwYTRlYzY1ZGZkYzVhNThiZik7CiAgICAgICAgCiAgICAKICAgICAgICB2YXIgcG9wdXBfYjVjMWQyYjU4OWI2NDk1Y2I2MTBmNWRkZDgwYmUzOGUgPSBMLnBvcHVwKHsibWF4V2lkdGgiOiAiMTAwJSJ9KTsKCiAgICAgICAgCiAgICAgICAgICAgIHZhciBodG1sXzA0ZTU4YWRlYTM0MzQyMDJhMjg5NmJlMGMwN2ZjZDZlID0gJChgPGRpdiBpZD0iaHRtbF8wNGU1OGFkZWEzNDM0MjAyYTI4OTZiZTBjMDdmY2Q2ZSIgc3R5bGU9IndpZHRoOiAxMDAuMCU7IGhlaWdodDogMTAwLjAlOyI+Rmlyc3QgQ2FuYWRpYW4gUGxhY2UsIFVuZGVyZ3JvdW5kIGNpdHk8L2Rpdj5gKVswXTsKICAgICAgICAgICAgcG9wdXBfYjVjMWQyYjU4OWI2NDk1Y2I2MTBmNWRkZDgwYmUzOGUuc2V0Q29udGVudChodG1sXzA0ZTU4YWRlYTM0MzQyMDJhMjg5NmJlMGMwN2ZjZDZlKTsKICAgICAgICAKCiAgICAgICAgY2lyY2xlX21hcmtlcl83ZmExNTE3YjViNDc0NmEzYTQ1ZTM3Y2Y0NjgxMmI2Zi5iaW5kUG9wdXAocG9wdXBfYjVjMWQyYjU4OWI2NDk1Y2I2MTBmNWRkZDgwYmUzOGUpCiAgICAgICAgOwoKICAgICAgICAKICAgIAogICAgCiAgICAgICAgICAgIHZhciBjaXJjbGVfbWFya2VyXzJiOGRjYTYwZTNjZDQwMGViMDUyZTc4OTE5ZjEzYWY0ID0gTC5jaXJjbGVNYXJrZXIoCiAgICAgICAgICAgICAgICBbNDMuNjY1ODU5OSwgLTc5LjM4MzE1OTldLAogICAgICAgICAgICAgICAgeyJidWJibGluZ01vdXNlRXZlbnRzIjogdHJ1ZSwgImNvbG9yIjogImJsdWUiLCAiZGFzaEFycmF5IjogbnVsbCwgImRhc2hPZmZzZXQiOiBudWxsLCAiZmlsbCI6IHRydWUsICJmaWxsQ29sb3IiOiAiIzMxODZjYyIsICJmaWxsT3BhY2l0eSI6IDAuNywgImZpbGxSdWxlIjogImV2ZW5vZGQiLCAibGluZUNhcCI6ICJyb3VuZCIsICJsaW5lSm9pbiI6ICJyb3VuZCIsICJvcGFjaXR5IjogMS4wLCAicmFkaXVzIjogNSwgInN0cm9rZSI6IHRydWUsICJ3ZWlnaHQiOiAzfQogICAgICAgICAgICApLmFkZFRvKG1hcF83OTMzMGQxMWNhMWQ0MmQwYTRlYzY1ZGZkYzVhNThiZik7CiAgICAgICAgCiAgICAKICAgICAgICB2YXIgcG9wdXBfMzVhM2Y2N2FhMmRkNDVkNjhhYzIyNDY3ZjQ4NzZlNmYgPSBMLnBvcHVwKHsibWF4V2lkdGgiOiAiMTAwJSJ9KTsKCiAgICAgICAgCiAgICAgICAgICAgIHZhciBodG1sX2FjNDZkY2MwMzYzMDRlYTliZjk4OWMyMWYxMjY0NjQzID0gJChgPGRpdiBpZD0iaHRtbF9hYzQ2ZGNjMDM2MzA0ZWE5YmY5ODljMjFmMTI2NDY0MyIgc3R5bGU9IndpZHRoOiAxMDAuMCU7IGhlaWdodDogMTAwLjAlOyI+Q2h1cmNoIGFuZCBXZWxsZXNsZXk8L2Rpdj5gKVswXTsKICAgICAgICAgICAgcG9wdXBfMzVhM2Y2N2FhMmRkNDVkNjhhYzIyNDY3ZjQ4NzZlNmYuc2V0Q29udGVudChodG1sX2FjNDZkY2MwMzYzMDRlYTliZjk4OWMyMWYxMjY0NjQzKTsKICAgICAgICAKCiAgICAgICAgY2lyY2xlX21hcmtlcl8yYjhkY2E2MGUzY2Q0MDBlYjA1MmU3ODkxOWYxM2FmNC5iaW5kUG9wdXAocG9wdXBfMzVhM2Y2N2FhMmRkNDVkNjhhYzIyNDY3ZjQ4NzZlNmYpCiAgICAgICAgOwoKICAgICAgICAKICAgIAogICAgCiAgICAgICAgICAgIHZhciBjaXJjbGVfbWFya2VyXzcyODdjOTg1N2JhNDQ3OTE4N2FkNDJmMGNjMDdkOTNiID0gTC5jaXJjbGVNYXJrZXIoCiAgICAgICAgICAgICAgICBbNDMuNjYyNzQzOSwgLTc5LjMyMTU1OF0sCiAgICAgICAgICAgICAgICB7ImJ1YmJsaW5nTW91c2VFdmVudHMiOiB0cnVlLCAiY29sb3IiOiAiYmx1ZSIsICJkYXNoQXJyYXkiOiBudWxsLCAiZGFzaE9mZnNldCI6IG51bGwsICJmaWxsIjogdHJ1ZSwgImZpbGxDb2xvciI6ICIjMzE4NmNjIiwgImZpbGxPcGFjaXR5IjogMC43LCAiZmlsbFJ1bGUiOiAiZXZlbm9kZCIsICJsaW5lQ2FwIjogInJvdW5kIiwgImxpbmVKb2luIjogInJvdW5kIiwgIm9wYWNpdHkiOiAxLjAsICJyYWRpdXMiOiA1LCAic3Ryb2tlIjogdHJ1ZSwgIndlaWdodCI6IDN9CiAgICAgICAgICAgICkuYWRkVG8obWFwXzc5MzMwZDExY2ExZDQyZDBhNGVjNjVkZmRjNWE1OGJmKTsKICAgICAgICAKICAgIAogICAgICAgIHZhciBwb3B1cF9mMzI5YTQ2YjRhNTY0NTI4OGFlZDVjYmY5ZTkzNGY1MiA9IEwucG9wdXAoeyJtYXhXaWR0aCI6ICIxMDAlIn0pOwoKICAgICAgICAKICAgICAgICAgICAgdmFyIGh0bWxfNDJjMDFmY2EyZTIxNDc4YmI4OGVmNjc0YmZmOWRhNDYgPSAkKGA8ZGl2IGlkPSJodG1sXzQyYzAxZmNhMmUyMTQ3OGJiODhlZjY3NGJmZjlkYTQ2IiBzdHlsZT0id2lkdGg6IDEwMC4wJTsgaGVpZ2h0OiAxMDAuMCU7Ij5CdXNpbmVzcyByZXBseSBtYWlsIFByb2Nlc3NpbmcgQ2VudHJlPC9kaXY+YClbMF07CiAgICAgICAgICAgIHBvcHVwX2YzMjlhNDZiNGE1NjQ1Mjg4YWVkNWNiZjllOTM0ZjUyLnNldENvbnRlbnQoaHRtbF80MmMwMWZjYTJlMjE0NzhiYjg4ZWY2NzRiZmY5ZGE0Nik7CiAgICAgICAgCgogICAgICAgIGNpcmNsZV9tYXJrZXJfNzI4N2M5ODU3YmE0NDc5MTg3YWQ0MmYwY2MwN2Q5M2IuYmluZFBvcHVwKHBvcHVwX2YzMjlhNDZiNGE1NjQ1Mjg4YWVkNWNiZjllOTM0ZjUyKQogICAgICAgIDsKCiAgICAgICAgCiAgICAKPC9zY3JpcHQ+ onload=\"this.contentDocument.open();this.contentDocument.write(atob(this.getAttribute('data-html')));this.contentDocument.close();\" allowfullscreen webkitallowfullscreen mozallowfullscreen></iframe></div></div>"
     },
     "metadata": {},
     "output_type": "execute_result",
     "execution_count": 14
    }
   ],
   "source": [
    "# create map using lat/long values\n",
    "toronto_map = folium.Map(location=[latitude, longitude], zoom_start=11)\n",
    "\n",
    "# add markers to map\n",
    "for lat, lng, label in zip(toronto_df['latitude'], toronto_df['longitude'], toronto_df['Neighborhood']):\n",
    "    label = folium.Popup(label, parse_html=True)\n",
    "    folium.CircleMarker(\n",
    "        [lat, lng],\n",
    "        radius = 5,\n",
    "        popup = label,\n",
    "        color = 'blue',\n",
    "        fill = True,\n",
    "        fill_color = '#3186cc',\n",
    "        fill_opacity = 0.7,\n",
    "        parse_html = False\n",
    "    ).add_to(toronto_map)\n",
    "\n",
    "toronto_map"
   ],
   "metadata": {
    "collapsed": false,
    "pycharm": {
     "name": "#%%\n",
     "is_executing": false
    }
   }
  },
  {
   "cell_type": "markdown",
   "source": [
    "Define Foursquare API values\n"
   ],
   "metadata": {
    "collapsed": false
   }
  },
  {
   "cell_type": "code",
   "execution_count": 15,
   "outputs": [],
   "source": [
    "CLIENT_ID = '**REMOVED**'\n",
    "CLIENT_SECRET = '**REMOVED**'\n",
    "VERSION = '20180605'\n",
    "limit = 100\n",
    "radium = 500"
   ],
   "metadata": {
    "collapsed": false,
    "pycharm": {
     "name": "#%%\n",
     "is_executing": false
    }
   }
  },
  {
   "cell_type": "markdown",
   "source": [
    "Borrowed function from Lab"
   ],
   "metadata": {
    "collapsed": false
   }
  },
  {
   "cell_type": "code",
   "execution_count": 16,
   "outputs": [],
   "source": [
    "import requests\n",
    "import json\n",
    "import pandas.io.json\n",
    "\n",
    "\n",
    "def getNearbyVenues(names, latitudes, longitudes, radius=500):\n",
    "    \n",
    "    venues_list=[]\n",
    "    for name, lat, lng in zip(names, latitudes, longitudes):\n",
    "        print(name)\n",
    "            \n",
    "        # create the API request URL\n",
    "        url = 'https://api.foursquare.com/v2/venues/explore?&client_id={}&client_secret={}&v={}&ll={},{}&radius={}&limit={}'.format(\n",
    "            CLIENT_ID, \n",
    "            CLIENT_SECRET, \n",
    "            VERSION, \n",
    "            lat, \n",
    "            lng, \n",
    "            radius, \n",
    "            limit)\n",
    "            \n",
    "        # make the GET request\n",
    "        results = requests.get(url).json()[\"response\"]['groups'][0]['items']\n",
    "        \n",
    "        # return only relevant information for each nearby venue\n",
    "        venues_list.append([(\n",
    "            name, \n",
    "            lat, \n",
    "            lng, \n",
    "            v['venue']['name'], \n",
    "            v['venue']['location']['lat'], \n",
    "            v['venue']['location']['lng'],  \n",
    "            v['venue']['categories'][0]['name']) for v in results])\n",
    "\n",
    "    nearby_venues = pd.DataFrame([item for venue_list in venues_list for item in venue_list])\n",
    "    nearby_venues.columns = ['Neighborhood', \n",
    "                  'Neighborhood Latitude', \n",
    "                  'Neighborhood Longitude', \n",
    "                  'Venue', \n",
    "                  'Venue Latitude', \n",
    "                  'Venue Longitude', \n",
    "                  'Venue Category']\n",
    "    \n",
    "    return nearby_venues"
   ],
   "metadata": {
    "collapsed": false,
    "pycharm": {
     "name": "#%%\n",
     "is_executing": false
    }
   }
  },
  {
   "cell_type": "markdown",
   "source": [
    "Apply Function to our data"
   ],
   "metadata": {
    "collapsed": false
   }
  },
  {
   "cell_type": "code",
   "execution_count": 17,
   "outputs": [
    {
     "name": "stdout",
     "text": [
      "Regent Park, Harbourfront\n",
      "Queen's Park, Ontario Provincial Government\n",
      "Garden District, Ryerson\n",
      "St. James Town\n",
      "The Beaches\n",
      "Berczy Park\n",
      "Central Bay Street\n",
      "Christie\n",
      "Richmond, Adelaide, King\n",
      "Dufferin, Dovercourt Village\n",
      "Harbourfront East, Union Station, Toronto Islands\n",
      "Little Portugal, Trinity\n",
      "The Danforth West, Riverdale\n",
      "Toronto Dominion Centre, Design Exchange\n",
      "Brockton, Parkdale Village, Exhibition Place\n",
      "India Bazaar, The Beaches West\n",
      "Commerce Court, Victoria Hotel\n",
      "Studio District\n",
      "Lawrence Park\n",
      "Roselawn\n",
      "Davisville North\n",
      "Forest Hill North & West\n",
      "High Park, The Junction South\n",
      "North Toronto West\n",
      "The Annex, North Midtown, Yorkville\n",
      "Parkdale, Roncesvalles\n",
      "Davisville\n",
      "University of Toronto, Harbord\n",
      "Runnymede, Swansea\n",
      "Moore Park, Summerhill East\n",
      "Kensington Market, Chinatown, Grange Park\n",
      "Summerhill West, Rathnelly, South Hill, Forest Hill SE, Deer Park\n",
      "CN Tower, King and Spadina, Railway Lands, Harbourfront West, Bathurst Quay, South Niagara, Island airport\n",
      "Rosedale\n",
      "Stn A PO Boxes\n",
      "St. James Town, Cabbagetown\n",
      "First Canadian Place, Underground city\n",
      "Church and Wellesley\n",
      "Business reply mail Processing Centre\n"
     ],
     "output_type": "stream"
    }
   ],
   "source": [
    "toronto_venues = getNearbyVenues(names=toronto_df['Neighborhood'], latitudes=toronto_df['latitude'], longitudes=toronto_df['longitude'])"
   ],
   "metadata": {
    "collapsed": false,
    "pycharm": {
     "name": "#%%\n",
     "is_executing": false
    }
   }
  },
  {
   "cell_type": "markdown",
   "source": [
    "Check the shape of the resulting dataframe\n",
    "\n"
   ],
   "metadata": {
    "collapsed": false,
    "pycharm": {
     "name": "#%% md\n"
    }
   }
  },
  {
   "cell_type": "code",
   "execution_count": 18,
   "outputs": [
    {
     "name": "stdout",
     "text": [
      "The shape of the dataframe is (1606, 7). The dataset has 1606 rows.\n"
     ],
     "output_type": "stream"
    },
    {
     "data": {
      "text/plain": "                Neighborhood  Neighborhood Latitude  Neighborhood Longitude  \\\n0  Regent Park, Harbourfront               43.65426              -79.360636   \n1  Regent Park, Harbourfront               43.65426              -79.360636   \n2  Regent Park, Harbourfront               43.65426              -79.360636   \n3  Regent Park, Harbourfront               43.65426              -79.360636   \n4  Regent Park, Harbourfront               43.65426              -79.360636   \n\n                    Venue  Venue Latitude  Venue Longitude  \\\n0        Roselle Desserts       43.653447       -79.362017   \n1           Tandem Coffee       43.653559       -79.361809   \n2      Morning Glory Cafe       43.653947       -79.361149   \n3  Cooper Koo Family YMCA       43.653249       -79.358008   \n4     Body Blitz Spa East       43.654735       -79.359874   \n\n        Venue Category  \n0               Bakery  \n1          Coffee Shop  \n2       Breakfast Spot  \n3  Distribution Center  \n4                  Spa  ",
      "text/html": "<div>\n<style scoped>\n    .dataframe tbody tr th:only-of-type {\n        vertical-align: middle;\n    }\n\n    .dataframe tbody tr th {\n        vertical-align: top;\n    }\n\n    .dataframe thead th {\n        text-align: right;\n    }\n</style>\n<table border=\"1\" class=\"dataframe\">\n  <thead>\n    <tr style=\"text-align: right;\">\n      <th></th>\n      <th>Neighborhood</th>\n      <th>Neighborhood Latitude</th>\n      <th>Neighborhood Longitude</th>\n      <th>Venue</th>\n      <th>Venue Latitude</th>\n      <th>Venue Longitude</th>\n      <th>Venue Category</th>\n    </tr>\n  </thead>\n  <tbody>\n    <tr>\n      <th>0</th>\n      <td>Regent Park, Harbourfront</td>\n      <td>43.65426</td>\n      <td>-79.360636</td>\n      <td>Roselle Desserts</td>\n      <td>43.653447</td>\n      <td>-79.362017</td>\n      <td>Bakery</td>\n    </tr>\n    <tr>\n      <th>1</th>\n      <td>Regent Park, Harbourfront</td>\n      <td>43.65426</td>\n      <td>-79.360636</td>\n      <td>Tandem Coffee</td>\n      <td>43.653559</td>\n      <td>-79.361809</td>\n      <td>Coffee Shop</td>\n    </tr>\n    <tr>\n      <th>2</th>\n      <td>Regent Park, Harbourfront</td>\n      <td>43.65426</td>\n      <td>-79.360636</td>\n      <td>Morning Glory Cafe</td>\n      <td>43.653947</td>\n      <td>-79.361149</td>\n      <td>Breakfast Spot</td>\n    </tr>\n    <tr>\n      <th>3</th>\n      <td>Regent Park, Harbourfront</td>\n      <td>43.65426</td>\n      <td>-79.360636</td>\n      <td>Cooper Koo Family YMCA</td>\n      <td>43.653249</td>\n      <td>-79.358008</td>\n      <td>Distribution Center</td>\n    </tr>\n    <tr>\n      <th>4</th>\n      <td>Regent Park, Harbourfront</td>\n      <td>43.65426</td>\n      <td>-79.360636</td>\n      <td>Body Blitz Spa East</td>\n      <td>43.654735</td>\n      <td>-79.359874</td>\n      <td>Spa</td>\n    </tr>\n  </tbody>\n</table>\n</div>"
     },
     "metadata": {},
     "output_type": "execute_result",
     "execution_count": 18
    }
   ],
   "source": [
    "print('The shape of the dataframe is {}. The dataset has {} rows.'.format(toronto_venues.shape, toronto_venues.shape[0]))\n",
    "toronto_venues.head()"
   ],
   "metadata": {
    "collapsed": false,
    "pycharm": {
     "name": "#%%\n",
     "is_executing": false
    }
   }
  },
  {
   "cell_type": "markdown",
   "source": [
    "Check how many venues were returned for each neighborhood"
   ],
   "metadata": {
    "collapsed": false
   }
  },
  {
   "cell_type": "code",
   "execution_count": 19,
   "outputs": [
    {
     "data": {
      "text/plain": "                                                    Neighborhood Latitude  \\\nNeighborhood                                                                \nBerczy Park                                                            56   \nBrockton, Parkdale Village, Exhibition Place                           23   \nBusiness reply mail Processing Centre                                  17   \nCN Tower, King and Spadina, Railway Lands, Harb...                     16   \nCentral Bay Street                                                     63   \nChristie                                                               16   \nChurch and Wellesley                                                   74   \nCommerce Court, Victoria Hotel                                        100   \nDavisville                                                             33   \nDavisville North                                                        8   \nDufferin, Dovercourt Village                                           18   \nFirst Canadian Place, Underground city                                100   \nForest Hill North & West                                                5   \nGarden District, Ryerson                                              100   \nHarbourfront East, Union Station, Toronto Islands                     100   \nHigh Park, The Junction South                                          22   \nIndia Bazaar, The Beaches West                                         21   \nKensington Market, Chinatown, Grange Park                              56   \nLawrence Park                                                           3   \nLittle Portugal, Trinity                                               41   \nMoore Park, Summerhill East                                             4   \nNorth Toronto West                                                     21   \nParkdale, Roncesvalles                                                 14   \nQueen's Park, Ontario Provincial Government                            34   \nRegent Park, Harbourfront                                              45   \nRichmond, Adelaide, King                                               93   \nRosedale                                                                4   \nRoselawn                                                                3   \nRunnymede, Swansea                                                     36   \nSt. James Town                                                         76   \nSt. James Town, Cabbagetown                                            49   \nStn A PO Boxes                                                         94   \nStudio District                                                        40   \nSummerhill West, Rathnelly, South Hill, Forest ...                     16   \nThe Annex, North Midtown, Yorkville                                    23   \nThe Beaches                                                             5   \nThe Danforth West, Riverdale                                           42   \nToronto Dominion Centre, Design Exchange                              100   \nUniversity of Toronto, Harbord                                         35   \n\n                                                    Neighborhood Longitude  \\\nNeighborhood                                                                 \nBerczy Park                                                             56   \nBrockton, Parkdale Village, Exhibition Place                            23   \nBusiness reply mail Processing Centre                                   17   \nCN Tower, King and Spadina, Railway Lands, Harb...                      16   \nCentral Bay Street                                                      63   \nChristie                                                                16   \nChurch and Wellesley                                                    74   \nCommerce Court, Victoria Hotel                                         100   \nDavisville                                                              33   \nDavisville North                                                         8   \nDufferin, Dovercourt Village                                            18   \nFirst Canadian Place, Underground city                                 100   \nForest Hill North & West                                                 5   \nGarden District, Ryerson                                               100   \nHarbourfront East, Union Station, Toronto Islands                      100   \nHigh Park, The Junction South                                           22   \nIndia Bazaar, The Beaches West                                          21   \nKensington Market, Chinatown, Grange Park                               56   \nLawrence Park                                                            3   \nLittle Portugal, Trinity                                                41   \nMoore Park, Summerhill East                                              4   \nNorth Toronto West                                                      21   \nParkdale, Roncesvalles                                                  14   \nQueen's Park, Ontario Provincial Government                             34   \nRegent Park, Harbourfront                                               45   \nRichmond, Adelaide, King                                                93   \nRosedale                                                                 4   \nRoselawn                                                                 3   \nRunnymede, Swansea                                                      36   \nSt. James Town                                                          76   \nSt. James Town, Cabbagetown                                             49   \nStn A PO Boxes                                                          94   \nStudio District                                                         40   \nSummerhill West, Rathnelly, South Hill, Forest ...                      16   \nThe Annex, North Midtown, Yorkville                                     23   \nThe Beaches                                                              5   \nThe Danforth West, Riverdale                                            42   \nToronto Dominion Centre, Design Exchange                               100   \nUniversity of Toronto, Harbord                                          35   \n\n                                                    Venue  Venue Latitude  \\\nNeighborhood                                                                \nBerczy Park                                            56              56   \nBrockton, Parkdale Village, Exhibition Place           23              23   \nBusiness reply mail Processing Centre                  17              17   \nCN Tower, King and Spadina, Railway Lands, Harb...     16              16   \nCentral Bay Street                                     63              63   \nChristie                                               16              16   \nChurch and Wellesley                                   74              74   \nCommerce Court, Victoria Hotel                        100             100   \nDavisville                                             33              33   \nDavisville North                                        8               8   \nDufferin, Dovercourt Village                           18              18   \nFirst Canadian Place, Underground city                100             100   \nForest Hill North & West                                5               5   \nGarden District, Ryerson                              100             100   \nHarbourfront East, Union Station, Toronto Islands     100             100   \nHigh Park, The Junction South                          22              22   \nIndia Bazaar, The Beaches West                         21              21   \nKensington Market, Chinatown, Grange Park              56              56   \nLawrence Park                                           3               3   \nLittle Portugal, Trinity                               41              41   \nMoore Park, Summerhill East                             4               4   \nNorth Toronto West                                     21              21   \nParkdale, Roncesvalles                                 14              14   \nQueen's Park, Ontario Provincial Government            34              34   \nRegent Park, Harbourfront                              45              45   \nRichmond, Adelaide, King                               93              93   \nRosedale                                                4               4   \nRoselawn                                                3               3   \nRunnymede, Swansea                                     36              36   \nSt. James Town                                         76              76   \nSt. James Town, Cabbagetown                            49              49   \nStn A PO Boxes                                         94              94   \nStudio District                                        40              40   \nSummerhill West, Rathnelly, South Hill, Forest ...     16              16   \nThe Annex, North Midtown, Yorkville                    23              23   \nThe Beaches                                             5               5   \nThe Danforth West, Riverdale                           42              42   \nToronto Dominion Centre, Design Exchange              100             100   \nUniversity of Toronto, Harbord                         35              35   \n\n                                                    Venue Longitude  \\\nNeighborhood                                                          \nBerczy Park                                                      56   \nBrockton, Parkdale Village, Exhibition Place                     23   \nBusiness reply mail Processing Centre                            17   \nCN Tower, King and Spadina, Railway Lands, Harb...               16   \nCentral Bay Street                                               63   \nChristie                                                         16   \nChurch and Wellesley                                             74   \nCommerce Court, Victoria Hotel                                  100   \nDavisville                                                       33   \nDavisville North                                                  8   \nDufferin, Dovercourt Village                                     18   \nFirst Canadian Place, Underground city                          100   \nForest Hill North & West                                          5   \nGarden District, Ryerson                                        100   \nHarbourfront East, Union Station, Toronto Islands               100   \nHigh Park, The Junction South                                    22   \nIndia Bazaar, The Beaches West                                   21   \nKensington Market, Chinatown, Grange Park                        56   \nLawrence Park                                                     3   \nLittle Portugal, Trinity                                         41   \nMoore Park, Summerhill East                                       4   \nNorth Toronto West                                               21   \nParkdale, Roncesvalles                                           14   \nQueen's Park, Ontario Provincial Government                      34   \nRegent Park, Harbourfront                                        45   \nRichmond, Adelaide, King                                         93   \nRosedale                                                          4   \nRoselawn                                                          3   \nRunnymede, Swansea                                               36   \nSt. James Town                                                   76   \nSt. James Town, Cabbagetown                                      49   \nStn A PO Boxes                                                   94   \nStudio District                                                  40   \nSummerhill West, Rathnelly, South Hill, Forest ...               16   \nThe Annex, North Midtown, Yorkville                              23   \nThe Beaches                                                       5   \nThe Danforth West, Riverdale                                     42   \nToronto Dominion Centre, Design Exchange                        100   \nUniversity of Toronto, Harbord                                   35   \n\n                                                    Venue Category  \nNeighborhood                                                        \nBerczy Park                                                     56  \nBrockton, Parkdale Village, Exhibition Place                    23  \nBusiness reply mail Processing Centre                           17  \nCN Tower, King and Spadina, Railway Lands, Harb...              16  \nCentral Bay Street                                              63  \nChristie                                                        16  \nChurch and Wellesley                                            74  \nCommerce Court, Victoria Hotel                                 100  \nDavisville                                                      33  \nDavisville North                                                 8  \nDufferin, Dovercourt Village                                    18  \nFirst Canadian Place, Underground city                         100  \nForest Hill North & West                                         5  \nGarden District, Ryerson                                       100  \nHarbourfront East, Union Station, Toronto Islands              100  \nHigh Park, The Junction South                                   22  \nIndia Bazaar, The Beaches West                                  21  \nKensington Market, Chinatown, Grange Park                       56  \nLawrence Park                                                    3  \nLittle Portugal, Trinity                                        41  \nMoore Park, Summerhill East                                      4  \nNorth Toronto West                                              21  \nParkdale, Roncesvalles                                          14  \nQueen's Park, Ontario Provincial Government                     34  \nRegent Park, Harbourfront                                       45  \nRichmond, Adelaide, King                                        93  \nRosedale                                                         4  \nRoselawn                                                         3  \nRunnymede, Swansea                                              36  \nSt. James Town                                                  76  \nSt. James Town, Cabbagetown                                     49  \nStn A PO Boxes                                                  94  \nStudio District                                                 40  \nSummerhill West, Rathnelly, South Hill, Forest ...              16  \nThe Annex, North Midtown, Yorkville                             23  \nThe Beaches                                                      5  \nThe Danforth West, Riverdale                                    42  \nToronto Dominion Centre, Design Exchange                       100  \nUniversity of Toronto, Harbord                                  35  ",
      "text/html": "<div>\n<style scoped>\n    .dataframe tbody tr th:only-of-type {\n        vertical-align: middle;\n    }\n\n    .dataframe tbody tr th {\n        vertical-align: top;\n    }\n\n    .dataframe thead th {\n        text-align: right;\n    }\n</style>\n<table border=\"1\" class=\"dataframe\">\n  <thead>\n    <tr style=\"text-align: right;\">\n      <th></th>\n      <th>Neighborhood Latitude</th>\n      <th>Neighborhood Longitude</th>\n      <th>Venue</th>\n      <th>Venue Latitude</th>\n      <th>Venue Longitude</th>\n      <th>Venue Category</th>\n    </tr>\n    <tr>\n      <th>Neighborhood</th>\n      <th></th>\n      <th></th>\n      <th></th>\n      <th></th>\n      <th></th>\n      <th></th>\n    </tr>\n  </thead>\n  <tbody>\n    <tr>\n      <th>Berczy Park</th>\n      <td>56</td>\n      <td>56</td>\n      <td>56</td>\n      <td>56</td>\n      <td>56</td>\n      <td>56</td>\n    </tr>\n    <tr>\n      <th>Brockton, Parkdale Village, Exhibition Place</th>\n      <td>23</td>\n      <td>23</td>\n      <td>23</td>\n      <td>23</td>\n      <td>23</td>\n      <td>23</td>\n    </tr>\n    <tr>\n      <th>Business reply mail Processing Centre</th>\n      <td>17</td>\n      <td>17</td>\n      <td>17</td>\n      <td>17</td>\n      <td>17</td>\n      <td>17</td>\n    </tr>\n    <tr>\n      <th>CN Tower, King and Spadina, Railway Lands, Harbourfront West, Bathurst Quay, South Niagara, Island airport</th>\n      <td>16</td>\n      <td>16</td>\n      <td>16</td>\n      <td>16</td>\n      <td>16</td>\n      <td>16</td>\n    </tr>\n    <tr>\n      <th>Central Bay Street</th>\n      <td>63</td>\n      <td>63</td>\n      <td>63</td>\n      <td>63</td>\n      <td>63</td>\n      <td>63</td>\n    </tr>\n    <tr>\n      <th>Christie</th>\n      <td>16</td>\n      <td>16</td>\n      <td>16</td>\n      <td>16</td>\n      <td>16</td>\n      <td>16</td>\n    </tr>\n    <tr>\n      <th>Church and Wellesley</th>\n      <td>74</td>\n      <td>74</td>\n      <td>74</td>\n      <td>74</td>\n      <td>74</td>\n      <td>74</td>\n    </tr>\n    <tr>\n      <th>Commerce Court, Victoria Hotel</th>\n      <td>100</td>\n      <td>100</td>\n      <td>100</td>\n      <td>100</td>\n      <td>100</td>\n      <td>100</td>\n    </tr>\n    <tr>\n      <th>Davisville</th>\n      <td>33</td>\n      <td>33</td>\n      <td>33</td>\n      <td>33</td>\n      <td>33</td>\n      <td>33</td>\n    </tr>\n    <tr>\n      <th>Davisville North</th>\n      <td>8</td>\n      <td>8</td>\n      <td>8</td>\n      <td>8</td>\n      <td>8</td>\n      <td>8</td>\n    </tr>\n    <tr>\n      <th>Dufferin, Dovercourt Village</th>\n      <td>18</td>\n      <td>18</td>\n      <td>18</td>\n      <td>18</td>\n      <td>18</td>\n      <td>18</td>\n    </tr>\n    <tr>\n      <th>First Canadian Place, Underground city</th>\n      <td>100</td>\n      <td>100</td>\n      <td>100</td>\n      <td>100</td>\n      <td>100</td>\n      <td>100</td>\n    </tr>\n    <tr>\n      <th>Forest Hill North &amp; West</th>\n      <td>5</td>\n      <td>5</td>\n      <td>5</td>\n      <td>5</td>\n      <td>5</td>\n      <td>5</td>\n    </tr>\n    <tr>\n      <th>Garden District, Ryerson</th>\n      <td>100</td>\n      <td>100</td>\n      <td>100</td>\n      <td>100</td>\n      <td>100</td>\n      <td>100</td>\n    </tr>\n    <tr>\n      <th>Harbourfront East, Union Station, Toronto Islands</th>\n      <td>100</td>\n      <td>100</td>\n      <td>100</td>\n      <td>100</td>\n      <td>100</td>\n      <td>100</td>\n    </tr>\n    <tr>\n      <th>High Park, The Junction South</th>\n      <td>22</td>\n      <td>22</td>\n      <td>22</td>\n      <td>22</td>\n      <td>22</td>\n      <td>22</td>\n    </tr>\n    <tr>\n      <th>India Bazaar, The Beaches West</th>\n      <td>21</td>\n      <td>21</td>\n      <td>21</td>\n      <td>21</td>\n      <td>21</td>\n      <td>21</td>\n    </tr>\n    <tr>\n      <th>Kensington Market, Chinatown, Grange Park</th>\n      <td>56</td>\n      <td>56</td>\n      <td>56</td>\n      <td>56</td>\n      <td>56</td>\n      <td>56</td>\n    </tr>\n    <tr>\n      <th>Lawrence Park</th>\n      <td>3</td>\n      <td>3</td>\n      <td>3</td>\n      <td>3</td>\n      <td>3</td>\n      <td>3</td>\n    </tr>\n    <tr>\n      <th>Little Portugal, Trinity</th>\n      <td>41</td>\n      <td>41</td>\n      <td>41</td>\n      <td>41</td>\n      <td>41</td>\n      <td>41</td>\n    </tr>\n    <tr>\n      <th>Moore Park, Summerhill East</th>\n      <td>4</td>\n      <td>4</td>\n      <td>4</td>\n      <td>4</td>\n      <td>4</td>\n      <td>4</td>\n    </tr>\n    <tr>\n      <th>North Toronto West</th>\n      <td>21</td>\n      <td>21</td>\n      <td>21</td>\n      <td>21</td>\n      <td>21</td>\n      <td>21</td>\n    </tr>\n    <tr>\n      <th>Parkdale, Roncesvalles</th>\n      <td>14</td>\n      <td>14</td>\n      <td>14</td>\n      <td>14</td>\n      <td>14</td>\n      <td>14</td>\n    </tr>\n    <tr>\n      <th>Queen's Park, Ontario Provincial Government</th>\n      <td>34</td>\n      <td>34</td>\n      <td>34</td>\n      <td>34</td>\n      <td>34</td>\n      <td>34</td>\n    </tr>\n    <tr>\n      <th>Regent Park, Harbourfront</th>\n      <td>45</td>\n      <td>45</td>\n      <td>45</td>\n      <td>45</td>\n      <td>45</td>\n      <td>45</td>\n    </tr>\n    <tr>\n      <th>Richmond, Adelaide, King</th>\n      <td>93</td>\n      <td>93</td>\n      <td>93</td>\n      <td>93</td>\n      <td>93</td>\n      <td>93</td>\n    </tr>\n    <tr>\n      <th>Rosedale</th>\n      <td>4</td>\n      <td>4</td>\n      <td>4</td>\n      <td>4</td>\n      <td>4</td>\n      <td>4</td>\n    </tr>\n    <tr>\n      <th>Roselawn</th>\n      <td>3</td>\n      <td>3</td>\n      <td>3</td>\n      <td>3</td>\n      <td>3</td>\n      <td>3</td>\n    </tr>\n    <tr>\n      <th>Runnymede, Swansea</th>\n      <td>36</td>\n      <td>36</td>\n      <td>36</td>\n      <td>36</td>\n      <td>36</td>\n      <td>36</td>\n    </tr>\n    <tr>\n      <th>St. James Town</th>\n      <td>76</td>\n      <td>76</td>\n      <td>76</td>\n      <td>76</td>\n      <td>76</td>\n      <td>76</td>\n    </tr>\n    <tr>\n      <th>St. James Town, Cabbagetown</th>\n      <td>49</td>\n      <td>49</td>\n      <td>49</td>\n      <td>49</td>\n      <td>49</td>\n      <td>49</td>\n    </tr>\n    <tr>\n      <th>Stn A PO Boxes</th>\n      <td>94</td>\n      <td>94</td>\n      <td>94</td>\n      <td>94</td>\n      <td>94</td>\n      <td>94</td>\n    </tr>\n    <tr>\n      <th>Studio District</th>\n      <td>40</td>\n      <td>40</td>\n      <td>40</td>\n      <td>40</td>\n      <td>40</td>\n      <td>40</td>\n    </tr>\n    <tr>\n      <th>Summerhill West, Rathnelly, South Hill, Forest Hill SE, Deer Park</th>\n      <td>16</td>\n      <td>16</td>\n      <td>16</td>\n      <td>16</td>\n      <td>16</td>\n      <td>16</td>\n    </tr>\n    <tr>\n      <th>The Annex, North Midtown, Yorkville</th>\n      <td>23</td>\n      <td>23</td>\n      <td>23</td>\n      <td>23</td>\n      <td>23</td>\n      <td>23</td>\n    </tr>\n    <tr>\n      <th>The Beaches</th>\n      <td>5</td>\n      <td>5</td>\n      <td>5</td>\n      <td>5</td>\n      <td>5</td>\n      <td>5</td>\n    </tr>\n    <tr>\n      <th>The Danforth West, Riverdale</th>\n      <td>42</td>\n      <td>42</td>\n      <td>42</td>\n      <td>42</td>\n      <td>42</td>\n      <td>42</td>\n    </tr>\n    <tr>\n      <th>Toronto Dominion Centre, Design Exchange</th>\n      <td>100</td>\n      <td>100</td>\n      <td>100</td>\n      <td>100</td>\n      <td>100</td>\n      <td>100</td>\n    </tr>\n    <tr>\n      <th>University of Toronto, Harbord</th>\n      <td>35</td>\n      <td>35</td>\n      <td>35</td>\n      <td>35</td>\n      <td>35</td>\n      <td>35</td>\n    </tr>\n  </tbody>\n</table>\n</div>"
     },
     "metadata": {},
     "output_type": "execute_result",
     "execution_count": 19
    }
   ],
   "source": [
    "toronto_venues.groupby('Neighborhood').count()"
   ],
   "metadata": {
    "collapsed": false,
    "pycharm": {
     "name": "#%%\n",
     "is_executing": false
    }
   }
  },
  {
   "cell_type": "markdown",
   "source": [
    "Analyze the Neighborhoods"
   ],
   "metadata": {
    "collapsed": false
   }
  },
  {
   "cell_type": "markdown",
   "source": [
    "Create dummy variables based on venue category for each row in dataframe\n",
    "\n"
   ],
   "metadata": {
    "collapsed": false,
    "pycharm": {
     "name": "#%% md\n",
     "is_executing": false
    }
   }
  },
  {
   "cell_type": "code",
   "execution_count": 20,
   "outputs": [
    {
     "name": "stdout",
     "text": [
      "The shape of the dataframe is (1606, 233). The dataset has 1606 rows.\n"
     ],
     "output_type": "stream"
    },
    {
     "data": {
      "text/plain": "               Neighbourhood  Afghan Restaurant  Airport  Airport Food Court  \\\n0  Regent Park, Harbourfront                  0        0                   0   \n1  Regent Park, Harbourfront                  0        0                   0   \n2  Regent Park, Harbourfront                  0        0                   0   \n3  Regent Park, Harbourfront                  0        0                   0   \n4  Regent Park, Harbourfront                  0        0                   0   \n\n   Airport Gate  Airport Lounge  Airport Service  Airport Terminal  \\\n0             0               0                0                 0   \n1             0               0                0                 0   \n2             0               0                0                 0   \n3             0               0                0                 0   \n4             0               0                0                 0   \n\n   American Restaurant  Antique Shop  ...  Toy / Game Store  Trail  \\\n0                    0             0  ...                 0      0   \n1                    0             0  ...                 0      0   \n2                    0             0  ...                 0      0   \n3                    0             0  ...                 0      0   \n4                    0             0  ...                 0      0   \n\n   Train Station  Vegetarian / Vegan Restaurant  Video Game Store  \\\n0              0                              0                 0   \n1              0                              0                 0   \n2              0                              0                 0   \n3              0                              0                 0   \n4              0                              0                 0   \n\n   Vietnamese Restaurant  Wine Bar  Wings Joint  Women's Store  Yoga Studio  \n0                      0         0            0              0            0  \n1                      0         0            0              0            0  \n2                      0         0            0              0            0  \n3                      0         0            0              0            0  \n4                      0         0            0              0            0  \n\n[5 rows x 233 columns]",
      "text/html": "<div>\n<style scoped>\n    .dataframe tbody tr th:only-of-type {\n        vertical-align: middle;\n    }\n\n    .dataframe tbody tr th {\n        vertical-align: top;\n    }\n\n    .dataframe thead th {\n        text-align: right;\n    }\n</style>\n<table border=\"1\" class=\"dataframe\">\n  <thead>\n    <tr style=\"text-align: right;\">\n      <th></th>\n      <th>Neighbourhood</th>\n      <th>Afghan Restaurant</th>\n      <th>Airport</th>\n      <th>Airport Food Court</th>\n      <th>Airport Gate</th>\n      <th>Airport Lounge</th>\n      <th>Airport Service</th>\n      <th>Airport Terminal</th>\n      <th>American Restaurant</th>\n      <th>Antique Shop</th>\n      <th>...</th>\n      <th>Toy / Game Store</th>\n      <th>Trail</th>\n      <th>Train Station</th>\n      <th>Vegetarian / Vegan Restaurant</th>\n      <th>Video Game Store</th>\n      <th>Vietnamese Restaurant</th>\n      <th>Wine Bar</th>\n      <th>Wings Joint</th>\n      <th>Women's Store</th>\n      <th>Yoga Studio</th>\n    </tr>\n  </thead>\n  <tbody>\n    <tr>\n      <th>0</th>\n      <td>Regent Park, Harbourfront</td>\n      <td>0</td>\n      <td>0</td>\n      <td>0</td>\n      <td>0</td>\n      <td>0</td>\n      <td>0</td>\n      <td>0</td>\n      <td>0</td>\n      <td>0</td>\n      <td>...</td>\n      <td>0</td>\n      <td>0</td>\n      <td>0</td>\n      <td>0</td>\n      <td>0</td>\n      <td>0</td>\n      <td>0</td>\n      <td>0</td>\n      <td>0</td>\n      <td>0</td>\n    </tr>\n    <tr>\n      <th>1</th>\n      <td>Regent Park, Harbourfront</td>\n      <td>0</td>\n      <td>0</td>\n      <td>0</td>\n      <td>0</td>\n      <td>0</td>\n      <td>0</td>\n      <td>0</td>\n      <td>0</td>\n      <td>0</td>\n      <td>...</td>\n      <td>0</td>\n      <td>0</td>\n      <td>0</td>\n      <td>0</td>\n      <td>0</td>\n      <td>0</td>\n      <td>0</td>\n      <td>0</td>\n      <td>0</td>\n      <td>0</td>\n    </tr>\n    <tr>\n      <th>2</th>\n      <td>Regent Park, Harbourfront</td>\n      <td>0</td>\n      <td>0</td>\n      <td>0</td>\n      <td>0</td>\n      <td>0</td>\n      <td>0</td>\n      <td>0</td>\n      <td>0</td>\n      <td>0</td>\n      <td>...</td>\n      <td>0</td>\n      <td>0</td>\n      <td>0</td>\n      <td>0</td>\n      <td>0</td>\n      <td>0</td>\n      <td>0</td>\n      <td>0</td>\n      <td>0</td>\n      <td>0</td>\n    </tr>\n    <tr>\n      <th>3</th>\n      <td>Regent Park, Harbourfront</td>\n      <td>0</td>\n      <td>0</td>\n      <td>0</td>\n      <td>0</td>\n      <td>0</td>\n      <td>0</td>\n      <td>0</td>\n      <td>0</td>\n      <td>0</td>\n      <td>...</td>\n      <td>0</td>\n      <td>0</td>\n      <td>0</td>\n      <td>0</td>\n      <td>0</td>\n      <td>0</td>\n      <td>0</td>\n      <td>0</td>\n      <td>0</td>\n      <td>0</td>\n    </tr>\n    <tr>\n      <th>4</th>\n      <td>Regent Park, Harbourfront</td>\n      <td>0</td>\n      <td>0</td>\n      <td>0</td>\n      <td>0</td>\n      <td>0</td>\n      <td>0</td>\n      <td>0</td>\n      <td>0</td>\n      <td>0</td>\n      <td>...</td>\n      <td>0</td>\n      <td>0</td>\n      <td>0</td>\n      <td>0</td>\n      <td>0</td>\n      <td>0</td>\n      <td>0</td>\n      <td>0</td>\n      <td>0</td>\n      <td>0</td>\n    </tr>\n  </tbody>\n</table>\n<p>5 rows × 233 columns</p>\n</div>"
     },
     "metadata": {},
     "output_type": "execute_result",
     "execution_count": 20
    }
   ],
   "source": [
    "# one hot encoding\n",
    "toronto_onehot = pd.get_dummies(toronto_venues[['Venue Category']], prefix=\"\", prefix_sep=\"\")\n",
    "\n",
    "# add neighborhood column back to dataframe\n",
    "toronto_onehot['Neighbourhood']=toronto_venues['Neighborhood']\n",
    "\n",
    "# move neighborhood column to the first column\n",
    "fixed_columns = [toronto_onehot.columns[-1]] + list(toronto_onehot.columns[:-1])\n",
    "toronto_onehot = toronto_onehot[fixed_columns]\n",
    "\n",
    "# check the number of rows. It must be equal to that of toronto_venues\n",
    "print(\"The shape of the dataframe is {}. The dataset has {} rows.\".format\n",
    "      (toronto_onehot.shape,toronto_onehot.shape[0]))\n",
    "\n",
    "# print top 5 rows\n",
    "toronto_onehot.head()"
   ],
   "metadata": {
    "collapsed": false,
    "pycharm": {
     "name": "#%%\n",
     "is_executing": false
    }
   }
  },
  {
   "cell_type": "markdown",
   "source": [
    "Group rows by neighborhood"
   ],
   "metadata": {
    "collapsed": false
   }
  },
  {
   "cell_type": "code",
   "execution_count": 21,
   "outputs": [
    {
     "name": "stdout",
     "text": [
      "The shape of the dataframe is (39, 233). The dataset has 39 rows.\n"
     ],
     "output_type": "stream"
    },
    {
     "data": {
      "text/plain": "                                       Neighbourhood  Afghan Restaurant  \\\n0                                        Berczy Park                0.0   \n1       Brockton, Parkdale Village, Exhibition Place                0.0   \n2              Business reply mail Processing Centre                0.0   \n3  CN Tower, King and Spadina, Railway Lands, Har...                0.0   \n4                                 Central Bay Street                0.0   \n\n   Airport  Airport Food Court  Airport Gate  Airport Lounge  Airport Service  \\\n0   0.0000              0.0000        0.0000           0.000           0.0000   \n1   0.0000              0.0000        0.0000           0.000           0.0000   \n2   0.0000              0.0000        0.0000           0.000           0.0000   \n3   0.0625              0.0625        0.0625           0.125           0.1875   \n4   0.0000              0.0000        0.0000           0.000           0.0000   \n\n   Airport Terminal  American Restaurant  Antique Shop  ...  Toy / Game Store  \\\n0             0.000                  0.0           0.0  ...               0.0   \n1             0.000                  0.0           0.0  ...               0.0   \n2             0.000                  0.0           0.0  ...               0.0   \n3             0.125                  0.0           0.0  ...               0.0   \n4             0.000                  0.0           0.0  ...               0.0   \n\n   Trail  Train Station  Vegetarian / Vegan Restaurant  Video Game Store  \\\n0    0.0            0.0                       0.017857               0.0   \n1    0.0            0.0                       0.000000               0.0   \n2    0.0            0.0                       0.000000               0.0   \n3    0.0            0.0                       0.000000               0.0   \n4    0.0            0.0                       0.015873               0.0   \n\n   Vietnamese Restaurant  Wine Bar  Wings Joint  Women's Store  Yoga Studio  \n0                    0.0       0.0          0.0            0.0     0.000000  \n1                    0.0       0.0          0.0            0.0     0.000000  \n2                    0.0       0.0          0.0            0.0     0.058824  \n3                    0.0       0.0          0.0            0.0     0.000000  \n4                    0.0       0.0          0.0            0.0     0.015873  \n\n[5 rows x 233 columns]",
      "text/html": "<div>\n<style scoped>\n    .dataframe tbody tr th:only-of-type {\n        vertical-align: middle;\n    }\n\n    .dataframe tbody tr th {\n        vertical-align: top;\n    }\n\n    .dataframe thead th {\n        text-align: right;\n    }\n</style>\n<table border=\"1\" class=\"dataframe\">\n  <thead>\n    <tr style=\"text-align: right;\">\n      <th></th>\n      <th>Neighbourhood</th>\n      <th>Afghan Restaurant</th>\n      <th>Airport</th>\n      <th>Airport Food Court</th>\n      <th>Airport Gate</th>\n      <th>Airport Lounge</th>\n      <th>Airport Service</th>\n      <th>Airport Terminal</th>\n      <th>American Restaurant</th>\n      <th>Antique Shop</th>\n      <th>...</th>\n      <th>Toy / Game Store</th>\n      <th>Trail</th>\n      <th>Train Station</th>\n      <th>Vegetarian / Vegan Restaurant</th>\n      <th>Video Game Store</th>\n      <th>Vietnamese Restaurant</th>\n      <th>Wine Bar</th>\n      <th>Wings Joint</th>\n      <th>Women's Store</th>\n      <th>Yoga Studio</th>\n    </tr>\n  </thead>\n  <tbody>\n    <tr>\n      <th>0</th>\n      <td>Berczy Park</td>\n      <td>0.0</td>\n      <td>0.0000</td>\n      <td>0.0000</td>\n      <td>0.0000</td>\n      <td>0.000</td>\n      <td>0.0000</td>\n      <td>0.000</td>\n      <td>0.0</td>\n      <td>0.0</td>\n      <td>...</td>\n      <td>0.0</td>\n      <td>0.0</td>\n      <td>0.0</td>\n      <td>0.017857</td>\n      <td>0.0</td>\n      <td>0.0</td>\n      <td>0.0</td>\n      <td>0.0</td>\n      <td>0.0</td>\n      <td>0.000000</td>\n    </tr>\n    <tr>\n      <th>1</th>\n      <td>Brockton, Parkdale Village, Exhibition Place</td>\n      <td>0.0</td>\n      <td>0.0000</td>\n      <td>0.0000</td>\n      <td>0.0000</td>\n      <td>0.000</td>\n      <td>0.0000</td>\n      <td>0.000</td>\n      <td>0.0</td>\n      <td>0.0</td>\n      <td>...</td>\n      <td>0.0</td>\n      <td>0.0</td>\n      <td>0.0</td>\n      <td>0.000000</td>\n      <td>0.0</td>\n      <td>0.0</td>\n      <td>0.0</td>\n      <td>0.0</td>\n      <td>0.0</td>\n      <td>0.000000</td>\n    </tr>\n    <tr>\n      <th>2</th>\n      <td>Business reply mail Processing Centre</td>\n      <td>0.0</td>\n      <td>0.0000</td>\n      <td>0.0000</td>\n      <td>0.0000</td>\n      <td>0.000</td>\n      <td>0.0000</td>\n      <td>0.000</td>\n      <td>0.0</td>\n      <td>0.0</td>\n      <td>...</td>\n      <td>0.0</td>\n      <td>0.0</td>\n      <td>0.0</td>\n      <td>0.000000</td>\n      <td>0.0</td>\n      <td>0.0</td>\n      <td>0.0</td>\n      <td>0.0</td>\n      <td>0.0</td>\n      <td>0.058824</td>\n    </tr>\n    <tr>\n      <th>3</th>\n      <td>CN Tower, King and Spadina, Railway Lands, Har...</td>\n      <td>0.0</td>\n      <td>0.0625</td>\n      <td>0.0625</td>\n      <td>0.0625</td>\n      <td>0.125</td>\n      <td>0.1875</td>\n      <td>0.125</td>\n      <td>0.0</td>\n      <td>0.0</td>\n      <td>...</td>\n      <td>0.0</td>\n      <td>0.0</td>\n      <td>0.0</td>\n      <td>0.000000</td>\n      <td>0.0</td>\n      <td>0.0</td>\n      <td>0.0</td>\n      <td>0.0</td>\n      <td>0.0</td>\n      <td>0.000000</td>\n    </tr>\n    <tr>\n      <th>4</th>\n      <td>Central Bay Street</td>\n      <td>0.0</td>\n      <td>0.0000</td>\n      <td>0.0000</td>\n      <td>0.0000</td>\n      <td>0.000</td>\n      <td>0.0000</td>\n      <td>0.000</td>\n      <td>0.0</td>\n      <td>0.0</td>\n      <td>...</td>\n      <td>0.0</td>\n      <td>0.0</td>\n      <td>0.0</td>\n      <td>0.015873</td>\n      <td>0.0</td>\n      <td>0.0</td>\n      <td>0.0</td>\n      <td>0.0</td>\n      <td>0.0</td>\n      <td>0.015873</td>\n    </tr>\n  </tbody>\n</table>\n<p>5 rows × 233 columns</p>\n</div>"
     },
     "metadata": {},
     "output_type": "execute_result",
     "execution_count": 21
    }
   ],
   "source": [
    "toronto_grouped = toronto_onehot.groupby('Neighbourhood').mean().reset_index()\n",
    "\n",
    "# Check shape of toronto_grouped\n",
    "print('The shape of the dataframe is {}. The dataset has {} rows.'.format(\n",
    "    toronto_grouped.shape, toronto_grouped.shape[0]\n",
    "))\n",
    "\n",
    "# Lets look at the head\n",
    "toronto_grouped.head()"
   ],
   "metadata": {
    "collapsed": false,
    "pycharm": {
     "name": "#%%\n",
     "is_executing": false
    }
   }
  },
  {
   "cell_type": "markdown",
   "source": [
    "Clustering:\n",
    "\n",
    "Initiate Clustering"
   ],
   "metadata": {
    "collapsed": false
   }
  },
  {
   "cell_type": "code",
   "execution_count": 22,
   "outputs": [
    {
     "data": {
      "text/plain": "array([0, 0, 0, 0, 0, 0, 0, 0, 0, 0, 0, 0, 2, 0, 0, 0, 0, 0, 1, 0, 2, 0,\n       0, 0, 0, 0, 2, 4, 0, 0, 0, 0, 0, 0, 0, 3, 0, 0, 0])"
     },
     "metadata": {},
     "output_type": "execute_result",
     "execution_count": 22
    }
   ],
   "source": [
    "# set number of clusters\n",
    "kclusters = 5\n",
    "\n",
    "toronto_grouped_clustering = toronto_grouped.drop('Neighbourhood', 1)\n",
    "\n",
    "# run k-means clustering\n",
    "kmeans = KMeans(n_clusters=kclusters, random_state=0).fit(toronto_grouped_clustering)\n",
    "\n",
    "# check cluster labels for each row\n",
    "\n",
    "kmeans.labels_\n",
    "\n"
   ],
   "metadata": {
    "collapsed": false,
    "pycharm": {
     "name": "#%%\n",
     "is_executing": false
    }
   }
  },
  {
   "cell_type": "markdown",
   "source": [
    "Add cluster labels to toronto_grouped and then join back to toronto_df"
   ],
   "metadata": {
    "collapsed": false
   }
  },
  {
   "cell_type": "code",
   "execution_count": 23,
   "outputs": [
    {
     "data": {
      "text/plain": "  Postal Code           Borough                                 Neighborhood  \\\n0         M5A  Downtown Toronto                    Regent Park, Harbourfront   \n1         M7A  Downtown Toronto  Queen's Park, Ontario Provincial Government   \n2         M5B  Downtown Toronto                     Garden District, Ryerson   \n3         M5C  Downtown Toronto                               St. James Town   \n4         M4E      East Toronto                                  The Beaches   \n\n    latitude  longitude  Cluster Labels  Afghan Restaurant  Airport  \\\n0  43.654260 -79.360636               0                0.0      0.0   \n1  43.662301 -79.389494               0                0.0      0.0   \n2  43.657162 -79.378937               0                0.0      0.0   \n3  43.651494 -79.375418               0                0.0      0.0   \n4  43.676357 -79.293031               3                0.0      0.0   \n\n   Airport Food Court  Airport Gate  ...  Toy / Game Store  Trail  \\\n0                 0.0           0.0  ...               0.0    0.0   \n1                 0.0           0.0  ...               0.0    0.0   \n2                 0.0           0.0  ...               0.0    0.0   \n3                 0.0           0.0  ...               0.0    0.0   \n4                 0.0           0.0  ...               0.0    0.2   \n\n   Train Station  Vegetarian / Vegan Restaurant  Video Game Store  \\\n0            0.0                       0.000000              0.00   \n1            0.0                       0.000000              0.00   \n2            0.0                       0.000000              0.01   \n3            0.0                       0.013158              0.00   \n4            0.0                       0.000000              0.00   \n\n   Vietnamese Restaurant  Wine Bar  Wings Joint  Women's Store  Yoga Studio  \n0                   0.00  0.000000     0.000000            0.0     0.022222  \n1                   0.00  0.000000     0.029412            0.0     0.029412  \n2                   0.01  0.000000     0.000000            0.0     0.000000  \n3                   0.00  0.013158     0.000000            0.0     0.000000  \n4                   0.00  0.000000     0.000000            0.0     0.000000  \n\n[5 rows x 238 columns]",
      "text/html": "<div>\n<style scoped>\n    .dataframe tbody tr th:only-of-type {\n        vertical-align: middle;\n    }\n\n    .dataframe tbody tr th {\n        vertical-align: top;\n    }\n\n    .dataframe thead th {\n        text-align: right;\n    }\n</style>\n<table border=\"1\" class=\"dataframe\">\n  <thead>\n    <tr style=\"text-align: right;\">\n      <th></th>\n      <th>Postal Code</th>\n      <th>Borough</th>\n      <th>Neighborhood</th>\n      <th>latitude</th>\n      <th>longitude</th>\n      <th>Cluster Labels</th>\n      <th>Afghan Restaurant</th>\n      <th>Airport</th>\n      <th>Airport Food Court</th>\n      <th>Airport Gate</th>\n      <th>...</th>\n      <th>Toy / Game Store</th>\n      <th>Trail</th>\n      <th>Train Station</th>\n      <th>Vegetarian / Vegan Restaurant</th>\n      <th>Video Game Store</th>\n      <th>Vietnamese Restaurant</th>\n      <th>Wine Bar</th>\n      <th>Wings Joint</th>\n      <th>Women's Store</th>\n      <th>Yoga Studio</th>\n    </tr>\n  </thead>\n  <tbody>\n    <tr>\n      <th>0</th>\n      <td>M5A</td>\n      <td>Downtown Toronto</td>\n      <td>Regent Park, Harbourfront</td>\n      <td>43.654260</td>\n      <td>-79.360636</td>\n      <td>0</td>\n      <td>0.0</td>\n      <td>0.0</td>\n      <td>0.0</td>\n      <td>0.0</td>\n      <td>...</td>\n      <td>0.0</td>\n      <td>0.0</td>\n      <td>0.0</td>\n      <td>0.000000</td>\n      <td>0.00</td>\n      <td>0.00</td>\n      <td>0.000000</td>\n      <td>0.000000</td>\n      <td>0.0</td>\n      <td>0.022222</td>\n    </tr>\n    <tr>\n      <th>1</th>\n      <td>M7A</td>\n      <td>Downtown Toronto</td>\n      <td>Queen's Park, Ontario Provincial Government</td>\n      <td>43.662301</td>\n      <td>-79.389494</td>\n      <td>0</td>\n      <td>0.0</td>\n      <td>0.0</td>\n      <td>0.0</td>\n      <td>0.0</td>\n      <td>...</td>\n      <td>0.0</td>\n      <td>0.0</td>\n      <td>0.0</td>\n      <td>0.000000</td>\n      <td>0.00</td>\n      <td>0.00</td>\n      <td>0.000000</td>\n      <td>0.029412</td>\n      <td>0.0</td>\n      <td>0.029412</td>\n    </tr>\n    <tr>\n      <th>2</th>\n      <td>M5B</td>\n      <td>Downtown Toronto</td>\n      <td>Garden District, Ryerson</td>\n      <td>43.657162</td>\n      <td>-79.378937</td>\n      <td>0</td>\n      <td>0.0</td>\n      <td>0.0</td>\n      <td>0.0</td>\n      <td>0.0</td>\n      <td>...</td>\n      <td>0.0</td>\n      <td>0.0</td>\n      <td>0.0</td>\n      <td>0.000000</td>\n      <td>0.01</td>\n      <td>0.01</td>\n      <td>0.000000</td>\n      <td>0.000000</td>\n      <td>0.0</td>\n      <td>0.000000</td>\n    </tr>\n    <tr>\n      <th>3</th>\n      <td>M5C</td>\n      <td>Downtown Toronto</td>\n      <td>St. James Town</td>\n      <td>43.651494</td>\n      <td>-79.375418</td>\n      <td>0</td>\n      <td>0.0</td>\n      <td>0.0</td>\n      <td>0.0</td>\n      <td>0.0</td>\n      <td>...</td>\n      <td>0.0</td>\n      <td>0.0</td>\n      <td>0.0</td>\n      <td>0.013158</td>\n      <td>0.00</td>\n      <td>0.00</td>\n      <td>0.013158</td>\n      <td>0.000000</td>\n      <td>0.0</td>\n      <td>0.000000</td>\n    </tr>\n    <tr>\n      <th>4</th>\n      <td>M4E</td>\n      <td>East Toronto</td>\n      <td>The Beaches</td>\n      <td>43.676357</td>\n      <td>-79.293031</td>\n      <td>3</td>\n      <td>0.0</td>\n      <td>0.0</td>\n      <td>0.0</td>\n      <td>0.0</td>\n      <td>...</td>\n      <td>0.0</td>\n      <td>0.2</td>\n      <td>0.0</td>\n      <td>0.000000</td>\n      <td>0.00</td>\n      <td>0.00</td>\n      <td>0.000000</td>\n      <td>0.000000</td>\n      <td>0.0</td>\n      <td>0.000000</td>\n    </tr>\n  </tbody>\n</table>\n<p>5 rows × 238 columns</p>\n</div>"
     },
     "metadata": {},
     "output_type": "execute_result",
     "execution_count": 23
    }
   ],
   "source": [
    "toronto_grouped.insert(0, 'Cluster Labels', kmeans.labels_)\n",
    "\n",
    "# left join\n",
    "toronto_merged = pd.merge(toronto_df, toronto_grouped, how='left', left_on='Neighborhood', right_on='Neighbourhood')\n",
    "\n",
    "# delete duplicate column\n",
    "toronto_merged.drop(['Neighbourhood'], axis=1, inplace=True)\n",
    "\n",
    "# Rename Column\n",
    "\n",
    "toronto_merged.rename(columns={'Neighborhood_x': 'Neighborhood'}, inplace=True)\n",
    "\n",
    "toronto_merged.head()"
   ],
   "metadata": {
    "collapsed": false,
    "pycharm": {
     "name": "#%%\n",
     "is_executing": false
    }
   }
  },
  {
   "cell_type": "code",
   "execution_count": 24,
   "outputs": [
    {
     "data": {
      "text/plain": "(39, 238)"
     },
     "metadata": {},
     "output_type": "execute_result",
     "execution_count": 24
    }
   ],
   "source": [
    "# Check the shape of our new data\n",
    "toronto_merged.shape"
   ],
   "metadata": {
    "collapsed": false,
    "pycharm": {
     "name": "#%%\n",
     "is_executing": false
    }
   }
  },
  {
   "cell_type": "markdown",
   "source": [
    "Visualize the resulting clusters\n",
    "\n"
   ],
   "metadata": {
    "collapsed": false,
    "pycharm": {
     "name": "#%% md\n"
    }
   }
  },
  {
   "cell_type": "code",
   "execution_count": 26,
   "outputs": [
    {
     "data": {
      "text/plain": "<folium.folium.Map at 0x1bd5468a0f0>",
      "text/html": "<div style=\"width:100%;\"><div style=\"position:relative;width:100%;height:0;padding-bottom:60%;\"><span style=\"color:#565656\">Make this Notebook Trusted to load map: File -> Trust Notebook</span><iframe src=\"about:blank\" style=\"position:absolute;width:100%;height:100%;left:0;top:0;border:none !important;\" data-html=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 onload=\"this.contentDocument.open();this.contentDocument.write(atob(this.getAttribute('data-html')));this.contentDocument.close();\" allowfullscreen webkitallowfullscreen mozallowfullscreen></iframe></div></div>"
     },
     "metadata": {},
     "output_type": "execute_result",
     "execution_count": 26
    }
   ],
   "source": [
    "# create map\n",
    "\n",
    "map_clusters = folium.Map(location=[latitude, longitude], zoom_start=11)\n",
    "\n",
    "# set color scheme for clusters\n",
    "x = np.arange(kclusters)\n",
    "ys = [i + x + (i*x)**2 for i in range(kclusters)]\n",
    "colors_array = cm.rainbow(np.linspace(0, 1, len(ys)))\n",
    "rainbow = [colors.rgb2hex(i) for i in colors_array]\n",
    "\n",
    "# add markers to map\n",
    "marker_colors = []\n",
    "for lat, lon, poi, cluster in zip(\n",
    "    toronto_merged['latitude'],\n",
    "    toronto_merged['longitude'],\n",
    "    toronto_merged['Neighborhood'],\n",
    "    toronto_merged['Cluster Labels']):\n",
    "        label = folium.Popup(str(poi) + ' Cluster ' + str(cluster), parse_html=True)\n",
    "        folium.CircleMarker(\n",
    "            [lat, lon],\n",
    "            radius = 5,\n",
    "            popup = label,\n",
    "            color = rainbow[cluster-1],\n",
    "            fill = True,\n",
    "            fill_color = rainbow[cluster-1],\n",
    "            fill_opacity = 0.7\n",
    "        ).add_to(map_clusters)\n",
    "        \n",
    "map_clusters\n",
    "\n"
   ],
   "metadata": {
    "collapsed": false,
    "pycharm": {
     "name": "#%%\n",
     "is_executing": false
    }
   }
  }
 ],
 "metadata": {
  "kernelspec": {
   "display_name": "PyCharm (Coursera_Capstone)",
   "language": "python",
   "name": "pycharm-f17b9cc"
  },
  "language_info": {
   "codemirror_mode": {
    "name": "ipython",
    "version": 3
   },
   "file_extension": ".py",
   "mimetype": "text/x-python",
   "name": "python",
   "nbconvert_exporter": "python",
   "pygments_lexer": "ipython3",
   "version": "3.7.0"
  },
  "pycharm": {
   "stem_cell": {
    "cell_type": "raw",
    "source": [],
    "metadata": {
     "collapsed": false
    }
   }
  }
 },
 "nbformat": 4,
 "nbformat_minor": 1
}