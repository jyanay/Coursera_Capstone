{
 "cells": [
  {
   "cell_type": "markdown",
   "metadata": {
    "collapsed": true,
    "pycharm": {
     "name": "#%% md\n"
    }
   },
   "source": [
    "# Final Assigment - Coursera Capstone\n",
    "\n",
    "Processing Data for Final Project\n"
   ]
  },
  {
   "cell_type": "markdown",
   "source": [
    "Import Libraries"
   ],
   "metadata": {
    "collapsed": false
   }
  },
  {
   "cell_type": "code",
   "execution_count": 1,
   "outputs": [],
   "source": [
    "import pandas as pd"
   ],
   "metadata": {
    "collapsed": false,
    "pycharm": {
     "name": "#%%\n",
     "is_executing": false
    }
   }
  },
  {
   "cell_type": "code",
   "execution_count": 14,
   "outputs": [],
   "source": [
    "# Read in Property Value Data\n",
    "\n",
    "property_values = pd.read_csv(\"Property_Assessments.csv\")"
   ],
   "metadata": {
    "collapsed": false,
    "pycharm": {
     "name": "#%%\n",
     "is_executing": false
    }
   }
  },
  {
   "cell_type": "code",
   "execution_count": 15,
   "outputs": [
    {
     "data": {
      "text/plain": "   ROLL_YEAR ASSESSMENT_CLASS  RE_ASSESSED_VALUE        COMM_NAME   LATITUDE  \\\n0       2019               RE           695000.0  DISCOVERY RIDGE  51.020122   \n1       2019               RE           521000.0       BRIDLEWOOD  50.904238   \n2       2019               RE           326500.0          BOWNESS  51.086314   \n3       2019               RE           543000.0      COPPERFIELD  50.911999   \n4       2019               RE           375000.0         CRANSTON  50.885375   \n\n    LONGITUDE  \n0 -114.221170  \n1 -114.119406  \n2 -114.196573  \n3 -113.930274  \n4 -113.972927  ",
      "text/html": "<div>\n<style scoped>\n    .dataframe tbody tr th:only-of-type {\n        vertical-align: middle;\n    }\n\n    .dataframe tbody tr th {\n        vertical-align: top;\n    }\n\n    .dataframe thead th {\n        text-align: right;\n    }\n</style>\n<table border=\"1\" class=\"dataframe\">\n  <thead>\n    <tr style=\"text-align: right;\">\n      <th></th>\n      <th>ROLL_YEAR</th>\n      <th>ASSESSMENT_CLASS</th>\n      <th>RE_ASSESSED_VALUE</th>\n      <th>COMM_NAME</th>\n      <th>LATITUDE</th>\n      <th>LONGITUDE</th>\n    </tr>\n  </thead>\n  <tbody>\n    <tr>\n      <th>0</th>\n      <td>2019</td>\n      <td>RE</td>\n      <td>695000.0</td>\n      <td>DISCOVERY RIDGE</td>\n      <td>51.020122</td>\n      <td>-114.221170</td>\n    </tr>\n    <tr>\n      <th>1</th>\n      <td>2019</td>\n      <td>RE</td>\n      <td>521000.0</td>\n      <td>BRIDLEWOOD</td>\n      <td>50.904238</td>\n      <td>-114.119406</td>\n    </tr>\n    <tr>\n      <th>2</th>\n      <td>2019</td>\n      <td>RE</td>\n      <td>326500.0</td>\n      <td>BOWNESS</td>\n      <td>51.086314</td>\n      <td>-114.196573</td>\n    </tr>\n    <tr>\n      <th>3</th>\n      <td>2019</td>\n      <td>RE</td>\n      <td>543000.0</td>\n      <td>COPPERFIELD</td>\n      <td>50.911999</td>\n      <td>-113.930274</td>\n    </tr>\n    <tr>\n      <th>4</th>\n      <td>2019</td>\n      <td>RE</td>\n      <td>375000.0</td>\n      <td>CRANSTON</td>\n      <td>50.885375</td>\n      <td>-113.972927</td>\n    </tr>\n  </tbody>\n</table>\n</div>"
     },
     "metadata": {},
     "output_type": "execute_result",
     "execution_count": 15
    }
   ],
   "source": [
    "# Drop columns we won't be using\n",
    "\n",
    "property_values.drop(columns=['ROLL_NUMBER', 'ASSESSMENT_CLASS_DESCRIPTION', 'ADDRESS',\n",
    "                              'NR_ASSESSED_VALUE', 'FL_ASSESSED_VALUE','UNIQUE_KEY', 'YEAR_OF_CONSTRUCTION',\n",
    "                              'COMM_CODE', 'ASSESSED_VALUE', 'location'], inplace=True)\n",
    "\n",
    "property_values.head()"
   ],
   "metadata": {
    "collapsed": false,
    "pycharm": {
     "name": "#%%\n",
     "is_executing": false
    }
   }
  },
  {
   "cell_type": "code",
   "execution_count": 16,
   "outputs": [],
   "source": [
    "# Remove all assessments that aren't from 2019\n",
    "\n",
    "property_values.drop(property_values.loc[property_values['ROLL_YEAR'] != 2019].index, inplace=True)\n",
    "\n",
    "# Remove all non-residential assessments\n",
    "\n",
    "property_values.drop(property_values.loc[property_values['ASSESSMENT_CLASS'] != 'RE'].index, inplace=True)\n"
   ],
   "metadata": {
    "collapsed": false,
    "pycharm": {
     "name": "#%%\n",
     "is_executing": false
    }
   }
  },
  {
   "cell_type": "code",
   "execution_count": 18,
   "outputs": [
    {
     "name": "stdout",
     "text": [
      "<class 'pandas.core.frame.DataFrame'>\n",
      "Int64Index: 513370 entries, 0 to 7312966\n",
      "Data columns (total 6 columns):\n",
      " #   Column             Non-Null Count   Dtype  \n",
      "---  ------             --------------   -----  \n",
      " 0   ROLL_YEAR          513370 non-null  int64  \n",
      " 1   ASSESSMENT_CLASS   513370 non-null  object \n",
      " 2   RE_ASSESSED_VALUE  512996 non-null  float64\n",
      " 3   COMM_NAME          513370 non-null  object \n",
      " 4   LATITUDE           505421 non-null  float64\n",
      " 5   LONGITUDE          505421 non-null  float64\n",
      "dtypes: float64(3), int64(1), object(2)\n",
      "memory usage: 47.4+ MB\n",
      "<class 'pandas.core.frame.DataFrame'>\n",
      "Int64Index: 505047 entries, 0 to 7312966\n",
      "Data columns (total 6 columns):\n",
      " #   Column             Non-Null Count   Dtype  \n",
      "---  ------             --------------   -----  \n",
      " 0   ROLL_YEAR          505047 non-null  int64  \n",
      " 1   ASSESSMENT_CLASS   505047 non-null  object \n",
      " 2   RE_ASSESSED_VALUE  505047 non-null  float64\n",
      " 3   COMM_NAME          505047 non-null  object \n",
      " 4   LATITUDE           505047 non-null  float64\n",
      " 5   LONGITUDE          505047 non-null  float64\n",
      "dtypes: float64(3), int64(1), object(2)\n",
      "memory usage: 27.0+ MB\n"
     ],
     "output_type": "stream"
    }
   ],
   "source": [
    "# Examine our dataset\n",
    "property_values.info()\n",
    "\n",
    "# We've got null values so lets get rid of all of those\n",
    "\n",
    "property_values = property_values.dropna(how='any', axis=0)\n",
    "\n",
    "# Lets see what the data looks like now\n",
    "\n",
    "property_values.info()"
   ],
   "metadata": {
    "collapsed": false,
    "pycharm": {
     "name": "#%%\n",
     "is_executing": false
    }
   }
  },
  {
   "cell_type": "code",
   "execution_count": 19,
   "outputs": [
    {
     "data": {
      "text/plain": "   ROLL_YEAR ASSESSMENT_CLASS  RE_ASSESSED_VALUE        COMM_NAME   LATITUDE  \\\n0       2019               RE           695000.0  DISCOVERY RIDGE  51.020122   \n1       2019               RE           521000.0       BRIDLEWOOD  50.904238   \n2       2019               RE           326500.0          BOWNESS  51.086314   \n3       2019               RE           543000.0      COPPERFIELD  50.911999   \n4       2019               RE           375000.0         CRANSTON  50.885375   \n\n    LONGITUDE  \n0 -114.221170  \n1 -114.119406  \n2 -114.196573  \n3 -113.930274  \n4 -113.972927  ",
      "text/html": "<div>\n<style scoped>\n    .dataframe tbody tr th:only-of-type {\n        vertical-align: middle;\n    }\n\n    .dataframe tbody tr th {\n        vertical-align: top;\n    }\n\n    .dataframe thead th {\n        text-align: right;\n    }\n</style>\n<table border=\"1\" class=\"dataframe\">\n  <thead>\n    <tr style=\"text-align: right;\">\n      <th></th>\n      <th>ROLL_YEAR</th>\n      <th>ASSESSMENT_CLASS</th>\n      <th>RE_ASSESSED_VALUE</th>\n      <th>COMM_NAME</th>\n      <th>LATITUDE</th>\n      <th>LONGITUDE</th>\n    </tr>\n  </thead>\n  <tbody>\n    <tr>\n      <th>0</th>\n      <td>2019</td>\n      <td>RE</td>\n      <td>695000.0</td>\n      <td>DISCOVERY RIDGE</td>\n      <td>51.020122</td>\n      <td>-114.221170</td>\n    </tr>\n    <tr>\n      <th>1</th>\n      <td>2019</td>\n      <td>RE</td>\n      <td>521000.0</td>\n      <td>BRIDLEWOOD</td>\n      <td>50.904238</td>\n      <td>-114.119406</td>\n    </tr>\n    <tr>\n      <th>2</th>\n      <td>2019</td>\n      <td>RE</td>\n      <td>326500.0</td>\n      <td>BOWNESS</td>\n      <td>51.086314</td>\n      <td>-114.196573</td>\n    </tr>\n    <tr>\n      <th>3</th>\n      <td>2019</td>\n      <td>RE</td>\n      <td>543000.0</td>\n      <td>COPPERFIELD</td>\n      <td>50.911999</td>\n      <td>-113.930274</td>\n    </tr>\n    <tr>\n      <th>4</th>\n      <td>2019</td>\n      <td>RE</td>\n      <td>375000.0</td>\n      <td>CRANSTON</td>\n      <td>50.885375</td>\n      <td>-113.972927</td>\n    </tr>\n  </tbody>\n</table>\n</div>"
     },
     "metadata": {},
     "output_type": "execute_result",
     "execution_count": 19
    }
   ],
   "source": [
    "# Drop all rows that have NaN values\n",
    "property_values = property_values.dropna()\n",
    "property_values = property_values.reset_index(drop=True)\n",
    "\n",
    "property_values.head(5)\n"
   ],
   "metadata": {
    "collapsed": false,
    "pycharm": {
     "name": "#%%\n",
     "is_executing": false
    }
   }
  },
  {
   "cell_type": "code",
   "execution_count": 30,
   "outputs": [
    {
     "data": {
      "text/plain": "BELTLINE          19380\nPANORAMA HILLS     9089\nMCKENZIE TOWNE     8525\nEVERGREEN          8202\nCRANSTON           7794\n                  ...  \nROXBORO             163\nBEL-AIRE            158\nMAYFAIR             157\nYORKVILLE           141\nEAGLE RIDGE         107\nName: COMM_NAME, Length: 199, dtype: int64"
     },
     "metadata": {},
     "output_type": "execute_result",
     "execution_count": 30
    }
   ],
   "source": [
    "# Drop all neighborhoods with under 103 entries\n",
    "counts = property_values['COMM_NAME'].value_counts()\n",
    "pvdf = property_values[~property_values['COMM_NAME'].isin(counts[counts < 103].index)]\n",
    "\n",
    "pvdf['COMM_NAME'].value_counts()"
   ],
   "metadata": {
    "collapsed": false,
    "pycharm": {
     "name": "#%%\n",
     "is_executing": false
    }
   }
  },
  {
   "cell_type": "code",
   "execution_count": 43,
   "outputs": [
    {
     "data": {
      "text/plain": "                                 Value   LATITUDE   LONGITUDE\nNeighborhood                                                 \nABBEYDALE                     300000.0  51.058941 -113.929649\nACADIA                        405500.0  50.972799 -114.058883\nALBERT PARK/RADISSON HEIGHTS  310000.0  51.041720 -113.995064\nALTADORE                      775250.0  51.018423 -114.104126\nAPPLEWOOD PARK                347250.0  51.043497 -113.927941",
      "text/html": "<div>\n<style scoped>\n    .dataframe tbody tr th:only-of-type {\n        vertical-align: middle;\n    }\n\n    .dataframe tbody tr th {\n        vertical-align: top;\n    }\n\n    .dataframe thead th {\n        text-align: right;\n    }\n</style>\n<table border=\"1\" class=\"dataframe\">\n  <thead>\n    <tr style=\"text-align: right;\">\n      <th></th>\n      <th>Value</th>\n      <th>LATITUDE</th>\n      <th>LONGITUDE</th>\n    </tr>\n    <tr>\n      <th>Neighborhood</th>\n      <th></th>\n      <th></th>\n      <th></th>\n    </tr>\n  </thead>\n  <tbody>\n    <tr>\n      <th>ABBEYDALE</th>\n      <td>300000.0</td>\n      <td>51.058941</td>\n      <td>-113.929649</td>\n    </tr>\n    <tr>\n      <th>ACADIA</th>\n      <td>405500.0</td>\n      <td>50.972799</td>\n      <td>-114.058883</td>\n    </tr>\n    <tr>\n      <th>ALBERT PARK/RADISSON HEIGHTS</th>\n      <td>310000.0</td>\n      <td>51.041720</td>\n      <td>-113.995064</td>\n    </tr>\n    <tr>\n      <th>ALTADORE</th>\n      <td>775250.0</td>\n      <td>51.018423</td>\n      <td>-114.104126</td>\n    </tr>\n    <tr>\n      <th>APPLEWOOD PARK</th>\n      <td>347250.0</td>\n      <td>51.043497</td>\n      <td>-113.927941</td>\n    </tr>\n  </tbody>\n</table>\n</div>"
     },
     "metadata": {},
     "output_type": "execute_result",
     "execution_count": 43
    }
   ],
   "source": [
    "# Let's rename our columns to clean it up, we'll also drop ROLL_YEAR now that we don't need to sort by it\n",
    "\n",
    "pvdf.drop(columns=\"ROLL_YEAR\", inplace=True)\n",
    "\n",
    "pvdf.rename(columns={'COMM_NAME': 'Neighborhood', 'RE_ASSESSED_VALUE': 'Value'}, inplace=True)\n",
    "\n",
    "# Now we'll group by median home price\n",
    "\n",
    "median_prices = pvdf.groupby(['Neighborhood']).median()\n",
    "\n",
    "# Let's take a look\n",
    "\n",
    "median_prices.head()"
   ],
   "metadata": {
    "collapsed": false,
    "pycharm": {
     "name": "#%%\n",
     "is_executing": false
    }
   }
  },
  {
   "cell_type": "markdown",
   "source": [
    "Now we've got our dataset ready, let's export it as a csv for use in our next notebook.\n"
   ],
   "metadata": {
    "collapsed": false
   }
  },
  {
   "cell_type": "code",
   "execution_count": 45,
   "outputs": [],
   "source": [
    "# Export the data as a CSV\n",
    "\n",
    "median_prices.to_csv('property_values.csv')\n"
   ],
   "metadata": {
    "collapsed": false,
    "pycharm": {
     "name": "#%%\n",
     "is_executing": false
    }
   }
  }
 ],
 "metadata": {
  "kernelspec": {
   "display_name": "Python 3",
   "language": "python",
   "name": "python3"
  },
  "language_info": {
   "codemirror_mode": {
    "name": "ipython",
    "version": 2
   },
   "file_extension": ".py",
   "mimetype": "text/x-python",
   "name": "python",
   "nbconvert_exporter": "python",
   "pygments_lexer": "ipython2",
   "version": "2.7.6"
  },
  "pycharm": {
   "stem_cell": {
    "cell_type": "raw",
    "source": [],
    "metadata": {
     "collapsed": false
    }
   }
  }
 },
 "nbformat": 4,
 "nbformat_minor": 0
}